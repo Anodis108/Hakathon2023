{
  "cells": [
    {
      "cell_type": "code",
      "execution_count": 2,
      "metadata": {},
      "outputs": [
        {
          "name": "stderr",
          "output_type": "stream",
          "text": [
            "\n",
            "video 1/1 (1/900) d:\\A_HIT_AI\\Hackathon\\new\\Video_Phase1\\Doto_103.mp4: 384x640 10 persons, 1307.1ms\n"
          ]
        },
        {
          "name": "stdout",
          "output_type": "stream",
          "text": [
            "10\n"
          ]
        },
        {
          "name": "stderr",
          "output_type": "stream",
          "text": [
            "video 1/1 (2/900) d:\\A_HIT_AI\\Hackathon\\new\\Video_Phase1\\Doto_103.mp4: 384x640 10 persons, 1472.4ms\n"
          ]
        },
        {
          "name": "stdout",
          "output_type": "stream",
          "text": [
            "10\n"
          ]
        },
        {
          "name": "stderr",
          "output_type": "stream",
          "text": [
            "video 1/1 (3/900) d:\\A_HIT_AI\\Hackathon\\new\\Video_Phase1\\Doto_103.mp4: 384x640 12 persons, 1092.9ms\n"
          ]
        },
        {
          "name": "stdout",
          "output_type": "stream",
          "text": [
            "12\n"
          ]
        },
        {
          "name": "stderr",
          "output_type": "stream",
          "text": [
            "video 1/1 (4/900) d:\\A_HIT_AI\\Hackathon\\new\\Video_Phase1\\Doto_103.mp4: 384x640 10 persons, 1018.5ms\n"
          ]
        },
        {
          "name": "stdout",
          "output_type": "stream",
          "text": [
            "10\n"
          ]
        },
        {
          "name": "stderr",
          "output_type": "stream",
          "text": [
            "video 1/1 (5/900) d:\\A_HIT_AI\\Hackathon\\new\\Video_Phase1\\Doto_103.mp4: 384x640 11 persons, 922.9ms\n"
          ]
        },
        {
          "name": "stdout",
          "output_type": "stream",
          "text": [
            "11\n"
          ]
        },
        {
          "name": "stderr",
          "output_type": "stream",
          "text": [
            "video 1/1 (6/900) d:\\A_HIT_AI\\Hackathon\\new\\Video_Phase1\\Doto_103.mp4: 384x640 13 persons, 897.0ms\n"
          ]
        },
        {
          "name": "stdout",
          "output_type": "stream",
          "text": [
            "13\n"
          ]
        },
        {
          "name": "stderr",
          "output_type": "stream",
          "text": [
            "video 1/1 (7/900) d:\\A_HIT_AI\\Hackathon\\new\\Video_Phase1\\Doto_103.mp4: 384x640 13 persons, 909.9ms\n"
          ]
        },
        {
          "name": "stdout",
          "output_type": "stream",
          "text": [
            "13\n"
          ]
        },
        {
          "name": "stderr",
          "output_type": "stream",
          "text": [
            "video 1/1 (8/900) d:\\A_HIT_AI\\Hackathon\\new\\Video_Phase1\\Doto_103.mp4: 384x640 13 persons, 915.6ms\n"
          ]
        },
        {
          "name": "stdout",
          "output_type": "stream",
          "text": [
            "13\n"
          ]
        },
        {
          "name": "stderr",
          "output_type": "stream",
          "text": [
            "video 1/1 (9/900) d:\\A_HIT_AI\\Hackathon\\new\\Video_Phase1\\Doto_103.mp4: 384x640 14 persons, 1188.2ms\n"
          ]
        },
        {
          "name": "stdout",
          "output_type": "stream",
          "text": [
            "14\n"
          ]
        },
        {
          "name": "stderr",
          "output_type": "stream",
          "text": [
            "video 1/1 (10/900) d:\\A_HIT_AI\\Hackathon\\new\\Video_Phase1\\Doto_103.mp4: 384x640 14 persons, 960.5ms\n"
          ]
        },
        {
          "name": "stdout",
          "output_type": "stream",
          "text": [
            "14\n"
          ]
        },
        {
          "name": "stderr",
          "output_type": "stream",
          "text": [
            "video 1/1 (11/900) d:\\A_HIT_AI\\Hackathon\\new\\Video_Phase1\\Doto_103.mp4: 384x640 14 persons, 923.0ms\n"
          ]
        },
        {
          "name": "stdout",
          "output_type": "stream",
          "text": [
            "14\n"
          ]
        },
        {
          "name": "stderr",
          "output_type": "stream",
          "text": [
            "video 1/1 (12/900) d:\\A_HIT_AI\\Hackathon\\new\\Video_Phase1\\Doto_103.mp4: 384x640 14 persons, 936.6ms\n"
          ]
        },
        {
          "name": "stdout",
          "output_type": "stream",
          "text": [
            "14\n"
          ]
        },
        {
          "name": "stderr",
          "output_type": "stream",
          "text": [
            "video 1/1 (13/900) d:\\A_HIT_AI\\Hackathon\\new\\Video_Phase1\\Doto_103.mp4: 384x640 15 persons, 943.4ms\n"
          ]
        },
        {
          "name": "stdout",
          "output_type": "stream",
          "text": [
            "15\n"
          ]
        },
        {
          "name": "stderr",
          "output_type": "stream",
          "text": [
            "video 1/1 (14/900) d:\\A_HIT_AI\\Hackathon\\new\\Video_Phase1\\Doto_103.mp4: 384x640 14 persons, 887.8ms\n"
          ]
        },
        {
          "name": "stdout",
          "output_type": "stream",
          "text": [
            "14\n"
          ]
        },
        {
          "name": "stderr",
          "output_type": "stream",
          "text": [
            "video 1/1 (15/900) d:\\A_HIT_AI\\Hackathon\\new\\Video_Phase1\\Doto_103.mp4: 384x640 15 persons, 945.5ms\n"
          ]
        },
        {
          "name": "stdout",
          "output_type": "stream",
          "text": [
            "15\n"
          ]
        },
        {
          "name": "stderr",
          "output_type": "stream",
          "text": [
            "video 1/1 (16/900) d:\\A_HIT_AI\\Hackathon\\new\\Video_Phase1\\Doto_103.mp4: 384x640 16 persons, 903.3ms\n"
          ]
        },
        {
          "name": "stdout",
          "output_type": "stream",
          "text": [
            "16\n"
          ]
        },
        {
          "name": "stderr",
          "output_type": "stream",
          "text": [
            "video 1/1 (17/900) d:\\A_HIT_AI\\Hackathon\\new\\Video_Phase1\\Doto_103.mp4: 384x640 16 persons, 933.5ms\n"
          ]
        },
        {
          "name": "stdout",
          "output_type": "stream",
          "text": [
            "16\n"
          ]
        },
        {
          "name": "stderr",
          "output_type": "stream",
          "text": [
            "video 1/1 (18/900) d:\\A_HIT_AI\\Hackathon\\new\\Video_Phase1\\Doto_103.mp4: 384x640 15 persons, 973.7ms\n"
          ]
        },
        {
          "name": "stdout",
          "output_type": "stream",
          "text": [
            "15\n"
          ]
        },
        {
          "name": "stderr",
          "output_type": "stream",
          "text": [
            "video 1/1 (19/900) d:\\A_HIT_AI\\Hackathon\\new\\Video_Phase1\\Doto_103.mp4: 384x640 17 persons, 1016.5ms\n"
          ]
        },
        {
          "name": "stdout",
          "output_type": "stream",
          "text": [
            "17\n"
          ]
        },
        {
          "name": "stderr",
          "output_type": "stream",
          "text": [
            "video 1/1 (20/900) d:\\A_HIT_AI\\Hackathon\\new\\Video_Phase1\\Doto_103.mp4: 384x640 13 persons, 937.4ms\n"
          ]
        },
        {
          "name": "stdout",
          "output_type": "stream",
          "text": [
            "13\n"
          ]
        },
        {
          "name": "stderr",
          "output_type": "stream",
          "text": [
            "video 1/1 (21/900) d:\\A_HIT_AI\\Hackathon\\new\\Video_Phase1\\Doto_103.mp4: 384x640 13 persons, 945.2ms\n"
          ]
        },
        {
          "name": "stdout",
          "output_type": "stream",
          "text": [
            "13\n"
          ]
        },
        {
          "name": "stderr",
          "output_type": "stream",
          "text": [
            "video 1/1 (22/900) d:\\A_HIT_AI\\Hackathon\\new\\Video_Phase1\\Doto_103.mp4: 384x640 13 persons, 919.8ms\n"
          ]
        },
        {
          "name": "stdout",
          "output_type": "stream",
          "text": [
            "13\n"
          ]
        },
        {
          "name": "stderr",
          "output_type": "stream",
          "text": [
            "video 1/1 (23/900) d:\\A_HIT_AI\\Hackathon\\new\\Video_Phase1\\Doto_103.mp4: 384x640 13 persons, 961.2ms\n"
          ]
        },
        {
          "name": "stdout",
          "output_type": "stream",
          "text": [
            "13\n"
          ]
        },
        {
          "name": "stderr",
          "output_type": "stream",
          "text": [
            "video 1/1 (24/900) d:\\A_HIT_AI\\Hackathon\\new\\Video_Phase1\\Doto_103.mp4: 384x640 13 persons, 952.5ms\n"
          ]
        },
        {
          "name": "stdout",
          "output_type": "stream",
          "text": [
            "13\n"
          ]
        },
        {
          "name": "stderr",
          "output_type": "stream",
          "text": [
            "video 1/1 (25/900) d:\\A_HIT_AI\\Hackathon\\new\\Video_Phase1\\Doto_103.mp4: 384x640 13 persons, 1194.6ms\n"
          ]
        },
        {
          "name": "stdout",
          "output_type": "stream",
          "text": [
            "13\n"
          ]
        },
        {
          "name": "stderr",
          "output_type": "stream",
          "text": [
            "video 1/1 (26/900) d:\\A_HIT_AI\\Hackathon\\new\\Video_Phase1\\Doto_103.mp4: 384x640 14 persons, 1178.6ms\n"
          ]
        },
        {
          "name": "stdout",
          "output_type": "stream",
          "text": [
            "14\n"
          ]
        },
        {
          "name": "stderr",
          "output_type": "stream",
          "text": [
            "video 1/1 (27/900) d:\\A_HIT_AI\\Hackathon\\new\\Video_Phase1\\Doto_103.mp4: 384x640 15 persons, 1014.9ms\n"
          ]
        },
        {
          "name": "stdout",
          "output_type": "stream",
          "text": [
            "15\n"
          ]
        },
        {
          "name": "stderr",
          "output_type": "stream",
          "text": [
            "video 1/1 (28/900) d:\\A_HIT_AI\\Hackathon\\new\\Video_Phase1\\Doto_103.mp4: 384x640 16 persons, 1080.3ms\n"
          ]
        },
        {
          "name": "stdout",
          "output_type": "stream",
          "text": [
            "16\n"
          ]
        },
        {
          "name": "stderr",
          "output_type": "stream",
          "text": [
            "video 1/1 (29/900) d:\\A_HIT_AI\\Hackathon\\new\\Video_Phase1\\Doto_103.mp4: 384x640 16 persons, 949.5ms\n"
          ]
        },
        {
          "name": "stdout",
          "output_type": "stream",
          "text": [
            "16\n"
          ]
        },
        {
          "name": "stderr",
          "output_type": "stream",
          "text": [
            "video 1/1 (30/900) d:\\A_HIT_AI\\Hackathon\\new\\Video_Phase1\\Doto_103.mp4: 384x640 17 persons, 936.0ms\n"
          ]
        },
        {
          "name": "stdout",
          "output_type": "stream",
          "text": [
            "17\n"
          ]
        },
        {
          "name": "stderr",
          "output_type": "stream",
          "text": [
            "video 1/1 (31/900) d:\\A_HIT_AI\\Hackathon\\new\\Video_Phase1\\Doto_103.mp4: 384x640 16 persons, 1120.0ms\n"
          ]
        },
        {
          "name": "stdout",
          "output_type": "stream",
          "text": [
            "16\n"
          ]
        },
        {
          "name": "stderr",
          "output_type": "stream",
          "text": [
            "video 1/1 (32/900) d:\\A_HIT_AI\\Hackathon\\new\\Video_Phase1\\Doto_103.mp4: 384x640 16 persons, 934.6ms\n"
          ]
        },
        {
          "name": "stdout",
          "output_type": "stream",
          "text": [
            "16\n"
          ]
        },
        {
          "name": "stderr",
          "output_type": "stream",
          "text": [
            "video 1/1 (33/900) d:\\A_HIT_AI\\Hackathon\\new\\Video_Phase1\\Doto_103.mp4: 384x640 16 persons, 1007.0ms\n"
          ]
        },
        {
          "name": "stdout",
          "output_type": "stream",
          "text": [
            "16\n"
          ]
        },
        {
          "name": "stderr",
          "output_type": "stream",
          "text": [
            "video 1/1 (34/900) d:\\A_HIT_AI\\Hackathon\\new\\Video_Phase1\\Doto_103.mp4: 384x640 15 persons, 939.6ms\n"
          ]
        },
        {
          "name": "stdout",
          "output_type": "stream",
          "text": [
            "15\n"
          ]
        },
        {
          "name": "stderr",
          "output_type": "stream",
          "text": [
            "video 1/1 (35/900) d:\\A_HIT_AI\\Hackathon\\new\\Video_Phase1\\Doto_103.mp4: 384x640 15 persons, 960.3ms\n"
          ]
        },
        {
          "name": "stdout",
          "output_type": "stream",
          "text": [
            "15\n"
          ]
        },
        {
          "name": "stderr",
          "output_type": "stream",
          "text": [
            "video 1/1 (36/900) d:\\A_HIT_AI\\Hackathon\\new\\Video_Phase1\\Doto_103.mp4: 384x640 15 persons, 949.4ms\n"
          ]
        },
        {
          "name": "stdout",
          "output_type": "stream",
          "text": [
            "15\n"
          ]
        },
        {
          "name": "stderr",
          "output_type": "stream",
          "text": [
            "video 1/1 (37/900) d:\\A_HIT_AI\\Hackathon\\new\\Video_Phase1\\Doto_103.mp4: 384x640 13 persons, 1002.1ms\n"
          ]
        },
        {
          "name": "stdout",
          "output_type": "stream",
          "text": [
            "13\n"
          ]
        },
        {
          "name": "stderr",
          "output_type": "stream",
          "text": [
            "video 1/1 (38/900) d:\\A_HIT_AI\\Hackathon\\new\\Video_Phase1\\Doto_103.mp4: 384x640 14 persons, 989.4ms\n"
          ]
        },
        {
          "name": "stdout",
          "output_type": "stream",
          "text": [
            "14\n"
          ]
        },
        {
          "name": "stderr",
          "output_type": "stream",
          "text": [
            "video 1/1 (39/900) d:\\A_HIT_AI\\Hackathon\\new\\Video_Phase1\\Doto_103.mp4: 384x640 14 persons, 992.2ms\n"
          ]
        },
        {
          "name": "stdout",
          "output_type": "stream",
          "text": [
            "14\n"
          ]
        },
        {
          "name": "stderr",
          "output_type": "stream",
          "text": [
            "video 1/1 (40/900) d:\\A_HIT_AI\\Hackathon\\new\\Video_Phase1\\Doto_103.mp4: 384x640 13 persons, 973.0ms\n"
          ]
        },
        {
          "name": "stdout",
          "output_type": "stream",
          "text": [
            "13\n"
          ]
        },
        {
          "name": "stderr",
          "output_type": "stream",
          "text": [
            "video 1/1 (41/900) d:\\A_HIT_AI\\Hackathon\\new\\Video_Phase1\\Doto_103.mp4: 384x640 12 persons, 1244.5ms\n"
          ]
        },
        {
          "name": "stdout",
          "output_type": "stream",
          "text": [
            "12\n"
          ]
        },
        {
          "name": "stderr",
          "output_type": "stream",
          "text": [
            "video 1/1 (42/900) d:\\A_HIT_AI\\Hackathon\\new\\Video_Phase1\\Doto_103.mp4: 384x640 13 persons, 982.5ms\n"
          ]
        },
        {
          "name": "stdout",
          "output_type": "stream",
          "text": [
            "13\n"
          ]
        },
        {
          "name": "stderr",
          "output_type": "stream",
          "text": [
            "video 1/1 (43/900) d:\\A_HIT_AI\\Hackathon\\new\\Video_Phase1\\Doto_103.mp4: 384x640 14 persons, 1003.4ms\n"
          ]
        },
        {
          "name": "stdout",
          "output_type": "stream",
          "text": [
            "14\n"
          ]
        },
        {
          "name": "stderr",
          "output_type": "stream",
          "text": [
            "video 1/1 (44/900) d:\\A_HIT_AI\\Hackathon\\new\\Video_Phase1\\Doto_103.mp4: 384x640 13 persons, 969.5ms\n"
          ]
        },
        {
          "name": "stdout",
          "output_type": "stream",
          "text": [
            "13\n"
          ]
        },
        {
          "name": "stderr",
          "output_type": "stream",
          "text": [
            "video 1/1 (45/900) d:\\A_HIT_AI\\Hackathon\\new\\Video_Phase1\\Doto_103.mp4: 384x640 14 persons, 929.3ms\n"
          ]
        },
        {
          "name": "stdout",
          "output_type": "stream",
          "text": [
            "14\n"
          ]
        },
        {
          "name": "stderr",
          "output_type": "stream",
          "text": [
            "video 1/1 (46/900) d:\\A_HIT_AI\\Hackathon\\new\\Video_Phase1\\Doto_103.mp4: 384x640 13 persons, 952.9ms\n"
          ]
        },
        {
          "name": "stdout",
          "output_type": "stream",
          "text": [
            "13\n"
          ]
        },
        {
          "name": "stderr",
          "output_type": "stream",
          "text": [
            "video 1/1 (47/900) d:\\A_HIT_AI\\Hackathon\\new\\Video_Phase1\\Doto_103.mp4: 384x640 13 persons, 910.7ms\n"
          ]
        },
        {
          "name": "stdout",
          "output_type": "stream",
          "text": [
            "13\n"
          ]
        },
        {
          "name": "stderr",
          "output_type": "stream",
          "text": [
            "video 1/1 (48/900) d:\\A_HIT_AI\\Hackathon\\new\\Video_Phase1\\Doto_103.mp4: 384x640 12 persons, 962.1ms\n"
          ]
        },
        {
          "name": "stdout",
          "output_type": "stream",
          "text": [
            "12\n"
          ]
        },
        {
          "name": "stderr",
          "output_type": "stream",
          "text": [
            "video 1/1 (49/900) d:\\A_HIT_AI\\Hackathon\\new\\Video_Phase1\\Doto_103.mp4: 384x640 11 persons, 1002.8ms\n"
          ]
        },
        {
          "name": "stdout",
          "output_type": "stream",
          "text": [
            "11\n"
          ]
        },
        {
          "name": "stderr",
          "output_type": "stream",
          "text": [
            "video 1/1 (50/900) d:\\A_HIT_AI\\Hackathon\\new\\Video_Phase1\\Doto_103.mp4: 384x640 13 persons, 937.0ms\n"
          ]
        },
        {
          "name": "stdout",
          "output_type": "stream",
          "text": [
            "13\n"
          ]
        },
        {
          "name": "stderr",
          "output_type": "stream",
          "text": [
            "video 1/1 (51/900) d:\\A_HIT_AI\\Hackathon\\new\\Video_Phase1\\Doto_103.mp4: 384x640 13 persons, 911.0ms\n"
          ]
        },
        {
          "name": "stdout",
          "output_type": "stream",
          "text": [
            "13\n"
          ]
        },
        {
          "name": "stderr",
          "output_type": "stream",
          "text": [
            "video 1/1 (52/900) d:\\A_HIT_AI\\Hackathon\\new\\Video_Phase1\\Doto_103.mp4: 384x640 13 persons, 939.4ms\n"
          ]
        },
        {
          "name": "stdout",
          "output_type": "stream",
          "text": [
            "13\n"
          ]
        },
        {
          "name": "stderr",
          "output_type": "stream",
          "text": [
            "video 1/1 (53/900) d:\\A_HIT_AI\\Hackathon\\new\\Video_Phase1\\Doto_103.mp4: 384x640 13 persons, 936.2ms\n"
          ]
        },
        {
          "name": "stdout",
          "output_type": "stream",
          "text": [
            "13\n"
          ]
        },
        {
          "name": "stderr",
          "output_type": "stream",
          "text": [
            "video 1/1 (54/900) d:\\A_HIT_AI\\Hackathon\\new\\Video_Phase1\\Doto_103.mp4: 384x640 12 persons, 937.6ms\n"
          ]
        },
        {
          "name": "stdout",
          "output_type": "stream",
          "text": [
            "12\n"
          ]
        },
        {
          "name": "stderr",
          "output_type": "stream",
          "text": [
            "video 1/1 (55/900) d:\\A_HIT_AI\\Hackathon\\new\\Video_Phase1\\Doto_103.mp4: 384x640 11 persons, 1010.2ms\n"
          ]
        },
        {
          "name": "stdout",
          "output_type": "stream",
          "text": [
            "11\n"
          ]
        },
        {
          "name": "stderr",
          "output_type": "stream",
          "text": [
            "video 1/1 (56/900) d:\\A_HIT_AI\\Hackathon\\new\\Video_Phase1\\Doto_103.mp4: 384x640 11 persons, 1002.4ms\n"
          ]
        },
        {
          "name": "stdout",
          "output_type": "stream",
          "text": [
            "11\n"
          ]
        },
        {
          "name": "stderr",
          "output_type": "stream",
          "text": [
            "video 1/1 (57/900) d:\\A_HIT_AI\\Hackathon\\new\\Video_Phase1\\Doto_103.mp4: 384x640 11 persons, 1059.5ms\n"
          ]
        },
        {
          "name": "stdout",
          "output_type": "stream",
          "text": [
            "11\n"
          ]
        },
        {
          "name": "stderr",
          "output_type": "stream",
          "text": [
            "video 1/1 (58/900) d:\\A_HIT_AI\\Hackathon\\new\\Video_Phase1\\Doto_103.mp4: 384x640 12 persons, 1048.4ms\n"
          ]
        },
        {
          "name": "stdout",
          "output_type": "stream",
          "text": [
            "12\n"
          ]
        },
        {
          "name": "stderr",
          "output_type": "stream",
          "text": [
            "video 1/1 (59/900) d:\\A_HIT_AI\\Hackathon\\new\\Video_Phase1\\Doto_103.mp4: 384x640 11 persons, 1171.8ms\n"
          ]
        },
        {
          "name": "stdout",
          "output_type": "stream",
          "text": [
            "11\n"
          ]
        },
        {
          "name": "stderr",
          "output_type": "stream",
          "text": [
            "video 1/1 (60/900) d:\\A_HIT_AI\\Hackathon\\new\\Video_Phase1\\Doto_103.mp4: 384x640 12 persons, 976.9ms\n"
          ]
        },
        {
          "name": "stdout",
          "output_type": "stream",
          "text": [
            "12\n"
          ]
        },
        {
          "name": "stderr",
          "output_type": "stream",
          "text": [
            "video 1/1 (61/900) d:\\A_HIT_AI\\Hackathon\\new\\Video_Phase1\\Doto_103.mp4: 384x640 11 persons, 981.9ms\n"
          ]
        },
        {
          "name": "stdout",
          "output_type": "stream",
          "text": [
            "11\n"
          ]
        },
        {
          "name": "stderr",
          "output_type": "stream",
          "text": [
            "video 1/1 (62/900) d:\\A_HIT_AI\\Hackathon\\new\\Video_Phase1\\Doto_103.mp4: 384x640 12 persons, 970.3ms\n"
          ]
        },
        {
          "name": "stdout",
          "output_type": "stream",
          "text": [
            "12\n"
          ]
        },
        {
          "name": "stderr",
          "output_type": "stream",
          "text": [
            "video 1/1 (63/900) d:\\A_HIT_AI\\Hackathon\\new\\Video_Phase1\\Doto_103.mp4: 384x640 12 persons, 1014.6ms\n"
          ]
        },
        {
          "name": "stdout",
          "output_type": "stream",
          "text": [
            "12\n"
          ]
        },
        {
          "name": "stderr",
          "output_type": "stream",
          "text": [
            "video 1/1 (64/900) d:\\A_HIT_AI\\Hackathon\\new\\Video_Phase1\\Doto_103.mp4: 384x640 12 persons, 984.9ms\n"
          ]
        },
        {
          "name": "stdout",
          "output_type": "stream",
          "text": [
            "12\n"
          ]
        },
        {
          "name": "stderr",
          "output_type": "stream",
          "text": [
            "video 1/1 (65/900) d:\\A_HIT_AI\\Hackathon\\new\\Video_Phase1\\Doto_103.mp4: 384x640 12 persons, 997.5ms\n"
          ]
        },
        {
          "name": "stdout",
          "output_type": "stream",
          "text": [
            "12\n"
          ]
        },
        {
          "name": "stderr",
          "output_type": "stream",
          "text": [
            "video 1/1 (66/900) d:\\A_HIT_AI\\Hackathon\\new\\Video_Phase1\\Doto_103.mp4: 384x640 12 persons, 932.9ms\n"
          ]
        },
        {
          "name": "stdout",
          "output_type": "stream",
          "text": [
            "12\n"
          ]
        },
        {
          "name": "stderr",
          "output_type": "stream",
          "text": [
            "video 1/1 (67/900) d:\\A_HIT_AI\\Hackathon\\new\\Video_Phase1\\Doto_103.mp4: 384x640 12 persons, 948.1ms\n"
          ]
        },
        {
          "name": "stdout",
          "output_type": "stream",
          "text": [
            "12\n"
          ]
        },
        {
          "name": "stderr",
          "output_type": "stream",
          "text": [
            "video 1/1 (68/900) d:\\A_HIT_AI\\Hackathon\\new\\Video_Phase1\\Doto_103.mp4: 384x640 12 persons, 932.9ms\n"
          ]
        },
        {
          "name": "stdout",
          "output_type": "stream",
          "text": [
            "12\n"
          ]
        },
        {
          "name": "stderr",
          "output_type": "stream",
          "text": [
            "video 1/1 (69/900) d:\\A_HIT_AI\\Hackathon\\new\\Video_Phase1\\Doto_103.mp4: 384x640 13 persons, 972.3ms\n"
          ]
        },
        {
          "name": "stdout",
          "output_type": "stream",
          "text": [
            "13\n"
          ]
        },
        {
          "name": "stderr",
          "output_type": "stream",
          "text": [
            "video 1/1 (70/900) d:\\A_HIT_AI\\Hackathon\\new\\Video_Phase1\\Doto_103.mp4: 384x640 14 persons, 937.4ms\n"
          ]
        },
        {
          "name": "stdout",
          "output_type": "stream",
          "text": [
            "14\n"
          ]
        },
        {
          "name": "stderr",
          "output_type": "stream",
          "text": [
            "video 1/1 (71/900) d:\\A_HIT_AI\\Hackathon\\new\\Video_Phase1\\Doto_103.mp4: 384x640 14 persons, 944.0ms\n"
          ]
        },
        {
          "name": "stdout",
          "output_type": "stream",
          "text": [
            "14\n"
          ]
        },
        {
          "name": "stderr",
          "output_type": "stream",
          "text": [
            "video 1/1 (72/900) d:\\A_HIT_AI\\Hackathon\\new\\Video_Phase1\\Doto_103.mp4: 384x640 15 persons, 897.7ms\n"
          ]
        },
        {
          "name": "stdout",
          "output_type": "stream",
          "text": [
            "15\n"
          ]
        },
        {
          "name": "stderr",
          "output_type": "stream",
          "text": [
            "video 1/1 (73/900) d:\\A_HIT_AI\\Hackathon\\new\\Video_Phase1\\Doto_103.mp4: 384x640 14 persons, 986.4ms\n"
          ]
        },
        {
          "name": "stdout",
          "output_type": "stream",
          "text": [
            "14\n"
          ]
        },
        {
          "name": "stderr",
          "output_type": "stream",
          "text": [
            "video 1/1 (74/900) d:\\A_HIT_AI\\Hackathon\\new\\Video_Phase1\\Doto_103.mp4: 384x640 15 persons, 947.4ms\n"
          ]
        },
        {
          "name": "stdout",
          "output_type": "stream",
          "text": [
            "15\n"
          ]
        },
        {
          "name": "stderr",
          "output_type": "stream",
          "text": [
            "video 1/1 (75/900) d:\\A_HIT_AI\\Hackathon\\new\\Video_Phase1\\Doto_103.mp4: 384x640 14 persons, 940.6ms\n"
          ]
        },
        {
          "name": "stdout",
          "output_type": "stream",
          "text": [
            "14\n"
          ]
        },
        {
          "name": "stderr",
          "output_type": "stream",
          "text": [
            "video 1/1 (76/900) d:\\A_HIT_AI\\Hackathon\\new\\Video_Phase1\\Doto_103.mp4: 384x640 13 persons, 931.8ms\n"
          ]
        },
        {
          "name": "stdout",
          "output_type": "stream",
          "text": [
            "13\n"
          ]
        },
        {
          "name": "stderr",
          "output_type": "stream",
          "text": [
            "video 1/1 (77/900) d:\\A_HIT_AI\\Hackathon\\new\\Video_Phase1\\Doto_103.mp4: 384x640 14 persons, 954.1ms\n"
          ]
        },
        {
          "name": "stdout",
          "output_type": "stream",
          "text": [
            "14\n"
          ]
        },
        {
          "name": "stderr",
          "output_type": "stream",
          "text": [
            "video 1/1 (78/900) d:\\A_HIT_AI\\Hackathon\\new\\Video_Phase1\\Doto_103.mp4: 384x640 14 persons, 1216.1ms\n"
          ]
        },
        {
          "name": "stdout",
          "output_type": "stream",
          "text": [
            "14\n"
          ]
        },
        {
          "name": "stderr",
          "output_type": "stream",
          "text": [
            "video 1/1 (79/900) d:\\A_HIT_AI\\Hackathon\\new\\Video_Phase1\\Doto_103.mp4: 384x640 14 persons, 1230.6ms\n"
          ]
        },
        {
          "name": "stdout",
          "output_type": "stream",
          "text": [
            "14\n"
          ]
        },
        {
          "name": "stderr",
          "output_type": "stream",
          "text": [
            "video 1/1 (80/900) d:\\A_HIT_AI\\Hackathon\\new\\Video_Phase1\\Doto_103.mp4: 384x640 14 persons, 1026.9ms\n"
          ]
        },
        {
          "name": "stdout",
          "output_type": "stream",
          "text": [
            "14\n"
          ]
        },
        {
          "name": "stderr",
          "output_type": "stream",
          "text": [
            "video 1/1 (81/900) d:\\A_HIT_AI\\Hackathon\\new\\Video_Phase1\\Doto_103.mp4: 384x640 14 persons, 1038.1ms\n"
          ]
        },
        {
          "name": "stdout",
          "output_type": "stream",
          "text": [
            "14\n"
          ]
        },
        {
          "name": "stderr",
          "output_type": "stream",
          "text": [
            "video 1/1 (82/900) d:\\A_HIT_AI\\Hackathon\\new\\Video_Phase1\\Doto_103.mp4: 384x640 15 persons, 929.9ms\n"
          ]
        },
        {
          "name": "stdout",
          "output_type": "stream",
          "text": [
            "15\n"
          ]
        },
        {
          "name": "stderr",
          "output_type": "stream",
          "text": [
            "video 1/1 (83/900) d:\\A_HIT_AI\\Hackathon\\new\\Video_Phase1\\Doto_103.mp4: 384x640 15 persons, 972.5ms\n"
          ]
        },
        {
          "name": "stdout",
          "output_type": "stream",
          "text": [
            "15\n"
          ]
        },
        {
          "name": "stderr",
          "output_type": "stream",
          "text": [
            "video 1/1 (84/900) d:\\A_HIT_AI\\Hackathon\\new\\Video_Phase1\\Doto_103.mp4: 384x640 15 persons, 945.6ms\n"
          ]
        },
        {
          "name": "stdout",
          "output_type": "stream",
          "text": [
            "15\n"
          ]
        },
        {
          "name": "stderr",
          "output_type": "stream",
          "text": [
            "video 1/1 (85/900) d:\\A_HIT_AI\\Hackathon\\new\\Video_Phase1\\Doto_103.mp4: 384x640 15 persons, 922.4ms\n"
          ]
        },
        {
          "name": "stdout",
          "output_type": "stream",
          "text": [
            "15\n"
          ]
        },
        {
          "name": "stderr",
          "output_type": "stream",
          "text": [
            "video 1/1 (86/900) d:\\A_HIT_AI\\Hackathon\\new\\Video_Phase1\\Doto_103.mp4: 384x640 15 persons, 937.5ms\n"
          ]
        },
        {
          "name": "stdout",
          "output_type": "stream",
          "text": [
            "15\n"
          ]
        },
        {
          "name": "stderr",
          "output_type": "stream",
          "text": [
            "video 1/1 (87/900) d:\\A_HIT_AI\\Hackathon\\new\\Video_Phase1\\Doto_103.mp4: 384x640 14 persons, 931.5ms\n"
          ]
        },
        {
          "name": "stdout",
          "output_type": "stream",
          "text": [
            "14\n"
          ]
        },
        {
          "name": "stderr",
          "output_type": "stream",
          "text": [
            "video 1/1 (88/900) d:\\A_HIT_AI\\Hackathon\\new\\Video_Phase1\\Doto_103.mp4: 384x640 14 persons, 990.5ms\n"
          ]
        },
        {
          "name": "stdout",
          "output_type": "stream",
          "text": [
            "14\n"
          ]
        },
        {
          "name": "stderr",
          "output_type": "stream",
          "text": [
            "video 1/1 (89/900) d:\\A_HIT_AI\\Hackathon\\new\\Video_Phase1\\Doto_103.mp4: 384x640 14 persons, 890.2ms\n"
          ]
        },
        {
          "name": "stdout",
          "output_type": "stream",
          "text": [
            "14\n"
          ]
        },
        {
          "name": "stderr",
          "output_type": "stream",
          "text": [
            "video 1/1 (90/900) d:\\A_HIT_AI\\Hackathon\\new\\Video_Phase1\\Doto_103.mp4: 384x640 15 persons, 920.1ms\n"
          ]
        },
        {
          "name": "stdout",
          "output_type": "stream",
          "text": [
            "15\n"
          ]
        },
        {
          "name": "stderr",
          "output_type": "stream",
          "text": [
            "video 1/1 (91/900) d:\\A_HIT_AI\\Hackathon\\new\\Video_Phase1\\Doto_103.mp4: 384x640 13 persons, 939.7ms\n"
          ]
        },
        {
          "name": "stdout",
          "output_type": "stream",
          "text": [
            "13\n"
          ]
        },
        {
          "name": "stderr",
          "output_type": "stream",
          "text": [
            "video 1/1 (92/900) d:\\A_HIT_AI\\Hackathon\\new\\Video_Phase1\\Doto_103.mp4: 384x640 13 persons, 944.7ms\n"
          ]
        },
        {
          "name": "stdout",
          "output_type": "stream",
          "text": [
            "13\n"
          ]
        },
        {
          "name": "stderr",
          "output_type": "stream",
          "text": [
            "video 1/1 (93/900) d:\\A_HIT_AI\\Hackathon\\new\\Video_Phase1\\Doto_103.mp4: 384x640 13 persons, 1047.4ms\n"
          ]
        },
        {
          "name": "stdout",
          "output_type": "stream",
          "text": [
            "13\n"
          ]
        },
        {
          "name": "stderr",
          "output_type": "stream",
          "text": [
            "video 1/1 (94/900) d:\\A_HIT_AI\\Hackathon\\new\\Video_Phase1\\Doto_103.mp4: 384x640 13 persons, 961.1ms\n"
          ]
        },
        {
          "name": "stdout",
          "output_type": "stream",
          "text": [
            "13\n"
          ]
        },
        {
          "name": "stderr",
          "output_type": "stream",
          "text": [
            "video 1/1 (95/900) d:\\A_HIT_AI\\Hackathon\\new\\Video_Phase1\\Doto_103.mp4: 384x640 15 persons, 920.1ms\n"
          ]
        },
        {
          "name": "stdout",
          "output_type": "stream",
          "text": [
            "15\n"
          ]
        },
        {
          "name": "stderr",
          "output_type": "stream",
          "text": [
            "video 1/1 (96/900) d:\\A_HIT_AI\\Hackathon\\new\\Video_Phase1\\Doto_103.mp4: 384x640 15 persons, 986.0ms\n"
          ]
        },
        {
          "name": "stdout",
          "output_type": "stream",
          "text": [
            "15\n"
          ]
        },
        {
          "name": "stderr",
          "output_type": "stream",
          "text": [
            "video 1/1 (97/900) d:\\A_HIT_AI\\Hackathon\\new\\Video_Phase1\\Doto_103.mp4: 384x640 15 persons, 980.2ms\n"
          ]
        },
        {
          "name": "stdout",
          "output_type": "stream",
          "text": [
            "15\n"
          ]
        },
        {
          "name": "stderr",
          "output_type": "stream",
          "text": [
            "video 1/1 (98/900) d:\\A_HIT_AI\\Hackathon\\new\\Video_Phase1\\Doto_103.mp4: 384x640 15 persons, 933.1ms\n"
          ]
        },
        {
          "name": "stdout",
          "output_type": "stream",
          "text": [
            "15\n"
          ]
        },
        {
          "name": "stderr",
          "output_type": "stream",
          "text": [
            "video 1/1 (99/900) d:\\A_HIT_AI\\Hackathon\\new\\Video_Phase1\\Doto_103.mp4: 384x640 15 persons, 1131.1ms\n"
          ]
        },
        {
          "name": "stdout",
          "output_type": "stream",
          "text": [
            "15\n"
          ]
        },
        {
          "name": "stderr",
          "output_type": "stream",
          "text": [
            "video 1/1 (100/900) d:\\A_HIT_AI\\Hackathon\\new\\Video_Phase1\\Doto_103.mp4: 384x640 15 persons, 1001.7ms\n"
          ]
        },
        {
          "name": "stdout",
          "output_type": "stream",
          "text": [
            "15\n"
          ]
        },
        {
          "name": "stderr",
          "output_type": "stream",
          "text": [
            "video 1/1 (101/900) d:\\A_HIT_AI\\Hackathon\\new\\Video_Phase1\\Doto_103.mp4: 384x640 15 persons, 964.9ms\n"
          ]
        },
        {
          "name": "stdout",
          "output_type": "stream",
          "text": [
            "15\n"
          ]
        },
        {
          "name": "stderr",
          "output_type": "stream",
          "text": [
            "video 1/1 (102/900) d:\\A_HIT_AI\\Hackathon\\new\\Video_Phase1\\Doto_103.mp4: 384x640 15 persons, 994.6ms\n"
          ]
        },
        {
          "name": "stdout",
          "output_type": "stream",
          "text": [
            "15\n"
          ]
        },
        {
          "name": "stderr",
          "output_type": "stream",
          "text": [
            "video 1/1 (103/900) d:\\A_HIT_AI\\Hackathon\\new\\Video_Phase1\\Doto_103.mp4: 384x640 15 persons, 957.2ms\n"
          ]
        },
        {
          "name": "stdout",
          "output_type": "stream",
          "text": [
            "15\n"
          ]
        },
        {
          "name": "stderr",
          "output_type": "stream",
          "text": [
            "video 1/1 (104/900) d:\\A_HIT_AI\\Hackathon\\new\\Video_Phase1\\Doto_103.mp4: 384x640 15 persons, 1012.1ms\n"
          ]
        },
        {
          "name": "stdout",
          "output_type": "stream",
          "text": [
            "15\n"
          ]
        },
        {
          "name": "stderr",
          "output_type": "stream",
          "text": [
            "video 1/1 (105/900) d:\\A_HIT_AI\\Hackathon\\new\\Video_Phase1\\Doto_103.mp4: 384x640 15 persons, 953.6ms\n"
          ]
        },
        {
          "name": "stdout",
          "output_type": "stream",
          "text": [
            "15\n"
          ]
        },
        {
          "name": "stderr",
          "output_type": "stream",
          "text": [
            "video 1/1 (106/900) d:\\A_HIT_AI\\Hackathon\\new\\Video_Phase1\\Doto_103.mp4: 384x640 15 persons, 958.1ms\n"
          ]
        },
        {
          "name": "stdout",
          "output_type": "stream",
          "text": [
            "15\n"
          ]
        },
        {
          "name": "stderr",
          "output_type": "stream",
          "text": [
            "video 1/1 (107/900) d:\\A_HIT_AI\\Hackathon\\new\\Video_Phase1\\Doto_103.mp4: 384x640 15 persons, 968.0ms\n"
          ]
        },
        {
          "name": "stdout",
          "output_type": "stream",
          "text": [
            "15\n"
          ]
        },
        {
          "name": "stderr",
          "output_type": "stream",
          "text": [
            "video 1/1 (108/900) d:\\A_HIT_AI\\Hackathon\\new\\Video_Phase1\\Doto_103.mp4: 384x640 15 persons, 950.5ms\n"
          ]
        },
        {
          "name": "stdout",
          "output_type": "stream",
          "text": [
            "15\n"
          ]
        },
        {
          "name": "stderr",
          "output_type": "stream",
          "text": [
            "video 1/1 (109/900) d:\\A_HIT_AI\\Hackathon\\new\\Video_Phase1\\Doto_103.mp4: 384x640 13 persons, 900.6ms\n"
          ]
        },
        {
          "name": "stdout",
          "output_type": "stream",
          "text": [
            "13\n"
          ]
        },
        {
          "name": "stderr",
          "output_type": "stream",
          "text": [
            "video 1/1 (110/900) d:\\A_HIT_AI\\Hackathon\\new\\Video_Phase1\\Doto_103.mp4: 384x640 15 persons, 942.9ms\n"
          ]
        },
        {
          "name": "stdout",
          "output_type": "stream",
          "text": [
            "15\n"
          ]
        },
        {
          "name": "stderr",
          "output_type": "stream",
          "text": [
            "video 1/1 (111/900) d:\\A_HIT_AI\\Hackathon\\new\\Video_Phase1\\Doto_103.mp4: 384x640 16 persons, 953.4ms\n"
          ]
        },
        {
          "name": "stdout",
          "output_type": "stream",
          "text": [
            "16\n"
          ]
        },
        {
          "name": "stderr",
          "output_type": "stream",
          "text": [
            "video 1/1 (112/900) d:\\A_HIT_AI\\Hackathon\\new\\Video_Phase1\\Doto_103.mp4: 384x640 16 persons, 1034.9ms\n"
          ]
        },
        {
          "name": "stdout",
          "output_type": "stream",
          "text": [
            "16\n"
          ]
        },
        {
          "name": "stderr",
          "output_type": "stream",
          "text": [
            "video 1/1 (113/900) d:\\A_HIT_AI\\Hackathon\\new\\Video_Phase1\\Doto_103.mp4: 384x640 17 persons, 1193.4ms\n"
          ]
        },
        {
          "name": "stdout",
          "output_type": "stream",
          "text": [
            "17\n"
          ]
        },
        {
          "name": "stderr",
          "output_type": "stream",
          "text": [
            "video 1/1 (114/900) d:\\A_HIT_AI\\Hackathon\\new\\Video_Phase1\\Doto_103.mp4: 384x640 16 persons, 1073.2ms\n"
          ]
        },
        {
          "name": "stdout",
          "output_type": "stream",
          "text": [
            "16\n"
          ]
        },
        {
          "name": "stderr",
          "output_type": "stream",
          "text": [
            "video 1/1 (115/900) d:\\A_HIT_AI\\Hackathon\\new\\Video_Phase1\\Doto_103.mp4: 384x640 17 persons, 1593.2ms\n"
          ]
        },
        {
          "name": "stdout",
          "output_type": "stream",
          "text": [
            "17\n"
          ]
        },
        {
          "name": "stderr",
          "output_type": "stream",
          "text": [
            "video 1/1 (116/900) d:\\A_HIT_AI\\Hackathon\\new\\Video_Phase1\\Doto_103.mp4: 384x640 17 persons, 1455.4ms\n"
          ]
        },
        {
          "name": "stdout",
          "output_type": "stream",
          "text": [
            "17\n"
          ]
        },
        {
          "name": "stderr",
          "output_type": "stream",
          "text": [
            "video 1/1 (117/900) d:\\A_HIT_AI\\Hackathon\\new\\Video_Phase1\\Doto_103.mp4: 384x640 16 persons, 1025.7ms\n"
          ]
        },
        {
          "name": "stdout",
          "output_type": "stream",
          "text": [
            "16\n"
          ]
        },
        {
          "name": "stderr",
          "output_type": "stream",
          "text": [
            "video 1/1 (118/900) d:\\A_HIT_AI\\Hackathon\\new\\Video_Phase1\\Doto_103.mp4: 384x640 13 persons, 1025.7ms\n"
          ]
        },
        {
          "name": "stdout",
          "output_type": "stream",
          "text": [
            "13\n"
          ]
        },
        {
          "name": "stderr",
          "output_type": "stream",
          "text": [
            "video 1/1 (119/900) d:\\A_HIT_AI\\Hackathon\\new\\Video_Phase1\\Doto_103.mp4: 384x640 13 persons, 991.6ms\n"
          ]
        },
        {
          "name": "stdout",
          "output_type": "stream",
          "text": [
            "13\n"
          ]
        },
        {
          "name": "stderr",
          "output_type": "stream",
          "text": [
            "video 1/1 (120/900) d:\\A_HIT_AI\\Hackathon\\new\\Video_Phase1\\Doto_103.mp4: 384x640 12 persons, 937.4ms\n"
          ]
        },
        {
          "name": "stdout",
          "output_type": "stream",
          "text": [
            "12\n"
          ]
        },
        {
          "name": "stderr",
          "output_type": "stream",
          "text": [
            "video 1/1 (121/900) d:\\A_HIT_AI\\Hackathon\\new\\Video_Phase1\\Doto_103.mp4: 384x640 12 persons, 947.6ms\n"
          ]
        },
        {
          "name": "stdout",
          "output_type": "stream",
          "text": [
            "12\n"
          ]
        },
        {
          "name": "stderr",
          "output_type": "stream",
          "text": [
            "video 1/1 (122/900) d:\\A_HIT_AI\\Hackathon\\new\\Video_Phase1\\Doto_103.mp4: 384x640 11 persons, 898.0ms\n"
          ]
        },
        {
          "name": "stdout",
          "output_type": "stream",
          "text": [
            "11\n"
          ]
        },
        {
          "name": "stderr",
          "output_type": "stream",
          "text": [
            "video 1/1 (123/900) d:\\A_HIT_AI\\Hackathon\\new\\Video_Phase1\\Doto_103.mp4: 384x640 11 persons, 907.4ms\n"
          ]
        },
        {
          "name": "stdout",
          "output_type": "stream",
          "text": [
            "11\n"
          ]
        },
        {
          "name": "stderr",
          "output_type": "stream",
          "text": [
            "video 1/1 (124/900) d:\\A_HIT_AI\\Hackathon\\new\\Video_Phase1\\Doto_103.mp4: 384x640 12 persons, 971.2ms\n"
          ]
        },
        {
          "name": "stdout",
          "output_type": "stream",
          "text": [
            "12\n"
          ]
        },
        {
          "name": "stderr",
          "output_type": "stream",
          "text": [
            "video 1/1 (125/900) d:\\A_HIT_AI\\Hackathon\\new\\Video_Phase1\\Doto_103.mp4: 384x640 13 persons, 925.4ms\n"
          ]
        },
        {
          "name": "stdout",
          "output_type": "stream",
          "text": [
            "13\n"
          ]
        },
        {
          "name": "stderr",
          "output_type": "stream",
          "text": [
            "video 1/1 (126/900) d:\\A_HIT_AI\\Hackathon\\new\\Video_Phase1\\Doto_103.mp4: 384x640 13 persons, 1016.2ms\n"
          ]
        },
        {
          "name": "stdout",
          "output_type": "stream",
          "text": [
            "13\n"
          ]
        },
        {
          "name": "stderr",
          "output_type": "stream",
          "text": [
            "video 1/1 (127/900) d:\\A_HIT_AI\\Hackathon\\new\\Video_Phase1\\Doto_103.mp4: 384x640 12 persons, 921.8ms\n"
          ]
        },
        {
          "name": "stdout",
          "output_type": "stream",
          "text": [
            "12\n"
          ]
        },
        {
          "name": "stderr",
          "output_type": "stream",
          "text": [
            "video 1/1 (128/900) d:\\A_HIT_AI\\Hackathon\\new\\Video_Phase1\\Doto_103.mp4: 384x640 13 persons, 927.5ms\n"
          ]
        },
        {
          "name": "stdout",
          "output_type": "stream",
          "text": [
            "13\n"
          ]
        },
        {
          "name": "stderr",
          "output_type": "stream",
          "text": [
            "video 1/1 (129/900) d:\\A_HIT_AI\\Hackathon\\new\\Video_Phase1\\Doto_103.mp4: 384x640 12 persons, 1037.5ms\n"
          ]
        },
        {
          "name": "stdout",
          "output_type": "stream",
          "text": [
            "12\n"
          ]
        },
        {
          "name": "stderr",
          "output_type": "stream",
          "text": [
            "video 1/1 (130/900) d:\\A_HIT_AI\\Hackathon\\new\\Video_Phase1\\Doto_103.mp4: 384x640 12 persons, 907.1ms\n"
          ]
        },
        {
          "name": "stdout",
          "output_type": "stream",
          "text": [
            "12\n"
          ]
        },
        {
          "name": "stderr",
          "output_type": "stream",
          "text": [
            "video 1/1 (131/900) d:\\A_HIT_AI\\Hackathon\\new\\Video_Phase1\\Doto_103.mp4: 384x640 12 persons, 965.6ms\n"
          ]
        },
        {
          "name": "stdout",
          "output_type": "stream",
          "text": [
            "12\n"
          ]
        },
        {
          "name": "stderr",
          "output_type": "stream",
          "text": [
            "video 1/1 (132/900) d:\\A_HIT_AI\\Hackathon\\new\\Video_Phase1\\Doto_103.mp4: 384x640 12 persons, 920.7ms\n"
          ]
        },
        {
          "name": "stdout",
          "output_type": "stream",
          "text": [
            "12\n"
          ]
        },
        {
          "name": "stderr",
          "output_type": "stream",
          "text": [
            "video 1/1 (133/900) d:\\A_HIT_AI\\Hackathon\\new\\Video_Phase1\\Doto_103.mp4: 384x640 12 persons, 917.4ms\n"
          ]
        },
        {
          "name": "stdout",
          "output_type": "stream",
          "text": [
            "12\n"
          ]
        },
        {
          "name": "stderr",
          "output_type": "stream",
          "text": [
            "video 1/1 (134/900) d:\\A_HIT_AI\\Hackathon\\new\\Video_Phase1\\Doto_103.mp4: 384x640 13 persons, 939.0ms\n"
          ]
        },
        {
          "name": "stdout",
          "output_type": "stream",
          "text": [
            "13\n"
          ]
        },
        {
          "name": "stderr",
          "output_type": "stream",
          "text": [
            "video 1/1 (135/900) d:\\A_HIT_AI\\Hackathon\\new\\Video_Phase1\\Doto_103.mp4: 384x640 14 persons, 913.3ms\n"
          ]
        },
        {
          "name": "stdout",
          "output_type": "stream",
          "text": [
            "14\n"
          ]
        },
        {
          "name": "stderr",
          "output_type": "stream",
          "text": [
            "video 1/1 (136/900) d:\\A_HIT_AI\\Hackathon\\new\\Video_Phase1\\Doto_103.mp4: 384x640 14 persons, 1049.8ms\n"
          ]
        },
        {
          "name": "stdout",
          "output_type": "stream",
          "text": [
            "14\n"
          ]
        },
        {
          "name": "stderr",
          "output_type": "stream",
          "text": [
            "video 1/1 (137/900) d:\\A_HIT_AI\\Hackathon\\new\\Video_Phase1\\Doto_103.mp4: 384x640 15 persons, 980.4ms\n"
          ]
        },
        {
          "name": "stdout",
          "output_type": "stream",
          "text": [
            "15\n"
          ]
        },
        {
          "name": "stderr",
          "output_type": "stream",
          "text": [
            "video 1/1 (138/900) d:\\A_HIT_AI\\Hackathon\\new\\Video_Phase1\\Doto_103.mp4: 384x640 15 persons, 969.0ms\n"
          ]
        },
        {
          "name": "stdout",
          "output_type": "stream",
          "text": [
            "15\n"
          ]
        },
        {
          "name": "stderr",
          "output_type": "stream",
          "text": [
            "video 1/1 (139/900) d:\\A_HIT_AI\\Hackathon\\new\\Video_Phase1\\Doto_103.mp4: 384x640 15 persons, 967.9ms\n"
          ]
        },
        {
          "name": "stdout",
          "output_type": "stream",
          "text": [
            "15\n"
          ]
        },
        {
          "name": "stderr",
          "output_type": "stream",
          "text": [
            "video 1/1 (140/900) d:\\A_HIT_AI\\Hackathon\\new\\Video_Phase1\\Doto_103.mp4: 384x640 15 persons, 949.7ms\n"
          ]
        },
        {
          "name": "stdout",
          "output_type": "stream",
          "text": [
            "15\n"
          ]
        },
        {
          "name": "stderr",
          "output_type": "stream",
          "text": [
            "video 1/1 (141/900) d:\\A_HIT_AI\\Hackathon\\new\\Video_Phase1\\Doto_103.mp4: 384x640 14 persons, 951.2ms\n"
          ]
        },
        {
          "name": "stdout",
          "output_type": "stream",
          "text": [
            "14\n"
          ]
        },
        {
          "name": "stderr",
          "output_type": "stream",
          "text": [
            "video 1/1 (142/900) d:\\A_HIT_AI\\Hackathon\\new\\Video_Phase1\\Doto_103.mp4: 384x640 15 persons, 921.6ms\n"
          ]
        },
        {
          "name": "stdout",
          "output_type": "stream",
          "text": [
            "15\n"
          ]
        },
        {
          "name": "stderr",
          "output_type": "stream",
          "text": [
            "video 1/1 (143/900) d:\\A_HIT_AI\\Hackathon\\new\\Video_Phase1\\Doto_103.mp4: 384x640 15 persons, 937.9ms\n"
          ]
        },
        {
          "name": "stdout",
          "output_type": "stream",
          "text": [
            "15\n"
          ]
        },
        {
          "name": "stderr",
          "output_type": "stream",
          "text": [
            "video 1/1 (144/900) d:\\A_HIT_AI\\Hackathon\\new\\Video_Phase1\\Doto_103.mp4: 384x640 14 persons, 929.7ms\n"
          ]
        },
        {
          "name": "stdout",
          "output_type": "stream",
          "text": [
            "14\n"
          ]
        },
        {
          "name": "stderr",
          "output_type": "stream",
          "text": [
            "video 1/1 (145/900) d:\\A_HIT_AI\\Hackathon\\new\\Video_Phase1\\Doto_103.mp4: 384x640 13 persons, 985.8ms\n"
          ]
        },
        {
          "name": "stdout",
          "output_type": "stream",
          "text": [
            "13\n"
          ]
        },
        {
          "name": "stderr",
          "output_type": "stream",
          "text": [
            "video 1/1 (146/900) d:\\A_HIT_AI\\Hackathon\\new\\Video_Phase1\\Doto_103.mp4: 384x640 15 persons, 911.7ms\n"
          ]
        },
        {
          "name": "stdout",
          "output_type": "stream",
          "text": [
            "15\n"
          ]
        },
        {
          "name": "stderr",
          "output_type": "stream",
          "text": [
            "video 1/1 (147/900) d:\\A_HIT_AI\\Hackathon\\new\\Video_Phase1\\Doto_103.mp4: 384x640 15 persons, 920.9ms\n"
          ]
        },
        {
          "name": "stdout",
          "output_type": "stream",
          "text": [
            "15\n"
          ]
        },
        {
          "name": "stderr",
          "output_type": "stream",
          "text": [
            "video 1/1 (148/900) d:\\A_HIT_AI\\Hackathon\\new\\Video_Phase1\\Doto_103.mp4: 384x640 15 persons, 945.9ms\n"
          ]
        },
        {
          "name": "stdout",
          "output_type": "stream",
          "text": [
            "15\n"
          ]
        },
        {
          "name": "stderr",
          "output_type": "stream",
          "text": [
            "video 1/1 (149/900) d:\\A_HIT_AI\\Hackathon\\new\\Video_Phase1\\Doto_103.mp4: 384x640 15 persons, 1005.5ms\n"
          ]
        },
        {
          "name": "stdout",
          "output_type": "stream",
          "text": [
            "15\n"
          ]
        },
        {
          "name": "stderr",
          "output_type": "stream",
          "text": [
            "video 1/1 (150/900) d:\\A_HIT_AI\\Hackathon\\new\\Video_Phase1\\Doto_103.mp4: 384x640 16 persons, 1033.9ms\n"
          ]
        },
        {
          "name": "stdout",
          "output_type": "stream",
          "text": [
            "16\n"
          ]
        },
        {
          "name": "stderr",
          "output_type": "stream",
          "text": [
            "video 1/1 (151/900) d:\\A_HIT_AI\\Hackathon\\new\\Video_Phase1\\Doto_103.mp4: 384x640 16 persons, 1118.2ms\n"
          ]
        },
        {
          "name": "stdout",
          "output_type": "stream",
          "text": [
            "16\n"
          ]
        },
        {
          "name": "stderr",
          "output_type": "stream",
          "text": [
            "video 1/1 (152/900) d:\\A_HIT_AI\\Hackathon\\new\\Video_Phase1\\Doto_103.mp4: 384x640 16 persons, 1043.1ms\n"
          ]
        },
        {
          "name": "stdout",
          "output_type": "stream",
          "text": [
            "16\n"
          ]
        },
        {
          "name": "stderr",
          "output_type": "stream",
          "text": [
            "video 1/1 (153/900) d:\\A_HIT_AI\\Hackathon\\new\\Video_Phase1\\Doto_103.mp4: 384x640 16 persons, 985.1ms\n"
          ]
        },
        {
          "name": "stdout",
          "output_type": "stream",
          "text": [
            "16\n"
          ]
        },
        {
          "name": "stderr",
          "output_type": "stream",
          "text": [
            "video 1/1 (154/900) d:\\A_HIT_AI\\Hackathon\\new\\Video_Phase1\\Doto_103.mp4: 384x640 16 persons, 976.5ms\n"
          ]
        },
        {
          "name": "stdout",
          "output_type": "stream",
          "text": [
            "16\n"
          ]
        },
        {
          "name": "stderr",
          "output_type": "stream",
          "text": [
            "video 1/1 (155/900) d:\\A_HIT_AI\\Hackathon\\new\\Video_Phase1\\Doto_103.mp4: 384x640 15 persons, 1202.0ms\n"
          ]
        },
        {
          "name": "stdout",
          "output_type": "stream",
          "text": [
            "15\n"
          ]
        },
        {
          "name": "stderr",
          "output_type": "stream",
          "text": [
            "video 1/1 (156/900) d:\\A_HIT_AI\\Hackathon\\new\\Video_Phase1\\Doto_103.mp4: 384x640 14 persons, 1035.3ms\n"
          ]
        },
        {
          "name": "stdout",
          "output_type": "stream",
          "text": [
            "14\n"
          ]
        },
        {
          "name": "stderr",
          "output_type": "stream",
          "text": [
            "video 1/1 (157/900) d:\\A_HIT_AI\\Hackathon\\new\\Video_Phase1\\Doto_103.mp4: 384x640 13 persons, 968.5ms\n"
          ]
        },
        {
          "name": "stdout",
          "output_type": "stream",
          "text": [
            "13\n"
          ]
        },
        {
          "name": "stderr",
          "output_type": "stream",
          "text": [
            "video 1/1 (158/900) d:\\A_HIT_AI\\Hackathon\\new\\Video_Phase1\\Doto_103.mp4: 384x640 14 persons, 1042.5ms\n"
          ]
        },
        {
          "name": "stdout",
          "output_type": "stream",
          "text": [
            "14\n"
          ]
        },
        {
          "name": "stderr",
          "output_type": "stream",
          "text": [
            "video 1/1 (159/900) d:\\A_HIT_AI\\Hackathon\\new\\Video_Phase1\\Doto_103.mp4: 384x640 14 persons, 1295.6ms\n"
          ]
        },
        {
          "name": "stdout",
          "output_type": "stream",
          "text": [
            "14\n"
          ]
        },
        {
          "name": "stderr",
          "output_type": "stream",
          "text": [
            "video 1/1 (160/900) d:\\A_HIT_AI\\Hackathon\\new\\Video_Phase1\\Doto_103.mp4: 384x640 14 persons, 1372.3ms\n"
          ]
        },
        {
          "name": "stdout",
          "output_type": "stream",
          "text": [
            "14\n"
          ]
        },
        {
          "name": "stderr",
          "output_type": "stream",
          "text": [
            "video 1/1 (161/900) d:\\A_HIT_AI\\Hackathon\\new\\Video_Phase1\\Doto_103.mp4: 384x640 13 persons, 954.5ms\n"
          ]
        },
        {
          "name": "stdout",
          "output_type": "stream",
          "text": [
            "13\n"
          ]
        },
        {
          "name": "stderr",
          "output_type": "stream",
          "text": [
            "video 1/1 (162/900) d:\\A_HIT_AI\\Hackathon\\new\\Video_Phase1\\Doto_103.mp4: 384x640 14 persons, 1056.2ms\n"
          ]
        },
        {
          "name": "stdout",
          "output_type": "stream",
          "text": [
            "14\n"
          ]
        },
        {
          "name": "stderr",
          "output_type": "stream",
          "text": [
            "video 1/1 (163/900) d:\\A_HIT_AI\\Hackathon\\new\\Video_Phase1\\Doto_103.mp4: 384x640 14 persons, 1101.7ms\n"
          ]
        },
        {
          "name": "stdout",
          "output_type": "stream",
          "text": [
            "14\n"
          ]
        },
        {
          "name": "stderr",
          "output_type": "stream",
          "text": [
            "video 1/1 (164/900) d:\\A_HIT_AI\\Hackathon\\new\\Video_Phase1\\Doto_103.mp4: 384x640 14 persons, 977.3ms\n"
          ]
        },
        {
          "name": "stdout",
          "output_type": "stream",
          "text": [
            "14\n"
          ]
        },
        {
          "name": "stderr",
          "output_type": "stream",
          "text": [
            "video 1/1 (165/900) d:\\A_HIT_AI\\Hackathon\\new\\Video_Phase1\\Doto_103.mp4: 384x640 14 persons, 984.6ms\n"
          ]
        },
        {
          "name": "stdout",
          "output_type": "stream",
          "text": [
            "14\n"
          ]
        },
        {
          "name": "stderr",
          "output_type": "stream",
          "text": [
            "video 1/1 (166/900) d:\\A_HIT_AI\\Hackathon\\new\\Video_Phase1\\Doto_103.mp4: 384x640 13 persons, 974.5ms\n"
          ]
        },
        {
          "name": "stdout",
          "output_type": "stream",
          "text": [
            "13\n"
          ]
        },
        {
          "name": "stderr",
          "output_type": "stream",
          "text": [
            "video 1/1 (167/900) d:\\A_HIT_AI\\Hackathon\\new\\Video_Phase1\\Doto_103.mp4: 384x640 13 persons, 922.8ms\n"
          ]
        },
        {
          "name": "stdout",
          "output_type": "stream",
          "text": [
            "13\n"
          ]
        },
        {
          "name": "stderr",
          "output_type": "stream",
          "text": [
            "video 1/1 (168/900) d:\\A_HIT_AI\\Hackathon\\new\\Video_Phase1\\Doto_103.mp4: 384x640 14 persons, 922.0ms\n"
          ]
        },
        {
          "name": "stdout",
          "output_type": "stream",
          "text": [
            "14\n"
          ]
        },
        {
          "name": "stderr",
          "output_type": "stream",
          "text": [
            "video 1/1 (169/900) d:\\A_HIT_AI\\Hackathon\\new\\Video_Phase1\\Doto_103.mp4: 384x640 14 persons, 1120.1ms\n"
          ]
        },
        {
          "name": "stdout",
          "output_type": "stream",
          "text": [
            "14\n"
          ]
        },
        {
          "name": "stderr",
          "output_type": "stream",
          "text": [
            "video 1/1 (170/900) d:\\A_HIT_AI\\Hackathon\\new\\Video_Phase1\\Doto_103.mp4: 384x640 13 persons, 1138.2ms\n"
          ]
        },
        {
          "name": "stdout",
          "output_type": "stream",
          "text": [
            "13\n"
          ]
        },
        {
          "name": "stderr",
          "output_type": "stream",
          "text": [
            "video 1/1 (171/900) d:\\A_HIT_AI\\Hackathon\\new\\Video_Phase1\\Doto_103.mp4: 384x640 13 persons, 1000.8ms\n"
          ]
        },
        {
          "name": "stdout",
          "output_type": "stream",
          "text": [
            "13\n"
          ]
        },
        {
          "name": "stderr",
          "output_type": "stream",
          "text": [
            "video 1/1 (172/900) d:\\A_HIT_AI\\Hackathon\\new\\Video_Phase1\\Doto_103.mp4: 384x640 14 persons, 982.9ms\n"
          ]
        },
        {
          "name": "stdout",
          "output_type": "stream",
          "text": [
            "14\n"
          ]
        },
        {
          "name": "stderr",
          "output_type": "stream",
          "text": [
            "video 1/1 (173/900) d:\\A_HIT_AI\\Hackathon\\new\\Video_Phase1\\Doto_103.mp4: 384x640 14 persons, 932.7ms\n"
          ]
        },
        {
          "name": "stdout",
          "output_type": "stream",
          "text": [
            "14\n"
          ]
        },
        {
          "name": "stderr",
          "output_type": "stream",
          "text": [
            "video 1/1 (174/900) d:\\A_HIT_AI\\Hackathon\\new\\Video_Phase1\\Doto_103.mp4: 384x640 14 persons, 973.2ms\n"
          ]
        },
        {
          "name": "stdout",
          "output_type": "stream",
          "text": [
            "14\n"
          ]
        },
        {
          "name": "stderr",
          "output_type": "stream",
          "text": [
            "video 1/1 (175/900) d:\\A_HIT_AI\\Hackathon\\new\\Video_Phase1\\Doto_103.mp4: 384x640 15 persons, 951.7ms\n"
          ]
        },
        {
          "name": "stdout",
          "output_type": "stream",
          "text": [
            "15\n"
          ]
        },
        {
          "name": "stderr",
          "output_type": "stream",
          "text": [
            "video 1/1 (176/900) d:\\A_HIT_AI\\Hackathon\\new\\Video_Phase1\\Doto_103.mp4: 384x640 15 persons, 1092.7ms\n"
          ]
        },
        {
          "name": "stdout",
          "output_type": "stream",
          "text": [
            "15\n"
          ]
        },
        {
          "name": "stderr",
          "output_type": "stream",
          "text": [
            "video 1/1 (177/900) d:\\A_HIT_AI\\Hackathon\\new\\Video_Phase1\\Doto_103.mp4: 384x640 15 persons, 1009.1ms\n"
          ]
        },
        {
          "name": "stdout",
          "output_type": "stream",
          "text": [
            "15\n"
          ]
        },
        {
          "name": "stderr",
          "output_type": "stream",
          "text": [
            "video 1/1 (178/900) d:\\A_HIT_AI\\Hackathon\\new\\Video_Phase1\\Doto_103.mp4: 384x640 15 persons, 974.3ms\n"
          ]
        },
        {
          "name": "stdout",
          "output_type": "stream",
          "text": [
            "15\n"
          ]
        },
        {
          "name": "stderr",
          "output_type": "stream",
          "text": [
            "video 1/1 (179/900) d:\\A_HIT_AI\\Hackathon\\new\\Video_Phase1\\Doto_103.mp4: 384x640 15 persons, 975.1ms\n"
          ]
        },
        {
          "name": "stdout",
          "output_type": "stream",
          "text": [
            "15\n"
          ]
        },
        {
          "name": "stderr",
          "output_type": "stream",
          "text": [
            "video 1/1 (180/900) d:\\A_HIT_AI\\Hackathon\\new\\Video_Phase1\\Doto_103.mp4: 384x640 15 persons, 943.6ms\n"
          ]
        },
        {
          "name": "stdout",
          "output_type": "stream",
          "text": [
            "15\n"
          ]
        },
        {
          "name": "stderr",
          "output_type": "stream",
          "text": [
            "video 1/1 (181/900) d:\\A_HIT_AI\\Hackathon\\new\\Video_Phase1\\Doto_103.mp4: 384x640 15 persons, 977.0ms\n"
          ]
        },
        {
          "name": "stdout",
          "output_type": "stream",
          "text": [
            "15\n"
          ]
        },
        {
          "name": "stderr",
          "output_type": "stream",
          "text": [
            "video 1/1 (182/900) d:\\A_HIT_AI\\Hackathon\\new\\Video_Phase1\\Doto_103.mp4: 384x640 15 persons, 876.7ms\n"
          ]
        },
        {
          "name": "stdout",
          "output_type": "stream",
          "text": [
            "15\n"
          ]
        },
        {
          "name": "stderr",
          "output_type": "stream",
          "text": [
            "video 1/1 (183/900) d:\\A_HIT_AI\\Hackathon\\new\\Video_Phase1\\Doto_103.mp4: 384x640 15 persons, 927.9ms\n"
          ]
        },
        {
          "name": "stdout",
          "output_type": "stream",
          "text": [
            "15\n"
          ]
        },
        {
          "name": "stderr",
          "output_type": "stream",
          "text": [
            "video 1/1 (184/900) d:\\A_HIT_AI\\Hackathon\\new\\Video_Phase1\\Doto_103.mp4: 384x640 13 persons, 922.1ms\n"
          ]
        },
        {
          "name": "stdout",
          "output_type": "stream",
          "text": [
            "13\n"
          ]
        },
        {
          "name": "stderr",
          "output_type": "stream",
          "text": [
            "video 1/1 (185/900) d:\\A_HIT_AI\\Hackathon\\new\\Video_Phase1\\Doto_103.mp4: 384x640 13 persons, 1087.5ms\n"
          ]
        },
        {
          "name": "stdout",
          "output_type": "stream",
          "text": [
            "13\n"
          ]
        },
        {
          "name": "stderr",
          "output_type": "stream",
          "text": [
            "video 1/1 (186/900) d:\\A_HIT_AI\\Hackathon\\new\\Video_Phase1\\Doto_103.mp4: 384x640 13 persons, 998.2ms\n"
          ]
        },
        {
          "name": "stdout",
          "output_type": "stream",
          "text": [
            "13\n"
          ]
        },
        {
          "name": "stderr",
          "output_type": "stream",
          "text": [
            "video 1/1 (187/900) d:\\A_HIT_AI\\Hackathon\\new\\Video_Phase1\\Doto_103.mp4: 384x640 13 persons, 984.6ms\n"
          ]
        },
        {
          "name": "stdout",
          "output_type": "stream",
          "text": [
            "13\n"
          ]
        },
        {
          "name": "stderr",
          "output_type": "stream",
          "text": [
            "video 1/1 (188/900) d:\\A_HIT_AI\\Hackathon\\new\\Video_Phase1\\Doto_103.mp4: 384x640 14 persons, 991.8ms\n"
          ]
        },
        {
          "name": "stdout",
          "output_type": "stream",
          "text": [
            "14\n"
          ]
        },
        {
          "name": "stderr",
          "output_type": "stream",
          "text": [
            "video 1/1 (189/900) d:\\A_HIT_AI\\Hackathon\\new\\Video_Phase1\\Doto_103.mp4: 384x640 14 persons, 832.6ms\n"
          ]
        },
        {
          "name": "stdout",
          "output_type": "stream",
          "text": [
            "14\n"
          ]
        },
        {
          "name": "stderr",
          "output_type": "stream",
          "text": [
            "video 1/1 (190/900) d:\\A_HIT_AI\\Hackathon\\new\\Video_Phase1\\Doto_103.mp4: 384x640 13 persons, 849.2ms\n"
          ]
        },
        {
          "name": "stdout",
          "output_type": "stream",
          "text": [
            "13\n"
          ]
        },
        {
          "name": "stderr",
          "output_type": "stream",
          "text": [
            "video 1/1 (191/900) d:\\A_HIT_AI\\Hackathon\\new\\Video_Phase1\\Doto_103.mp4: 384x640 13 persons, 974.2ms\n"
          ]
        },
        {
          "name": "stdout",
          "output_type": "stream",
          "text": [
            "13\n"
          ]
        },
        {
          "name": "stderr",
          "output_type": "stream",
          "text": [
            "video 1/1 (192/900) d:\\A_HIT_AI\\Hackathon\\new\\Video_Phase1\\Doto_103.mp4: 384x640 13 persons, 961.9ms\n"
          ]
        },
        {
          "name": "stdout",
          "output_type": "stream",
          "text": [
            "13\n"
          ]
        },
        {
          "name": "stderr",
          "output_type": "stream",
          "text": [
            "video 1/1 (193/900) d:\\A_HIT_AI\\Hackathon\\new\\Video_Phase1\\Doto_103.mp4: 384x640 13 persons, 875.1ms\n"
          ]
        },
        {
          "name": "stdout",
          "output_type": "stream",
          "text": [
            "13\n"
          ]
        },
        {
          "name": "stderr",
          "output_type": "stream",
          "text": [
            "video 1/1 (194/900) d:\\A_HIT_AI\\Hackathon\\new\\Video_Phase1\\Doto_103.mp4: 384x640 12 persons, 988.9ms\n"
          ]
        },
        {
          "name": "stdout",
          "output_type": "stream",
          "text": [
            "12\n"
          ]
        },
        {
          "name": "stderr",
          "output_type": "stream",
          "text": [
            "video 1/1 (195/900) d:\\A_HIT_AI\\Hackathon\\new\\Video_Phase1\\Doto_103.mp4: 384x640 12 persons, 928.4ms\n"
          ]
        },
        {
          "name": "stdout",
          "output_type": "stream",
          "text": [
            "12\n"
          ]
        },
        {
          "name": "stderr",
          "output_type": "stream",
          "text": [
            "video 1/1 (196/900) d:\\A_HIT_AI\\Hackathon\\new\\Video_Phase1\\Doto_103.mp4: 384x640 11 persons, 865.0ms\n"
          ]
        },
        {
          "name": "stdout",
          "output_type": "stream",
          "text": [
            "11\n"
          ]
        },
        {
          "name": "stderr",
          "output_type": "stream",
          "text": [
            "video 1/1 (197/900) d:\\A_HIT_AI\\Hackathon\\new\\Video_Phase1\\Doto_103.mp4: 384x640 11 persons, 859.8ms\n"
          ]
        },
        {
          "name": "stdout",
          "output_type": "stream",
          "text": [
            "11\n"
          ]
        },
        {
          "name": "stderr",
          "output_type": "stream",
          "text": [
            "video 1/1 (198/900) d:\\A_HIT_AI\\Hackathon\\new\\Video_Phase1\\Doto_103.mp4: 384x640 11 persons, 846.2ms\n"
          ]
        },
        {
          "name": "stdout",
          "output_type": "stream",
          "text": [
            "11\n"
          ]
        },
        {
          "name": "stderr",
          "output_type": "stream",
          "text": [
            "video 1/1 (199/900) d:\\A_HIT_AI\\Hackathon\\new\\Video_Phase1\\Doto_103.mp4: 384x640 11 persons, 895.2ms\n"
          ]
        },
        {
          "name": "stdout",
          "output_type": "stream",
          "text": [
            "11\n"
          ]
        },
        {
          "name": "stderr",
          "output_type": "stream",
          "text": [
            "video 1/1 (200/900) d:\\A_HIT_AI\\Hackathon\\new\\Video_Phase1\\Doto_103.mp4: 384x640 11 persons, 869.5ms\n"
          ]
        },
        {
          "name": "stdout",
          "output_type": "stream",
          "text": [
            "11\n"
          ]
        },
        {
          "name": "stderr",
          "output_type": "stream",
          "text": [
            "video 1/1 (201/900) d:\\A_HIT_AI\\Hackathon\\new\\Video_Phase1\\Doto_103.mp4: 384x640 11 persons, 881.1ms\n"
          ]
        },
        {
          "name": "stdout",
          "output_type": "stream",
          "text": [
            "11\n"
          ]
        },
        {
          "name": "stderr",
          "output_type": "stream",
          "text": [
            "video 1/1 (202/900) d:\\A_HIT_AI\\Hackathon\\new\\Video_Phase1\\Doto_103.mp4: 384x640 10 persons, 899.2ms\n"
          ]
        },
        {
          "name": "stdout",
          "output_type": "stream",
          "text": [
            "10\n"
          ]
        },
        {
          "name": "stderr",
          "output_type": "stream",
          "text": [
            "video 1/1 (203/900) d:\\A_HIT_AI\\Hackathon\\new\\Video_Phase1\\Doto_103.mp4: 384x640 10 persons, 890.1ms\n"
          ]
        },
        {
          "name": "stdout",
          "output_type": "stream",
          "text": [
            "10\n"
          ]
        },
        {
          "name": "stderr",
          "output_type": "stream",
          "text": [
            "video 1/1 (204/900) d:\\A_HIT_AI\\Hackathon\\new\\Video_Phase1\\Doto_103.mp4: 384x640 10 persons, 889.9ms\n"
          ]
        },
        {
          "name": "stdout",
          "output_type": "stream",
          "text": [
            "10\n"
          ]
        },
        {
          "name": "stderr",
          "output_type": "stream",
          "text": [
            "video 1/1 (205/900) d:\\A_HIT_AI\\Hackathon\\new\\Video_Phase1\\Doto_103.mp4: 384x640 12 persons, 916.8ms\n"
          ]
        },
        {
          "name": "stdout",
          "output_type": "stream",
          "text": [
            "12\n"
          ]
        },
        {
          "name": "stderr",
          "output_type": "stream",
          "text": [
            "video 1/1 (206/900) d:\\A_HIT_AI\\Hackathon\\new\\Video_Phase1\\Doto_103.mp4: 384x640 13 persons, 898.3ms\n"
          ]
        },
        {
          "name": "stdout",
          "output_type": "stream",
          "text": [
            "13\n"
          ]
        },
        {
          "name": "stderr",
          "output_type": "stream",
          "text": [
            "video 1/1 (207/900) d:\\A_HIT_AI\\Hackathon\\new\\Video_Phase1\\Doto_103.mp4: 384x640 11 persons, 905.6ms\n"
          ]
        },
        {
          "name": "stdout",
          "output_type": "stream",
          "text": [
            "11\n"
          ]
        },
        {
          "name": "stderr",
          "output_type": "stream",
          "text": [
            "video 1/1 (208/900) d:\\A_HIT_AI\\Hackathon\\new\\Video_Phase1\\Doto_103.mp4: 384x640 11 persons, 860.1ms\n"
          ]
        },
        {
          "name": "stdout",
          "output_type": "stream",
          "text": [
            "11\n"
          ]
        },
        {
          "name": "stderr",
          "output_type": "stream",
          "text": [
            "video 1/1 (209/900) d:\\A_HIT_AI\\Hackathon\\new\\Video_Phase1\\Doto_103.mp4: 384x640 11 persons, 860.6ms\n"
          ]
        },
        {
          "name": "stdout",
          "output_type": "stream",
          "text": [
            "11\n"
          ]
        },
        {
          "name": "stderr",
          "output_type": "stream",
          "text": [
            "video 1/1 (210/900) d:\\A_HIT_AI\\Hackathon\\new\\Video_Phase1\\Doto_103.mp4: 384x640 11 persons, 848.1ms\n"
          ]
        },
        {
          "name": "stdout",
          "output_type": "stream",
          "text": [
            "11\n"
          ]
        },
        {
          "name": "stderr",
          "output_type": "stream",
          "text": [
            "video 1/1 (211/900) d:\\A_HIT_AI\\Hackathon\\new\\Video_Phase1\\Doto_103.mp4: 384x640 11 persons, 845.4ms\n"
          ]
        },
        {
          "name": "stdout",
          "output_type": "stream",
          "text": [
            "11\n"
          ]
        },
        {
          "name": "stderr",
          "output_type": "stream",
          "text": [
            "video 1/1 (212/900) d:\\A_HIT_AI\\Hackathon\\new\\Video_Phase1\\Doto_103.mp4: 384x640 11 persons, 861.5ms\n"
          ]
        },
        {
          "name": "stdout",
          "output_type": "stream",
          "text": [
            "11\n"
          ]
        },
        {
          "name": "stderr",
          "output_type": "stream",
          "text": [
            "video 1/1 (213/900) d:\\A_HIT_AI\\Hackathon\\new\\Video_Phase1\\Doto_103.mp4: 384x640 10 persons, 993.3ms\n"
          ]
        },
        {
          "name": "stdout",
          "output_type": "stream",
          "text": [
            "10\n"
          ]
        },
        {
          "name": "stderr",
          "output_type": "stream",
          "text": [
            "video 1/1 (214/900) d:\\A_HIT_AI\\Hackathon\\new\\Video_Phase1\\Doto_103.mp4: 384x640 10 persons, 899.8ms\n"
          ]
        },
        {
          "name": "stdout",
          "output_type": "stream",
          "text": [
            "10\n"
          ]
        },
        {
          "name": "stderr",
          "output_type": "stream",
          "text": [
            "video 1/1 (215/900) d:\\A_HIT_AI\\Hackathon\\new\\Video_Phase1\\Doto_103.mp4: 384x640 10 persons, 851.6ms\n"
          ]
        },
        {
          "name": "stdout",
          "output_type": "stream",
          "text": [
            "10\n"
          ]
        },
        {
          "name": "stderr",
          "output_type": "stream",
          "text": [
            "video 1/1 (216/900) d:\\A_HIT_AI\\Hackathon\\new\\Video_Phase1\\Doto_103.mp4: 384x640 10 persons, 850.2ms\n"
          ]
        },
        {
          "name": "stdout",
          "output_type": "stream",
          "text": [
            "10\n"
          ]
        },
        {
          "name": "stderr",
          "output_type": "stream",
          "text": [
            "video 1/1 (217/900) d:\\A_HIT_AI\\Hackathon\\new\\Video_Phase1\\Doto_103.mp4: 384x640 10 persons, 945.5ms\n"
          ]
        },
        {
          "name": "stdout",
          "output_type": "stream",
          "text": [
            "10\n"
          ]
        },
        {
          "name": "stderr",
          "output_type": "stream",
          "text": [
            "video 1/1 (218/900) d:\\A_HIT_AI\\Hackathon\\new\\Video_Phase1\\Doto_103.mp4: 384x640 11 persons, 997.7ms\n"
          ]
        },
        {
          "name": "stdout",
          "output_type": "stream",
          "text": [
            "11\n"
          ]
        },
        {
          "name": "stderr",
          "output_type": "stream",
          "text": [
            "video 1/1 (219/900) d:\\A_HIT_AI\\Hackathon\\new\\Video_Phase1\\Doto_103.mp4: 384x640 11 persons, 1160.7ms\n"
          ]
        },
        {
          "name": "stdout",
          "output_type": "stream",
          "text": [
            "11\n"
          ]
        },
        {
          "name": "stderr",
          "output_type": "stream",
          "text": [
            "video 1/1 (220/900) d:\\A_HIT_AI\\Hackathon\\new\\Video_Phase1\\Doto_103.mp4: 384x640 12 persons, 873.2ms\n"
          ]
        },
        {
          "name": "stdout",
          "output_type": "stream",
          "text": [
            "12\n"
          ]
        },
        {
          "name": "stderr",
          "output_type": "stream",
          "text": [
            "video 1/1 (221/900) d:\\A_HIT_AI\\Hackathon\\new\\Video_Phase1\\Doto_103.mp4: 384x640 13 persons, 954.8ms\n"
          ]
        },
        {
          "name": "stdout",
          "output_type": "stream",
          "text": [
            "13\n"
          ]
        },
        {
          "name": "stderr",
          "output_type": "stream",
          "text": [
            "video 1/1 (222/900) d:\\A_HIT_AI\\Hackathon\\new\\Video_Phase1\\Doto_103.mp4: 384x640 13 persons, 1091.7ms\n"
          ]
        },
        {
          "name": "stdout",
          "output_type": "stream",
          "text": [
            "13\n"
          ]
        },
        {
          "name": "stderr",
          "output_type": "stream",
          "text": [
            "video 1/1 (223/900) d:\\A_HIT_AI\\Hackathon\\new\\Video_Phase1\\Doto_103.mp4: 384x640 12 persons, 1476.9ms\n"
          ]
        },
        {
          "name": "stdout",
          "output_type": "stream",
          "text": [
            "12\n"
          ]
        },
        {
          "name": "stderr",
          "output_type": "stream",
          "text": [
            "video 1/1 (224/900) d:\\A_HIT_AI\\Hackathon\\new\\Video_Phase1\\Doto_103.mp4: 384x640 12 persons, 1058.2ms\n"
          ]
        },
        {
          "name": "stdout",
          "output_type": "stream",
          "text": [
            "12\n"
          ]
        },
        {
          "name": "stderr",
          "output_type": "stream",
          "text": [
            "video 1/1 (225/900) d:\\A_HIT_AI\\Hackathon\\new\\Video_Phase1\\Doto_103.mp4: 384x640 12 persons, 1045.1ms\n"
          ]
        },
        {
          "name": "stdout",
          "output_type": "stream",
          "text": [
            "12\n"
          ]
        },
        {
          "name": "stderr",
          "output_type": "stream",
          "text": [
            "video 1/1 (226/900) d:\\A_HIT_AI\\Hackathon\\new\\Video_Phase1\\Doto_103.mp4: 384x640 12 persons, 1118.4ms\n"
          ]
        },
        {
          "name": "stdout",
          "output_type": "stream",
          "text": [
            "12\n"
          ]
        },
        {
          "name": "stderr",
          "output_type": "stream",
          "text": [
            "video 1/1 (227/900) d:\\A_HIT_AI\\Hackathon\\new\\Video_Phase1\\Doto_103.mp4: 384x640 12 persons, 1397.1ms\n"
          ]
        },
        {
          "name": "stdout",
          "output_type": "stream",
          "text": [
            "12\n"
          ]
        },
        {
          "name": "stderr",
          "output_type": "stream",
          "text": [
            "video 1/1 (228/900) d:\\A_HIT_AI\\Hackathon\\new\\Video_Phase1\\Doto_103.mp4: 384x640 12 persons, 1203.5ms\n"
          ]
        },
        {
          "name": "stdout",
          "output_type": "stream",
          "text": [
            "12\n"
          ]
        },
        {
          "name": "stderr",
          "output_type": "stream",
          "text": [
            "video 1/1 (229/900) d:\\A_HIT_AI\\Hackathon\\new\\Video_Phase1\\Doto_103.mp4: 384x640 12 persons, 1084.9ms\n"
          ]
        },
        {
          "name": "stdout",
          "output_type": "stream",
          "text": [
            "12\n"
          ]
        },
        {
          "name": "stderr",
          "output_type": "stream",
          "text": [
            "video 1/1 (230/900) d:\\A_HIT_AI\\Hackathon\\new\\Video_Phase1\\Doto_103.mp4: 384x640 12 persons, 772.2ms\n"
          ]
        },
        {
          "name": "stdout",
          "output_type": "stream",
          "text": [
            "12\n"
          ]
        },
        {
          "name": "stderr",
          "output_type": "stream",
          "text": [
            "video 1/1 (231/900) d:\\A_HIT_AI\\Hackathon\\new\\Video_Phase1\\Doto_103.mp4: 384x640 12 persons, 758.2ms\n"
          ]
        },
        {
          "name": "stdout",
          "output_type": "stream",
          "text": [
            "12\n"
          ]
        },
        {
          "name": "stderr",
          "output_type": "stream",
          "text": [
            "video 1/1 (232/900) d:\\A_HIT_AI\\Hackathon\\new\\Video_Phase1\\Doto_103.mp4: 384x640 12 persons, 762.8ms\n"
          ]
        },
        {
          "name": "stdout",
          "output_type": "stream",
          "text": [
            "12\n"
          ]
        },
        {
          "name": "stderr",
          "output_type": "stream",
          "text": [
            "video 1/1 (233/900) d:\\A_HIT_AI\\Hackathon\\new\\Video_Phase1\\Doto_103.mp4: 384x640 12 persons, 775.2ms\n"
          ]
        },
        {
          "name": "stdout",
          "output_type": "stream",
          "text": [
            "12\n"
          ]
        },
        {
          "name": "stderr",
          "output_type": "stream",
          "text": [
            "video 1/1 (234/900) d:\\A_HIT_AI\\Hackathon\\new\\Video_Phase1\\Doto_103.mp4: 384x640 12 persons, 779.4ms\n"
          ]
        },
        {
          "name": "stdout",
          "output_type": "stream",
          "text": [
            "12\n"
          ]
        },
        {
          "name": "stderr",
          "output_type": "stream",
          "text": [
            "video 1/1 (235/900) d:\\A_HIT_AI\\Hackathon\\new\\Video_Phase1\\Doto_103.mp4: 384x640 12 persons, 773.6ms\n"
          ]
        },
        {
          "name": "stdout",
          "output_type": "stream",
          "text": [
            "12\n"
          ]
        },
        {
          "name": "stderr",
          "output_type": "stream",
          "text": [
            "video 1/1 (236/900) d:\\A_HIT_AI\\Hackathon\\new\\Video_Phase1\\Doto_103.mp4: 384x640 12 persons, 768.8ms\n"
          ]
        },
        {
          "name": "stdout",
          "output_type": "stream",
          "text": [
            "12\n"
          ]
        },
        {
          "name": "stderr",
          "output_type": "stream",
          "text": [
            "video 1/1 (237/900) d:\\A_HIT_AI\\Hackathon\\new\\Video_Phase1\\Doto_103.mp4: 384x640 11 persons, 800.5ms\n"
          ]
        },
        {
          "name": "stdout",
          "output_type": "stream",
          "text": [
            "11\n"
          ]
        },
        {
          "name": "stderr",
          "output_type": "stream",
          "text": [
            "video 1/1 (238/900) d:\\A_HIT_AI\\Hackathon\\new\\Video_Phase1\\Doto_103.mp4: 384x640 11 persons, 778.3ms\n"
          ]
        },
        {
          "name": "stdout",
          "output_type": "stream",
          "text": [
            "11\n"
          ]
        },
        {
          "name": "stderr",
          "output_type": "stream",
          "text": [
            "video 1/1 (239/900) d:\\A_HIT_AI\\Hackathon\\new\\Video_Phase1\\Doto_103.mp4: 384x640 11 persons, 766.6ms\n"
          ]
        },
        {
          "name": "stdout",
          "output_type": "stream",
          "text": [
            "11\n"
          ]
        },
        {
          "name": "stderr",
          "output_type": "stream",
          "text": [
            "video 1/1 (240/900) d:\\A_HIT_AI\\Hackathon\\new\\Video_Phase1\\Doto_103.mp4: 384x640 12 persons, 830.0ms\n"
          ]
        },
        {
          "name": "stdout",
          "output_type": "stream",
          "text": [
            "12\n"
          ]
        },
        {
          "name": "stderr",
          "output_type": "stream",
          "text": [
            "video 1/1 (241/900) d:\\A_HIT_AI\\Hackathon\\new\\Video_Phase1\\Doto_103.mp4: 384x640 12 persons, 745.8ms\n"
          ]
        },
        {
          "name": "stdout",
          "output_type": "stream",
          "text": [
            "12\n"
          ]
        },
        {
          "name": "stderr",
          "output_type": "stream",
          "text": [
            "video 1/1 (242/900) d:\\A_HIT_AI\\Hackathon\\new\\Video_Phase1\\Doto_103.mp4: 384x640 12 persons, 739.9ms\n"
          ]
        },
        {
          "name": "stdout",
          "output_type": "stream",
          "text": [
            "12\n"
          ]
        },
        {
          "name": "stderr",
          "output_type": "stream",
          "text": [
            "video 1/1 (243/900) d:\\A_HIT_AI\\Hackathon\\new\\Video_Phase1\\Doto_103.mp4: 384x640 13 persons, 733.5ms\n"
          ]
        },
        {
          "name": "stdout",
          "output_type": "stream",
          "text": [
            "13\n"
          ]
        },
        {
          "name": "stderr",
          "output_type": "stream",
          "text": [
            "video 1/1 (244/900) d:\\A_HIT_AI\\Hackathon\\new\\Video_Phase1\\Doto_103.mp4: 384x640 13 persons, 736.0ms\n"
          ]
        },
        {
          "name": "stdout",
          "output_type": "stream",
          "text": [
            "13\n"
          ]
        },
        {
          "name": "stderr",
          "output_type": "stream",
          "text": [
            "video 1/1 (245/900) d:\\A_HIT_AI\\Hackathon\\new\\Video_Phase1\\Doto_103.mp4: 384x640 13 persons, 746.3ms\n"
          ]
        },
        {
          "name": "stdout",
          "output_type": "stream",
          "text": [
            "13\n"
          ]
        },
        {
          "name": "stderr",
          "output_type": "stream",
          "text": [
            "video 1/1 (246/900) d:\\A_HIT_AI\\Hackathon\\new\\Video_Phase1\\Doto_103.mp4: 384x640 13 persons, 744.4ms\n"
          ]
        },
        {
          "name": "stdout",
          "output_type": "stream",
          "text": [
            "13\n"
          ]
        },
        {
          "name": "stderr",
          "output_type": "stream",
          "text": [
            "video 1/1 (247/900) d:\\A_HIT_AI\\Hackathon\\new\\Video_Phase1\\Doto_103.mp4: 384x640 13 persons, 769.6ms\n"
          ]
        },
        {
          "name": "stdout",
          "output_type": "stream",
          "text": [
            "13\n"
          ]
        },
        {
          "name": "stderr",
          "output_type": "stream",
          "text": [
            "video 1/1 (248/900) d:\\A_HIT_AI\\Hackathon\\new\\Video_Phase1\\Doto_103.mp4: 384x640 12 persons, 743.2ms\n"
          ]
        },
        {
          "name": "stdout",
          "output_type": "stream",
          "text": [
            "12\n"
          ]
        },
        {
          "name": "stderr",
          "output_type": "stream",
          "text": [
            "video 1/1 (249/900) d:\\A_HIT_AI\\Hackathon\\new\\Video_Phase1\\Doto_103.mp4: 384x640 11 persons, 725.5ms\n"
          ]
        },
        {
          "name": "stdout",
          "output_type": "stream",
          "text": [
            "11\n"
          ]
        },
        {
          "name": "stderr",
          "output_type": "stream",
          "text": [
            "video 1/1 (250/900) d:\\A_HIT_AI\\Hackathon\\new\\Video_Phase1\\Doto_103.mp4: 384x640 11 persons, 746.4ms\n"
          ]
        },
        {
          "name": "stdout",
          "output_type": "stream",
          "text": [
            "11\n"
          ]
        },
        {
          "name": "stderr",
          "output_type": "stream",
          "text": [
            "video 1/1 (251/900) d:\\A_HIT_AI\\Hackathon\\new\\Video_Phase1\\Doto_103.mp4: 384x640 11 persons, 743.2ms\n"
          ]
        },
        {
          "name": "stdout",
          "output_type": "stream",
          "text": [
            "11\n"
          ]
        },
        {
          "name": "stderr",
          "output_type": "stream",
          "text": [
            "video 1/1 (252/900) d:\\A_HIT_AI\\Hackathon\\new\\Video_Phase1\\Doto_103.mp4: 384x640 11 persons, 737.0ms\n"
          ]
        },
        {
          "name": "stdout",
          "output_type": "stream",
          "text": [
            "11\n"
          ]
        },
        {
          "name": "stderr",
          "output_type": "stream",
          "text": [
            "video 1/1 (253/900) d:\\A_HIT_AI\\Hackathon\\new\\Video_Phase1\\Doto_103.mp4: 384x640 10 persons, 735.8ms\n"
          ]
        },
        {
          "name": "stdout",
          "output_type": "stream",
          "text": [
            "10\n"
          ]
        },
        {
          "name": "stderr",
          "output_type": "stream",
          "text": [
            "video 1/1 (254/900) d:\\A_HIT_AI\\Hackathon\\new\\Video_Phase1\\Doto_103.mp4: 384x640 10 persons, 786.9ms\n"
          ]
        },
        {
          "name": "stdout",
          "output_type": "stream",
          "text": [
            "10\n"
          ]
        },
        {
          "name": "stderr",
          "output_type": "stream",
          "text": [
            "video 1/1 (255/900) d:\\A_HIT_AI\\Hackathon\\new\\Video_Phase1\\Doto_103.mp4: 384x640 10 persons, 723.8ms\n"
          ]
        },
        {
          "name": "stdout",
          "output_type": "stream",
          "text": [
            "10\n"
          ]
        },
        {
          "name": "stderr",
          "output_type": "stream",
          "text": [
            "video 1/1 (256/900) d:\\A_HIT_AI\\Hackathon\\new\\Video_Phase1\\Doto_103.mp4: 384x640 10 persons, 715.8ms\n"
          ]
        },
        {
          "name": "stdout",
          "output_type": "stream",
          "text": [
            "10\n"
          ]
        },
        {
          "name": "stderr",
          "output_type": "stream",
          "text": [
            "video 1/1 (257/900) d:\\A_HIT_AI\\Hackathon\\new\\Video_Phase1\\Doto_103.mp4: 384x640 9 persons, 732.2ms\n"
          ]
        },
        {
          "name": "stdout",
          "output_type": "stream",
          "text": [
            "9\n"
          ]
        },
        {
          "name": "stderr",
          "output_type": "stream",
          "text": [
            "video 1/1 (258/900) d:\\A_HIT_AI\\Hackathon\\new\\Video_Phase1\\Doto_103.mp4: 384x640 9 persons, 736.8ms\n"
          ]
        },
        {
          "name": "stdout",
          "output_type": "stream",
          "text": [
            "9\n"
          ]
        },
        {
          "name": "stderr",
          "output_type": "stream",
          "text": [
            "video 1/1 (259/900) d:\\A_HIT_AI\\Hackathon\\new\\Video_Phase1\\Doto_103.mp4: 384x640 9 persons, 724.5ms\n"
          ]
        },
        {
          "name": "stdout",
          "output_type": "stream",
          "text": [
            "9\n"
          ]
        },
        {
          "name": "stderr",
          "output_type": "stream",
          "text": [
            "video 1/1 (260/900) d:\\A_HIT_AI\\Hackathon\\new\\Video_Phase1\\Doto_103.mp4: 384x640 10 persons, 743.6ms\n"
          ]
        },
        {
          "name": "stdout",
          "output_type": "stream",
          "text": [
            "10\n"
          ]
        },
        {
          "name": "stderr",
          "output_type": "stream",
          "text": [
            "video 1/1 (261/900) d:\\A_HIT_AI\\Hackathon\\new\\Video_Phase1\\Doto_103.mp4: 384x640 11 persons, 761.7ms\n"
          ]
        },
        {
          "name": "stdout",
          "output_type": "stream",
          "text": [
            "11\n"
          ]
        },
        {
          "name": "stderr",
          "output_type": "stream",
          "text": [
            "video 1/1 (262/900) d:\\A_HIT_AI\\Hackathon\\new\\Video_Phase1\\Doto_103.mp4: 384x640 11 persons, 737.5ms\n"
          ]
        },
        {
          "name": "stdout",
          "output_type": "stream",
          "text": [
            "11\n"
          ]
        },
        {
          "name": "stderr",
          "output_type": "stream",
          "text": [
            "video 1/1 (263/900) d:\\A_HIT_AI\\Hackathon\\new\\Video_Phase1\\Doto_103.mp4: 384x640 11 persons, 738.9ms\n"
          ]
        },
        {
          "name": "stdout",
          "output_type": "stream",
          "text": [
            "11\n"
          ]
        },
        {
          "name": "stderr",
          "output_type": "stream",
          "text": [
            "video 1/1 (264/900) d:\\A_HIT_AI\\Hackathon\\new\\Video_Phase1\\Doto_103.mp4: 384x640 11 persons, 868.5ms\n"
          ]
        },
        {
          "name": "stdout",
          "output_type": "stream",
          "text": [
            "11\n"
          ]
        },
        {
          "name": "stderr",
          "output_type": "stream",
          "text": [
            "video 1/1 (265/900) d:\\A_HIT_AI\\Hackathon\\new\\Video_Phase1\\Doto_103.mp4: 384x640 11 persons, 767.8ms\n"
          ]
        },
        {
          "name": "stdout",
          "output_type": "stream",
          "text": [
            "11\n"
          ]
        },
        {
          "name": "stderr",
          "output_type": "stream",
          "text": [
            "video 1/1 (266/900) d:\\A_HIT_AI\\Hackathon\\new\\Video_Phase1\\Doto_103.mp4: 384x640 13 persons, 758.3ms\n"
          ]
        },
        {
          "name": "stdout",
          "output_type": "stream",
          "text": [
            "13\n"
          ]
        },
        {
          "name": "stderr",
          "output_type": "stream",
          "text": [
            "video 1/1 (267/900) d:\\A_HIT_AI\\Hackathon\\new\\Video_Phase1\\Doto_103.mp4: 384x640 13 persons, 761.3ms\n"
          ]
        },
        {
          "name": "stdout",
          "output_type": "stream",
          "text": [
            "13\n"
          ]
        },
        {
          "name": "stderr",
          "output_type": "stream",
          "text": [
            "video 1/1 (268/900) d:\\A_HIT_AI\\Hackathon\\new\\Video_Phase1\\Doto_103.mp4: 384x640 12 persons, 730.3ms\n"
          ]
        },
        {
          "name": "stdout",
          "output_type": "stream",
          "text": [
            "12\n"
          ]
        },
        {
          "name": "stderr",
          "output_type": "stream",
          "text": [
            "video 1/1 (269/900) d:\\A_HIT_AI\\Hackathon\\new\\Video_Phase1\\Doto_103.mp4: 384x640 11 persons, 739.8ms\n"
          ]
        },
        {
          "name": "stdout",
          "output_type": "stream",
          "text": [
            "11\n"
          ]
        },
        {
          "name": "stderr",
          "output_type": "stream",
          "text": [
            "video 1/1 (270/900) d:\\A_HIT_AI\\Hackathon\\new\\Video_Phase1\\Doto_103.mp4: 384x640 12 persons, 717.8ms\n"
          ]
        },
        {
          "name": "stdout",
          "output_type": "stream",
          "text": [
            "12\n"
          ]
        },
        {
          "name": "stderr",
          "output_type": "stream",
          "text": [
            "video 1/1 (271/900) d:\\A_HIT_AI\\Hackathon\\new\\Video_Phase1\\Doto_103.mp4: 384x640 11 persons, 735.5ms\n"
          ]
        },
        {
          "name": "stdout",
          "output_type": "stream",
          "text": [
            "11\n"
          ]
        },
        {
          "name": "stderr",
          "output_type": "stream",
          "text": [
            "video 1/1 (272/900) d:\\A_HIT_AI\\Hackathon\\new\\Video_Phase1\\Doto_103.mp4: 384x640 13 persons, 774.0ms\n"
          ]
        },
        {
          "name": "stdout",
          "output_type": "stream",
          "text": [
            "13\n"
          ]
        },
        {
          "name": "stderr",
          "output_type": "stream",
          "text": [
            "video 1/1 (273/900) d:\\A_HIT_AI\\Hackathon\\new\\Video_Phase1\\Doto_103.mp4: 384x640 12 persons, 734.4ms\n"
          ]
        },
        {
          "name": "stdout",
          "output_type": "stream",
          "text": [
            "12\n"
          ]
        },
        {
          "name": "stderr",
          "output_type": "stream",
          "text": [
            "video 1/1 (274/900) d:\\A_HIT_AI\\Hackathon\\new\\Video_Phase1\\Doto_103.mp4: 384x640 12 persons, 738.9ms\n"
          ]
        },
        {
          "name": "stdout",
          "output_type": "stream",
          "text": [
            "12\n"
          ]
        },
        {
          "name": "stderr",
          "output_type": "stream",
          "text": [
            "video 1/1 (275/900) d:\\A_HIT_AI\\Hackathon\\new\\Video_Phase1\\Doto_103.mp4: 384x640 12 persons, 736.0ms\n"
          ]
        },
        {
          "name": "stdout",
          "output_type": "stream",
          "text": [
            "12\n"
          ]
        },
        {
          "name": "stderr",
          "output_type": "stream",
          "text": [
            "video 1/1 (276/900) d:\\A_HIT_AI\\Hackathon\\new\\Video_Phase1\\Doto_103.mp4: 384x640 11 persons, 743.7ms\n"
          ]
        },
        {
          "name": "stdout",
          "output_type": "stream",
          "text": [
            "11\n"
          ]
        },
        {
          "name": "stderr",
          "output_type": "stream",
          "text": [
            "video 1/1 (277/900) d:\\A_HIT_AI\\Hackathon\\new\\Video_Phase1\\Doto_103.mp4: 384x640 11 persons, 742.3ms\n"
          ]
        },
        {
          "name": "stdout",
          "output_type": "stream",
          "text": [
            "11\n"
          ]
        },
        {
          "name": "stderr",
          "output_type": "stream",
          "text": [
            "video 1/1 (278/900) d:\\A_HIT_AI\\Hackathon\\new\\Video_Phase1\\Doto_103.mp4: 384x640 10 persons, 730.0ms\n"
          ]
        },
        {
          "name": "stdout",
          "output_type": "stream",
          "text": [
            "10\n"
          ]
        },
        {
          "name": "stderr",
          "output_type": "stream",
          "text": [
            "video 1/1 (279/900) d:\\A_HIT_AI\\Hackathon\\new\\Video_Phase1\\Doto_103.mp4: 384x640 10 persons, 751.3ms\n"
          ]
        },
        {
          "name": "stdout",
          "output_type": "stream",
          "text": [
            "10\n"
          ]
        },
        {
          "name": "stderr",
          "output_type": "stream",
          "text": [
            "video 1/1 (280/900) d:\\A_HIT_AI\\Hackathon\\new\\Video_Phase1\\Doto_103.mp4: 384x640 10 persons, 788.8ms\n"
          ]
        },
        {
          "name": "stdout",
          "output_type": "stream",
          "text": [
            "10\n"
          ]
        },
        {
          "name": "stderr",
          "output_type": "stream",
          "text": [
            "video 1/1 (281/900) d:\\A_HIT_AI\\Hackathon\\new\\Video_Phase1\\Doto_103.mp4: 384x640 10 persons, 780.2ms\n"
          ]
        },
        {
          "name": "stdout",
          "output_type": "stream",
          "text": [
            "10\n"
          ]
        },
        {
          "name": "stderr",
          "output_type": "stream",
          "text": [
            "video 1/1 (282/900) d:\\A_HIT_AI\\Hackathon\\new\\Video_Phase1\\Doto_103.mp4: 384x640 10 persons, 760.3ms\n"
          ]
        },
        {
          "name": "stdout",
          "output_type": "stream",
          "text": [
            "10\n"
          ]
        },
        {
          "name": "stderr",
          "output_type": "stream",
          "text": [
            "video 1/1 (283/900) d:\\A_HIT_AI\\Hackathon\\new\\Video_Phase1\\Doto_103.mp4: 384x640 9 persons, 755.7ms\n"
          ]
        },
        {
          "name": "stdout",
          "output_type": "stream",
          "text": [
            "9\n"
          ]
        },
        {
          "name": "stderr",
          "output_type": "stream",
          "text": [
            "video 1/1 (284/900) d:\\A_HIT_AI\\Hackathon\\new\\Video_Phase1\\Doto_103.mp4: 384x640 9 persons, 765.4ms\n"
          ]
        },
        {
          "name": "stdout",
          "output_type": "stream",
          "text": [
            "9\n"
          ]
        },
        {
          "name": "stderr",
          "output_type": "stream",
          "text": [
            "video 1/1 (285/900) d:\\A_HIT_AI\\Hackathon\\new\\Video_Phase1\\Doto_103.mp4: 384x640 9 persons, 874.4ms\n"
          ]
        },
        {
          "name": "stdout",
          "output_type": "stream",
          "text": [
            "9\n"
          ]
        },
        {
          "name": "stderr",
          "output_type": "stream",
          "text": [
            "video 1/1 (286/900) d:\\A_HIT_AI\\Hackathon\\new\\Video_Phase1\\Doto_103.mp4: 384x640 11 persons, 1026.5ms\n"
          ]
        },
        {
          "name": "stdout",
          "output_type": "stream",
          "text": [
            "11\n"
          ]
        },
        {
          "name": "stderr",
          "output_type": "stream",
          "text": [
            "video 1/1 (287/900) d:\\A_HIT_AI\\Hackathon\\new\\Video_Phase1\\Doto_103.mp4: 384x640 10 persons, 742.4ms\n"
          ]
        },
        {
          "name": "stdout",
          "output_type": "stream",
          "text": [
            "10\n"
          ]
        },
        {
          "name": "stderr",
          "output_type": "stream",
          "text": [
            "video 1/1 (288/900) d:\\A_HIT_AI\\Hackathon\\new\\Video_Phase1\\Doto_103.mp4: 384x640 10 persons, 802.1ms\n"
          ]
        },
        {
          "name": "stdout",
          "output_type": "stream",
          "text": [
            "10\n"
          ]
        },
        {
          "name": "stderr",
          "output_type": "stream",
          "text": [
            "video 1/1 (289/900) d:\\A_HIT_AI\\Hackathon\\new\\Video_Phase1\\Doto_103.mp4: 384x640 10 persons, 936.5ms\n"
          ]
        },
        {
          "name": "stdout",
          "output_type": "stream",
          "text": [
            "10\n"
          ]
        },
        {
          "name": "stderr",
          "output_type": "stream",
          "text": [
            "video 1/1 (290/900) d:\\A_HIT_AI\\Hackathon\\new\\Video_Phase1\\Doto_103.mp4: 384x640 10 persons, 1445.1ms\n"
          ]
        },
        {
          "name": "stdout",
          "output_type": "stream",
          "text": [
            "10\n"
          ]
        },
        {
          "name": "stderr",
          "output_type": "stream",
          "text": [
            "video 1/1 (291/900) d:\\A_HIT_AI\\Hackathon\\new\\Video_Phase1\\Doto_103.mp4: 384x640 10 persons, 976.1ms\n"
          ]
        },
        {
          "name": "stdout",
          "output_type": "stream",
          "text": [
            "10\n"
          ]
        },
        {
          "name": "stderr",
          "output_type": "stream",
          "text": [
            "video 1/1 (292/900) d:\\A_HIT_AI\\Hackathon\\new\\Video_Phase1\\Doto_103.mp4: 384x640 10 persons, 1121.0ms\n"
          ]
        },
        {
          "name": "stdout",
          "output_type": "stream",
          "text": [
            "10\n"
          ]
        },
        {
          "name": "stderr",
          "output_type": "stream",
          "text": [
            "video 1/1 (293/900) d:\\A_HIT_AI\\Hackathon\\new\\Video_Phase1\\Doto_103.mp4: 384x640 9 persons, 814.3ms\n"
          ]
        },
        {
          "name": "stdout",
          "output_type": "stream",
          "text": [
            "9\n"
          ]
        },
        {
          "name": "stderr",
          "output_type": "stream",
          "text": [
            "video 1/1 (294/900) d:\\A_HIT_AI\\Hackathon\\new\\Video_Phase1\\Doto_103.mp4: 384x640 8 persons, 799.9ms\n"
          ]
        },
        {
          "name": "stdout",
          "output_type": "stream",
          "text": [
            "8\n"
          ]
        },
        {
          "name": "stderr",
          "output_type": "stream",
          "text": [
            "video 1/1 (295/900) d:\\A_HIT_AI\\Hackathon\\new\\Video_Phase1\\Doto_103.mp4: 384x640 7 persons, 836.4ms\n"
          ]
        },
        {
          "name": "stdout",
          "output_type": "stream",
          "text": [
            "7\n"
          ]
        },
        {
          "name": "stderr",
          "output_type": "stream",
          "text": [
            "video 1/1 (296/900) d:\\A_HIT_AI\\Hackathon\\new\\Video_Phase1\\Doto_103.mp4: 384x640 11 persons, 834.7ms\n"
          ]
        },
        {
          "name": "stdout",
          "output_type": "stream",
          "text": [
            "11\n"
          ]
        },
        {
          "name": "stderr",
          "output_type": "stream",
          "text": [
            "video 1/1 (297/900) d:\\A_HIT_AI\\Hackathon\\new\\Video_Phase1\\Doto_103.mp4: 384x640 12 persons, 833.9ms\n"
          ]
        },
        {
          "name": "stdout",
          "output_type": "stream",
          "text": [
            "12\n"
          ]
        },
        {
          "name": "stderr",
          "output_type": "stream",
          "text": [
            "video 1/1 (298/900) d:\\A_HIT_AI\\Hackathon\\new\\Video_Phase1\\Doto_103.mp4: 384x640 12 persons, 902.5ms\n"
          ]
        },
        {
          "name": "stdout",
          "output_type": "stream",
          "text": [
            "12\n"
          ]
        },
        {
          "name": "stderr",
          "output_type": "stream",
          "text": [
            "video 1/1 (299/900) d:\\A_HIT_AI\\Hackathon\\new\\Video_Phase1\\Doto_103.mp4: 384x640 12 persons, 799.1ms\n"
          ]
        },
        {
          "name": "stdout",
          "output_type": "stream",
          "text": [
            "12\n"
          ]
        },
        {
          "name": "stderr",
          "output_type": "stream",
          "text": [
            "video 1/1 (300/900) d:\\A_HIT_AI\\Hackathon\\new\\Video_Phase1\\Doto_103.mp4: 384x640 12 persons, 788.3ms\n"
          ]
        },
        {
          "name": "stdout",
          "output_type": "stream",
          "text": [
            "12\n"
          ]
        },
        {
          "name": "stderr",
          "output_type": "stream",
          "text": [
            "video 1/1 (301/900) d:\\A_HIT_AI\\Hackathon\\new\\Video_Phase1\\Doto_103.mp4: 384x640 9 persons, 771.2ms\n"
          ]
        },
        {
          "name": "stdout",
          "output_type": "stream",
          "text": [
            "9\n"
          ]
        },
        {
          "name": "stderr",
          "output_type": "stream",
          "text": [
            "video 1/1 (302/900) d:\\A_HIT_AI\\Hackathon\\new\\Video_Phase1\\Doto_103.mp4: 384x640 9 persons, 769.0ms\n"
          ]
        },
        {
          "name": "stdout",
          "output_type": "stream",
          "text": [
            "9\n"
          ]
        },
        {
          "name": "stderr",
          "output_type": "stream",
          "text": [
            "video 1/1 (303/900) d:\\A_HIT_AI\\Hackathon\\new\\Video_Phase1\\Doto_103.mp4: 384x640 10 persons, 761.8ms\n"
          ]
        },
        {
          "name": "stdout",
          "output_type": "stream",
          "text": [
            "10\n"
          ]
        },
        {
          "name": "stderr",
          "output_type": "stream",
          "text": [
            "video 1/1 (304/900) d:\\A_HIT_AI\\Hackathon\\new\\Video_Phase1\\Doto_103.mp4: 384x640 9 persons, 777.9ms\n"
          ]
        },
        {
          "name": "stdout",
          "output_type": "stream",
          "text": [
            "9\n"
          ]
        },
        {
          "name": "stderr",
          "output_type": "stream",
          "text": [
            "video 1/1 (305/900) d:\\A_HIT_AI\\Hackathon\\new\\Video_Phase1\\Doto_103.mp4: 384x640 9 persons, 876.8ms\n"
          ]
        },
        {
          "name": "stdout",
          "output_type": "stream",
          "text": [
            "9\n"
          ]
        },
        {
          "name": "stderr",
          "output_type": "stream",
          "text": [
            "video 1/1 (306/900) d:\\A_HIT_AI\\Hackathon\\new\\Video_Phase1\\Doto_103.mp4: 384x640 10 persons, 793.8ms\n"
          ]
        },
        {
          "name": "stdout",
          "output_type": "stream",
          "text": [
            "10\n"
          ]
        },
        {
          "name": "stderr",
          "output_type": "stream",
          "text": [
            "video 1/1 (307/900) d:\\A_HIT_AI\\Hackathon\\new\\Video_Phase1\\Doto_103.mp4: 384x640 9 persons, 756.5ms\n"
          ]
        },
        {
          "name": "stdout",
          "output_type": "stream",
          "text": [
            "9\n"
          ]
        },
        {
          "name": "stderr",
          "output_type": "stream",
          "text": [
            "video 1/1 (308/900) d:\\A_HIT_AI\\Hackathon\\new\\Video_Phase1\\Doto_103.mp4: 384x640 9 persons, 746.4ms\n"
          ]
        },
        {
          "name": "stdout",
          "output_type": "stream",
          "text": [
            "9\n"
          ]
        },
        {
          "name": "stderr",
          "output_type": "stream",
          "text": [
            "video 1/1 (309/900) d:\\A_HIT_AI\\Hackathon\\new\\Video_Phase1\\Doto_103.mp4: 384x640 9 persons, 790.5ms\n"
          ]
        },
        {
          "name": "stdout",
          "output_type": "stream",
          "text": [
            "9\n"
          ]
        },
        {
          "name": "stderr",
          "output_type": "stream",
          "text": [
            "video 1/1 (310/900) d:\\A_HIT_AI\\Hackathon\\new\\Video_Phase1\\Doto_103.mp4: 384x640 9 persons, 794.2ms\n"
          ]
        },
        {
          "name": "stdout",
          "output_type": "stream",
          "text": [
            "9\n"
          ]
        },
        {
          "name": "stderr",
          "output_type": "stream",
          "text": [
            "video 1/1 (311/900) d:\\A_HIT_AI\\Hackathon\\new\\Video_Phase1\\Doto_103.mp4: 384x640 9 persons, 776.7ms\n"
          ]
        },
        {
          "name": "stdout",
          "output_type": "stream",
          "text": [
            "9\n"
          ]
        },
        {
          "name": "stderr",
          "output_type": "stream",
          "text": [
            "video 1/1 (312/900) d:\\A_HIT_AI\\Hackathon\\new\\Video_Phase1\\Doto_103.mp4: 384x640 9 persons, 774.6ms\n"
          ]
        },
        {
          "name": "stdout",
          "output_type": "stream",
          "text": [
            "9\n"
          ]
        },
        {
          "name": "stderr",
          "output_type": "stream",
          "text": [
            "video 1/1 (313/900) d:\\A_HIT_AI\\Hackathon\\new\\Video_Phase1\\Doto_103.mp4: 384x640 11 persons, 811.4ms\n"
          ]
        },
        {
          "name": "stdout",
          "output_type": "stream",
          "text": [
            "11\n"
          ]
        },
        {
          "name": "stderr",
          "output_type": "stream",
          "text": [
            "video 1/1 (314/900) d:\\A_HIT_AI\\Hackathon\\new\\Video_Phase1\\Doto_103.mp4: 384x640 11 persons, 795.5ms\n"
          ]
        },
        {
          "name": "stdout",
          "output_type": "stream",
          "text": [
            "11\n"
          ]
        },
        {
          "name": "stderr",
          "output_type": "stream",
          "text": [
            "video 1/1 (315/900) d:\\A_HIT_AI\\Hackathon\\new\\Video_Phase1\\Doto_103.mp4: 384x640 10 persons, 798.3ms\n"
          ]
        },
        {
          "name": "stdout",
          "output_type": "stream",
          "text": [
            "10\n"
          ]
        },
        {
          "name": "stderr",
          "output_type": "stream",
          "text": [
            "video 1/1 (316/900) d:\\A_HIT_AI\\Hackathon\\new\\Video_Phase1\\Doto_103.mp4: 384x640 10 persons, 756.1ms\n"
          ]
        },
        {
          "name": "stdout",
          "output_type": "stream",
          "text": [
            "10\n"
          ]
        },
        {
          "name": "stderr",
          "output_type": "stream",
          "text": [
            "video 1/1 (317/900) d:\\A_HIT_AI\\Hackathon\\new\\Video_Phase1\\Doto_103.mp4: 384x640 10 persons, 819.9ms\n"
          ]
        },
        {
          "name": "stdout",
          "output_type": "stream",
          "text": [
            "10\n"
          ]
        },
        {
          "name": "stderr",
          "output_type": "stream",
          "text": [
            "video 1/1 (318/900) d:\\A_HIT_AI\\Hackathon\\new\\Video_Phase1\\Doto_103.mp4: 384x640 9 persons, 793.3ms\n"
          ]
        },
        {
          "name": "stdout",
          "output_type": "stream",
          "text": [
            "9\n"
          ]
        },
        {
          "name": "stderr",
          "output_type": "stream",
          "text": [
            "video 1/1 (319/900) d:\\A_HIT_AI\\Hackathon\\new\\Video_Phase1\\Doto_103.mp4: 384x640 10 persons, 878.9ms\n"
          ]
        },
        {
          "name": "stdout",
          "output_type": "stream",
          "text": [
            "10\n"
          ]
        },
        {
          "name": "stderr",
          "output_type": "stream",
          "text": [
            "video 1/1 (320/900) d:\\A_HIT_AI\\Hackathon\\new\\Video_Phase1\\Doto_103.mp4: 384x640 10 persons, 763.1ms\n"
          ]
        },
        {
          "name": "stdout",
          "output_type": "stream",
          "text": [
            "10\n"
          ]
        },
        {
          "name": "stderr",
          "output_type": "stream",
          "text": [
            "video 1/1 (321/900) d:\\A_HIT_AI\\Hackathon\\new\\Video_Phase1\\Doto_103.mp4: 384x640 10 persons, 761.0ms\n"
          ]
        },
        {
          "name": "stdout",
          "output_type": "stream",
          "text": [
            "10\n"
          ]
        },
        {
          "name": "stderr",
          "output_type": "stream",
          "text": [
            "video 1/1 (322/900) d:\\A_HIT_AI\\Hackathon\\new\\Video_Phase1\\Doto_103.mp4: 384x640 10 persons, 761.1ms\n"
          ]
        },
        {
          "name": "stdout",
          "output_type": "stream",
          "text": [
            "10\n"
          ]
        },
        {
          "name": "stderr",
          "output_type": "stream",
          "text": [
            "video 1/1 (323/900) d:\\A_HIT_AI\\Hackathon\\new\\Video_Phase1\\Doto_103.mp4: 384x640 10 persons, 746.8ms\n"
          ]
        },
        {
          "name": "stdout",
          "output_type": "stream",
          "text": [
            "10\n"
          ]
        },
        {
          "name": "stderr",
          "output_type": "stream",
          "text": [
            "video 1/1 (324/900) d:\\A_HIT_AI\\Hackathon\\new\\Video_Phase1\\Doto_103.mp4: 384x640 10 persons, 799.1ms\n"
          ]
        },
        {
          "name": "stdout",
          "output_type": "stream",
          "text": [
            "10\n"
          ]
        },
        {
          "name": "stderr",
          "output_type": "stream",
          "text": [
            "video 1/1 (325/900) d:\\A_HIT_AI\\Hackathon\\new\\Video_Phase1\\Doto_103.mp4: 384x640 8 persons, 757.3ms\n"
          ]
        },
        {
          "name": "stdout",
          "output_type": "stream",
          "text": [
            "8\n"
          ]
        },
        {
          "name": "stderr",
          "output_type": "stream",
          "text": [
            "video 1/1 (326/900) d:\\A_HIT_AI\\Hackathon\\new\\Video_Phase1\\Doto_103.mp4: 384x640 8 persons, 748.3ms\n"
          ]
        },
        {
          "name": "stdout",
          "output_type": "stream",
          "text": [
            "8\n"
          ]
        },
        {
          "name": "stderr",
          "output_type": "stream",
          "text": [
            "video 1/1 (327/900) d:\\A_HIT_AI\\Hackathon\\new\\Video_Phase1\\Doto_103.mp4: 384x640 9 persons, 746.9ms\n"
          ]
        },
        {
          "name": "stdout",
          "output_type": "stream",
          "text": [
            "9\n"
          ]
        },
        {
          "name": "stderr",
          "output_type": "stream",
          "text": [
            "video 1/1 (328/900) d:\\A_HIT_AI\\Hackathon\\new\\Video_Phase1\\Doto_103.mp4: 384x640 9 persons, 751.0ms\n"
          ]
        },
        {
          "name": "stdout",
          "output_type": "stream",
          "text": [
            "9\n"
          ]
        },
        {
          "name": "stderr",
          "output_type": "stream",
          "text": [
            "video 1/1 (329/900) d:\\A_HIT_AI\\Hackathon\\new\\Video_Phase1\\Doto_103.mp4: 384x640 10 persons, 746.2ms\n"
          ]
        },
        {
          "name": "stdout",
          "output_type": "stream",
          "text": [
            "10\n"
          ]
        },
        {
          "name": "stderr",
          "output_type": "stream",
          "text": [
            "video 1/1 (330/900) d:\\A_HIT_AI\\Hackathon\\new\\Video_Phase1\\Doto_103.mp4: 384x640 10 persons, 750.3ms\n"
          ]
        },
        {
          "name": "stdout",
          "output_type": "stream",
          "text": [
            "10\n"
          ]
        },
        {
          "name": "stderr",
          "output_type": "stream",
          "text": [
            "video 1/1 (331/900) d:\\A_HIT_AI\\Hackathon\\new\\Video_Phase1\\Doto_103.mp4: 384x640 10 persons, 744.1ms\n"
          ]
        },
        {
          "name": "stdout",
          "output_type": "stream",
          "text": [
            "10\n"
          ]
        },
        {
          "name": "stderr",
          "output_type": "stream",
          "text": [
            "video 1/1 (332/900) d:\\A_HIT_AI\\Hackathon\\new\\Video_Phase1\\Doto_103.mp4: 384x640 10 persons, 821.8ms\n"
          ]
        },
        {
          "name": "stdout",
          "output_type": "stream",
          "text": [
            "10\n"
          ]
        },
        {
          "name": "stderr",
          "output_type": "stream",
          "text": [
            "video 1/1 (333/900) d:\\A_HIT_AI\\Hackathon\\new\\Video_Phase1\\Doto_103.mp4: 384x640 10 persons, 765.5ms\n"
          ]
        },
        {
          "name": "stdout",
          "output_type": "stream",
          "text": [
            "10\n"
          ]
        },
        {
          "name": "stderr",
          "output_type": "stream",
          "text": [
            "video 1/1 (334/900) d:\\A_HIT_AI\\Hackathon\\new\\Video_Phase1\\Doto_103.mp4: 384x640 10 persons, 753.4ms\n"
          ]
        },
        {
          "name": "stdout",
          "output_type": "stream",
          "text": [
            "10\n"
          ]
        },
        {
          "name": "stderr",
          "output_type": "stream",
          "text": [
            "video 1/1 (335/900) d:\\A_HIT_AI\\Hackathon\\new\\Video_Phase1\\Doto_103.mp4: 384x640 10 persons, 762.1ms\n"
          ]
        },
        {
          "name": "stdout",
          "output_type": "stream",
          "text": [
            "10\n"
          ]
        },
        {
          "name": "stderr",
          "output_type": "stream",
          "text": [
            "video 1/1 (336/900) d:\\A_HIT_AI\\Hackathon\\new\\Video_Phase1\\Doto_103.mp4: 384x640 12 persons, 801.4ms\n"
          ]
        },
        {
          "name": "stdout",
          "output_type": "stream",
          "text": [
            "12\n"
          ]
        },
        {
          "name": "stderr",
          "output_type": "stream",
          "text": [
            "video 1/1 (337/900) d:\\A_HIT_AI\\Hackathon\\new\\Video_Phase1\\Doto_103.mp4: 384x640 12 persons, 809.3ms\n"
          ]
        },
        {
          "name": "stdout",
          "output_type": "stream",
          "text": [
            "12\n"
          ]
        },
        {
          "name": "stderr",
          "output_type": "stream",
          "text": [
            "video 1/1 (338/900) d:\\A_HIT_AI\\Hackathon\\new\\Video_Phase1\\Doto_103.mp4: 384x640 11 persons, 801.1ms\n"
          ]
        },
        {
          "name": "stdout",
          "output_type": "stream",
          "text": [
            "11\n"
          ]
        },
        {
          "name": "stderr",
          "output_type": "stream",
          "text": [
            "video 1/1 (339/900) d:\\A_HIT_AI\\Hackathon\\new\\Video_Phase1\\Doto_103.mp4: 384x640 12 persons, 792.4ms\n"
          ]
        },
        {
          "name": "stdout",
          "output_type": "stream",
          "text": [
            "12\n"
          ]
        },
        {
          "name": "stderr",
          "output_type": "stream",
          "text": [
            "video 1/1 (340/900) d:\\A_HIT_AI\\Hackathon\\new\\Video_Phase1\\Doto_103.mp4: 384x640 11 persons, 778.1ms\n"
          ]
        },
        {
          "name": "stdout",
          "output_type": "stream",
          "text": [
            "11\n"
          ]
        },
        {
          "name": "stderr",
          "output_type": "stream",
          "text": [
            "video 1/1 (341/900) d:\\A_HIT_AI\\Hackathon\\new\\Video_Phase1\\Doto_103.mp4: 384x640 12 persons, 782.4ms\n"
          ]
        },
        {
          "name": "stdout",
          "output_type": "stream",
          "text": [
            "12\n"
          ]
        },
        {
          "name": "stderr",
          "output_type": "stream",
          "text": [
            "video 1/1 (342/900) d:\\A_HIT_AI\\Hackathon\\new\\Video_Phase1\\Doto_103.mp4: 384x640 12 persons, 818.3ms\n"
          ]
        },
        {
          "name": "stdout",
          "output_type": "stream",
          "text": [
            "12\n"
          ]
        },
        {
          "name": "stderr",
          "output_type": "stream",
          "text": [
            "video 1/1 (343/900) d:\\A_HIT_AI\\Hackathon\\new\\Video_Phase1\\Doto_103.mp4: 384x640 13 persons, 768.2ms\n"
          ]
        },
        {
          "name": "stdout",
          "output_type": "stream",
          "text": [
            "13\n"
          ]
        },
        {
          "name": "stderr",
          "output_type": "stream",
          "text": [
            "video 1/1 (344/900) d:\\A_HIT_AI\\Hackathon\\new\\Video_Phase1\\Doto_103.mp4: 384x640 13 persons, 807.5ms\n"
          ]
        },
        {
          "name": "stdout",
          "output_type": "stream",
          "text": [
            "13\n"
          ]
        },
        {
          "name": "stderr",
          "output_type": "stream",
          "text": [
            "video 1/1 (345/900) d:\\A_HIT_AI\\Hackathon\\new\\Video_Phase1\\Doto_103.mp4: 384x640 13 persons, 769.0ms\n"
          ]
        },
        {
          "name": "stdout",
          "output_type": "stream",
          "text": [
            "13\n"
          ]
        },
        {
          "name": "stderr",
          "output_type": "stream",
          "text": [
            "video 1/1 (346/900) d:\\A_HIT_AI\\Hackathon\\new\\Video_Phase1\\Doto_103.mp4: 384x640 13 persons, 763.7ms\n"
          ]
        },
        {
          "name": "stdout",
          "output_type": "stream",
          "text": [
            "13\n"
          ]
        },
        {
          "name": "stderr",
          "output_type": "stream",
          "text": [
            "video 1/1 (347/900) d:\\A_HIT_AI\\Hackathon\\new\\Video_Phase1\\Doto_103.mp4: 384x640 13 persons, 754.9ms\n"
          ]
        },
        {
          "name": "stdout",
          "output_type": "stream",
          "text": [
            "13\n"
          ]
        },
        {
          "name": "stderr",
          "output_type": "stream",
          "text": [
            "video 1/1 (348/900) d:\\A_HIT_AI\\Hackathon\\new\\Video_Phase1\\Doto_103.mp4: 384x640 13 persons, 756.2ms\n"
          ]
        },
        {
          "name": "stdout",
          "output_type": "stream",
          "text": [
            "13\n"
          ]
        },
        {
          "name": "stderr",
          "output_type": "stream",
          "text": [
            "video 1/1 (349/900) d:\\A_HIT_AI\\Hackathon\\new\\Video_Phase1\\Doto_103.mp4: 384x640 12 persons, 801.6ms\n"
          ]
        },
        {
          "name": "stdout",
          "output_type": "stream",
          "text": [
            "12\n"
          ]
        },
        {
          "name": "stderr",
          "output_type": "stream",
          "text": [
            "video 1/1 (350/900) d:\\A_HIT_AI\\Hackathon\\new\\Video_Phase1\\Doto_103.mp4: 384x640 11 persons, 749.8ms\n"
          ]
        },
        {
          "name": "stdout",
          "output_type": "stream",
          "text": [
            "11\n"
          ]
        },
        {
          "name": "stderr",
          "output_type": "stream",
          "text": [
            "video 1/1 (351/900) d:\\A_HIT_AI\\Hackathon\\new\\Video_Phase1\\Doto_103.mp4: 384x640 11 persons, 780.7ms\n"
          ]
        },
        {
          "name": "stdout",
          "output_type": "stream",
          "text": [
            "11\n"
          ]
        },
        {
          "name": "stderr",
          "output_type": "stream",
          "text": [
            "video 1/1 (352/900) d:\\A_HIT_AI\\Hackathon\\new\\Video_Phase1\\Doto_103.mp4: 384x640 11 persons, 787.2ms\n"
          ]
        },
        {
          "name": "stdout",
          "output_type": "stream",
          "text": [
            "11\n"
          ]
        },
        {
          "name": "stderr",
          "output_type": "stream",
          "text": [
            "video 1/1 (353/900) d:\\A_HIT_AI\\Hackathon\\new\\Video_Phase1\\Doto_103.mp4: 384x640 11 persons, 788.6ms\n"
          ]
        },
        {
          "name": "stdout",
          "output_type": "stream",
          "text": [
            "11\n"
          ]
        },
        {
          "name": "stderr",
          "output_type": "stream",
          "text": [
            "video 1/1 (354/900) d:\\A_HIT_AI\\Hackathon\\new\\Video_Phase1\\Doto_103.mp4: 384x640 12 persons, 756.4ms\n"
          ]
        },
        {
          "name": "stdout",
          "output_type": "stream",
          "text": [
            "12\n"
          ]
        },
        {
          "name": "stderr",
          "output_type": "stream",
          "text": [
            "video 1/1 (355/900) d:\\A_HIT_AI\\Hackathon\\new\\Video_Phase1\\Doto_103.mp4: 384x640 12 persons, 819.7ms\n"
          ]
        },
        {
          "name": "stdout",
          "output_type": "stream",
          "text": [
            "12\n"
          ]
        },
        {
          "name": "stderr",
          "output_type": "stream",
          "text": [
            "video 1/1 (356/900) d:\\A_HIT_AI\\Hackathon\\new\\Video_Phase1\\Doto_103.mp4: 384x640 11 persons, 945.5ms\n"
          ]
        },
        {
          "name": "stdout",
          "output_type": "stream",
          "text": [
            "11\n"
          ]
        },
        {
          "name": "stderr",
          "output_type": "stream",
          "text": [
            "video 1/1 (357/900) d:\\A_HIT_AI\\Hackathon\\new\\Video_Phase1\\Doto_103.mp4: 384x640 10 persons, 1059.0ms\n"
          ]
        },
        {
          "name": "stdout",
          "output_type": "stream",
          "text": [
            "10\n"
          ]
        },
        {
          "name": "stderr",
          "output_type": "stream",
          "text": [
            "video 1/1 (358/900) d:\\A_HIT_AI\\Hackathon\\new\\Video_Phase1\\Doto_103.mp4: 384x640 10 persons, 816.9ms\n"
          ]
        },
        {
          "name": "stdout",
          "output_type": "stream",
          "text": [
            "10\n"
          ]
        },
        {
          "name": "stderr",
          "output_type": "stream",
          "text": [
            "video 1/1 (359/900) d:\\A_HIT_AI\\Hackathon\\new\\Video_Phase1\\Doto_103.mp4: 384x640 10 persons, 791.2ms\n"
          ]
        },
        {
          "name": "stdout",
          "output_type": "stream",
          "text": [
            "10\n"
          ]
        },
        {
          "name": "stderr",
          "output_type": "stream",
          "text": [
            "video 1/1 (360/900) d:\\A_HIT_AI\\Hackathon\\new\\Video_Phase1\\Doto_103.mp4: 384x640 9 persons, 789.1ms\n"
          ]
        },
        {
          "name": "stdout",
          "output_type": "stream",
          "text": [
            "9\n"
          ]
        },
        {
          "name": "stderr",
          "output_type": "stream",
          "text": [
            "video 1/1 (361/900) d:\\A_HIT_AI\\Hackathon\\new\\Video_Phase1\\Doto_103.mp4: 384x640 8 persons, 820.0ms\n"
          ]
        },
        {
          "name": "stdout",
          "output_type": "stream",
          "text": [
            "8\n"
          ]
        },
        {
          "name": "stderr",
          "output_type": "stream",
          "text": [
            "video 1/1 (362/900) d:\\A_HIT_AI\\Hackathon\\new\\Video_Phase1\\Doto_103.mp4: 384x640 9 persons, 872.7ms\n"
          ]
        },
        {
          "name": "stdout",
          "output_type": "stream",
          "text": [
            "9\n"
          ]
        },
        {
          "name": "stderr",
          "output_type": "stream",
          "text": [
            "video 1/1 (363/900) d:\\A_HIT_AI\\Hackathon\\new\\Video_Phase1\\Doto_103.mp4: 384x640 9 persons, 795.7ms\n"
          ]
        },
        {
          "name": "stdout",
          "output_type": "stream",
          "text": [
            "9\n"
          ]
        },
        {
          "name": "stderr",
          "output_type": "stream",
          "text": [
            "video 1/1 (364/900) d:\\A_HIT_AI\\Hackathon\\new\\Video_Phase1\\Doto_103.mp4: 384x640 9 persons, 769.3ms\n"
          ]
        },
        {
          "name": "stdout",
          "output_type": "stream",
          "text": [
            "9\n"
          ]
        },
        {
          "name": "stderr",
          "output_type": "stream",
          "text": [
            "video 1/1 (365/900) d:\\A_HIT_AI\\Hackathon\\new\\Video_Phase1\\Doto_103.mp4: 384x640 8 persons, 807.0ms\n"
          ]
        },
        {
          "name": "stdout",
          "output_type": "stream",
          "text": [
            "8\n"
          ]
        },
        {
          "name": "stderr",
          "output_type": "stream",
          "text": [
            "video 1/1 (366/900) d:\\A_HIT_AI\\Hackathon\\new\\Video_Phase1\\Doto_103.mp4: 384x640 9 persons, 842.8ms\n"
          ]
        },
        {
          "name": "stdout",
          "output_type": "stream",
          "text": [
            "9\n"
          ]
        },
        {
          "name": "stderr",
          "output_type": "stream",
          "text": [
            "video 1/1 (367/900) d:\\A_HIT_AI\\Hackathon\\new\\Video_Phase1\\Doto_103.mp4: 384x640 9 persons, 806.4ms\n"
          ]
        },
        {
          "name": "stdout",
          "output_type": "stream",
          "text": [
            "9\n"
          ]
        },
        {
          "name": "stderr",
          "output_type": "stream",
          "text": [
            "video 1/1 (368/900) d:\\A_HIT_AI\\Hackathon\\new\\Video_Phase1\\Doto_103.mp4: 384x640 9 persons, 864.9ms\n"
          ]
        },
        {
          "name": "stdout",
          "output_type": "stream",
          "text": [
            "9\n"
          ]
        },
        {
          "name": "stderr",
          "output_type": "stream",
          "text": [
            "video 1/1 (369/900) d:\\A_HIT_AI\\Hackathon\\new\\Video_Phase1\\Doto_103.mp4: 384x640 9 persons, 806.4ms\n"
          ]
        },
        {
          "name": "stdout",
          "output_type": "stream",
          "text": [
            "9\n"
          ]
        },
        {
          "name": "stderr",
          "output_type": "stream",
          "text": [
            "video 1/1 (370/900) d:\\A_HIT_AI\\Hackathon\\new\\Video_Phase1\\Doto_103.mp4: 384x640 10 persons, 849.0ms\n"
          ]
        },
        {
          "name": "stdout",
          "output_type": "stream",
          "text": [
            "10\n"
          ]
        },
        {
          "name": "stderr",
          "output_type": "stream",
          "text": [
            "video 1/1 (371/900) d:\\A_HIT_AI\\Hackathon\\new\\Video_Phase1\\Doto_103.mp4: 384x640 10 persons, 825.2ms\n"
          ]
        },
        {
          "name": "stdout",
          "output_type": "stream",
          "text": [
            "10\n"
          ]
        },
        {
          "name": "stderr",
          "output_type": "stream",
          "text": [
            "video 1/1 (372/900) d:\\A_HIT_AI\\Hackathon\\new\\Video_Phase1\\Doto_103.mp4: 384x640 10 persons, 843.2ms\n"
          ]
        },
        {
          "name": "stdout",
          "output_type": "stream",
          "text": [
            "10\n"
          ]
        },
        {
          "name": "stderr",
          "output_type": "stream",
          "text": [
            "video 1/1 (373/900) d:\\A_HIT_AI\\Hackathon\\new\\Video_Phase1\\Doto_103.mp4: 384x640 11 persons, 802.4ms\n"
          ]
        },
        {
          "name": "stdout",
          "output_type": "stream",
          "text": [
            "11\n"
          ]
        },
        {
          "name": "stderr",
          "output_type": "stream",
          "text": [
            "video 1/1 (374/900) d:\\A_HIT_AI\\Hackathon\\new\\Video_Phase1\\Doto_103.mp4: 384x640 11 persons, 813.5ms\n"
          ]
        },
        {
          "name": "stdout",
          "output_type": "stream",
          "text": [
            "11\n"
          ]
        },
        {
          "name": "stderr",
          "output_type": "stream",
          "text": [
            "video 1/1 (375/900) d:\\A_HIT_AI\\Hackathon\\new\\Video_Phase1\\Doto_103.mp4: 384x640 12 persons, 788.9ms\n"
          ]
        },
        {
          "name": "stdout",
          "output_type": "stream",
          "text": [
            "12\n"
          ]
        },
        {
          "name": "stderr",
          "output_type": "stream",
          "text": [
            "video 1/1 (376/900) d:\\A_HIT_AI\\Hackathon\\new\\Video_Phase1\\Doto_103.mp4: 384x640 12 persons, 812.2ms\n"
          ]
        },
        {
          "name": "stdout",
          "output_type": "stream",
          "text": [
            "12\n"
          ]
        },
        {
          "name": "stderr",
          "output_type": "stream",
          "text": [
            "video 1/1 (377/900) d:\\A_HIT_AI\\Hackathon\\new\\Video_Phase1\\Doto_103.mp4: 384x640 11 persons, 824.0ms\n"
          ]
        },
        {
          "name": "stdout",
          "output_type": "stream",
          "text": [
            "11\n"
          ]
        },
        {
          "name": "stderr",
          "output_type": "stream",
          "text": [
            "video 1/1 (378/900) d:\\A_HIT_AI\\Hackathon\\new\\Video_Phase1\\Doto_103.mp4: 384x640 11 persons, 809.5ms\n"
          ]
        },
        {
          "name": "stdout",
          "output_type": "stream",
          "text": [
            "11\n"
          ]
        },
        {
          "name": "stderr",
          "output_type": "stream",
          "text": [
            "video 1/1 (379/900) d:\\A_HIT_AI\\Hackathon\\new\\Video_Phase1\\Doto_103.mp4: 384x640 11 persons, 780.2ms\n"
          ]
        },
        {
          "name": "stdout",
          "output_type": "stream",
          "text": [
            "11\n"
          ]
        },
        {
          "name": "stderr",
          "output_type": "stream",
          "text": [
            "video 1/1 (380/900) d:\\A_HIT_AI\\Hackathon\\new\\Video_Phase1\\Doto_103.mp4: 384x640 11 persons, 787.2ms\n"
          ]
        },
        {
          "name": "stdout",
          "output_type": "stream",
          "text": [
            "11\n"
          ]
        },
        {
          "name": "stderr",
          "output_type": "stream",
          "text": [
            "video 1/1 (381/900) d:\\A_HIT_AI\\Hackathon\\new\\Video_Phase1\\Doto_103.mp4: 384x640 11 persons, 801.7ms\n"
          ]
        },
        {
          "name": "stdout",
          "output_type": "stream",
          "text": [
            "11\n"
          ]
        },
        {
          "name": "stderr",
          "output_type": "stream",
          "text": [
            "video 1/1 (382/900) d:\\A_HIT_AI\\Hackathon\\new\\Video_Phase1\\Doto_103.mp4: 384x640 11 persons, 788.8ms\n"
          ]
        },
        {
          "name": "stdout",
          "output_type": "stream",
          "text": [
            "11\n"
          ]
        },
        {
          "name": "stderr",
          "output_type": "stream",
          "text": [
            "video 1/1 (383/900) d:\\A_HIT_AI\\Hackathon\\new\\Video_Phase1\\Doto_103.mp4: 384x640 11 persons, 881.6ms\n"
          ]
        },
        {
          "name": "stdout",
          "output_type": "stream",
          "text": [
            "11\n"
          ]
        },
        {
          "name": "stderr",
          "output_type": "stream",
          "text": [
            "video 1/1 (384/900) d:\\A_HIT_AI\\Hackathon\\new\\Video_Phase1\\Doto_103.mp4: 384x640 11 persons, 783.6ms\n"
          ]
        },
        {
          "name": "stdout",
          "output_type": "stream",
          "text": [
            "11\n"
          ]
        },
        {
          "name": "stderr",
          "output_type": "stream",
          "text": [
            "video 1/1 (385/900) d:\\A_HIT_AI\\Hackathon\\new\\Video_Phase1\\Doto_103.mp4: 384x640 10 persons, 792.7ms\n"
          ]
        },
        {
          "name": "stdout",
          "output_type": "stream",
          "text": [
            "10\n"
          ]
        },
        {
          "name": "stderr",
          "output_type": "stream",
          "text": [
            "video 1/1 (386/900) d:\\A_HIT_AI\\Hackathon\\new\\Video_Phase1\\Doto_103.mp4: 384x640 9 persons, 795.1ms\n"
          ]
        },
        {
          "name": "stdout",
          "output_type": "stream",
          "text": [
            "9\n"
          ]
        },
        {
          "name": "stderr",
          "output_type": "stream",
          "text": [
            "video 1/1 (387/900) d:\\A_HIT_AI\\Hackathon\\new\\Video_Phase1\\Doto_103.mp4: 384x640 7 persons, 801.8ms\n"
          ]
        },
        {
          "name": "stdout",
          "output_type": "stream",
          "text": [
            "7\n"
          ]
        },
        {
          "name": "stderr",
          "output_type": "stream",
          "text": [
            "video 1/1 (388/900) d:\\A_HIT_AI\\Hackathon\\new\\Video_Phase1\\Doto_103.mp4: 384x640 8 persons, 780.8ms\n"
          ]
        },
        {
          "name": "stdout",
          "output_type": "stream",
          "text": [
            "8\n"
          ]
        },
        {
          "name": "stderr",
          "output_type": "stream",
          "text": [
            "video 1/1 (389/900) d:\\A_HIT_AI\\Hackathon\\new\\Video_Phase1\\Doto_103.mp4: 384x640 10 persons, 763.7ms\n"
          ]
        },
        {
          "name": "stdout",
          "output_type": "stream",
          "text": [
            "10\n"
          ]
        },
        {
          "name": "stderr",
          "output_type": "stream",
          "text": [
            "video 1/1 (390/900) d:\\A_HIT_AI\\Hackathon\\new\\Video_Phase1\\Doto_103.mp4: 384x640 10 persons, 820.2ms\n"
          ]
        },
        {
          "name": "stdout",
          "output_type": "stream",
          "text": [
            "10\n"
          ]
        },
        {
          "name": "stderr",
          "output_type": "stream",
          "text": [
            "video 1/1 (391/900) d:\\A_HIT_AI\\Hackathon\\new\\Video_Phase1\\Doto_103.mp4: 384x640 10 persons, 787.4ms\n"
          ]
        },
        {
          "name": "stdout",
          "output_type": "stream",
          "text": [
            "10\n"
          ]
        },
        {
          "name": "stderr",
          "output_type": "stream",
          "text": [
            "video 1/1 (392/900) d:\\A_HIT_AI\\Hackathon\\new\\Video_Phase1\\Doto_103.mp4: 384x640 9 persons, 801.4ms\n"
          ]
        },
        {
          "name": "stdout",
          "output_type": "stream",
          "text": [
            "9\n"
          ]
        },
        {
          "name": "stderr",
          "output_type": "stream",
          "text": [
            "video 1/1 (393/900) d:\\A_HIT_AI\\Hackathon\\new\\Video_Phase1\\Doto_103.mp4: 384x640 10 persons, 787.0ms\n"
          ]
        },
        {
          "name": "stdout",
          "output_type": "stream",
          "text": [
            "10\n"
          ]
        },
        {
          "name": "stderr",
          "output_type": "stream",
          "text": [
            "video 1/1 (394/900) d:\\A_HIT_AI\\Hackathon\\new\\Video_Phase1\\Doto_103.mp4: 384x640 9 persons, 806.6ms\n"
          ]
        },
        {
          "name": "stdout",
          "output_type": "stream",
          "text": [
            "9\n"
          ]
        },
        {
          "name": "stderr",
          "output_type": "stream",
          "text": [
            "video 1/1 (395/900) d:\\A_HIT_AI\\Hackathon\\new\\Video_Phase1\\Doto_103.mp4: 384x640 9 persons, 952.5ms\n"
          ]
        },
        {
          "name": "stdout",
          "output_type": "stream",
          "text": [
            "9\n"
          ]
        },
        {
          "name": "stderr",
          "output_type": "stream",
          "text": [
            "video 1/1 (396/900) d:\\A_HIT_AI\\Hackathon\\new\\Video_Phase1\\Doto_103.mp4: 384x640 9 persons, 923.1ms\n"
          ]
        },
        {
          "name": "stdout",
          "output_type": "stream",
          "text": [
            "9\n"
          ]
        },
        {
          "name": "stderr",
          "output_type": "stream",
          "text": [
            "video 1/1 (397/900) d:\\A_HIT_AI\\Hackathon\\new\\Video_Phase1\\Doto_103.mp4: 384x640 10 persons, 935.4ms\n"
          ]
        },
        {
          "name": "stdout",
          "output_type": "stream",
          "text": [
            "10\n"
          ]
        },
        {
          "name": "stderr",
          "output_type": "stream",
          "text": [
            "video 1/1 (398/900) d:\\A_HIT_AI\\Hackathon\\new\\Video_Phase1\\Doto_103.mp4: 384x640 10 persons, 799.7ms\n"
          ]
        },
        {
          "name": "stdout",
          "output_type": "stream",
          "text": [
            "10\n"
          ]
        },
        {
          "name": "stderr",
          "output_type": "stream",
          "text": [
            "video 1/1 (399/900) d:\\A_HIT_AI\\Hackathon\\new\\Video_Phase1\\Doto_103.mp4: 384x640 11 persons, 795.0ms\n"
          ]
        },
        {
          "name": "stdout",
          "output_type": "stream",
          "text": [
            "11\n"
          ]
        },
        {
          "name": "stderr",
          "output_type": "stream",
          "text": [
            "video 1/1 (400/900) d:\\A_HIT_AI\\Hackathon\\new\\Video_Phase1\\Doto_103.mp4: 384x640 11 persons, 795.8ms\n"
          ]
        },
        {
          "name": "stdout",
          "output_type": "stream",
          "text": [
            "11\n"
          ]
        },
        {
          "name": "stderr",
          "output_type": "stream",
          "text": [
            "video 1/1 (401/900) d:\\A_HIT_AI\\Hackathon\\new\\Video_Phase1\\Doto_103.mp4: 384x640 12 persons, 884.1ms\n"
          ]
        },
        {
          "name": "stdout",
          "output_type": "stream",
          "text": [
            "12\n"
          ]
        },
        {
          "name": "stderr",
          "output_type": "stream",
          "text": [
            "video 1/1 (402/900) d:\\A_HIT_AI\\Hackathon\\new\\Video_Phase1\\Doto_103.mp4: 384x640 12 persons, 763.7ms\n"
          ]
        },
        {
          "name": "stdout",
          "output_type": "stream",
          "text": [
            "12\n"
          ]
        },
        {
          "name": "stderr",
          "output_type": "stream",
          "text": [
            "video 1/1 (403/900) d:\\A_HIT_AI\\Hackathon\\new\\Video_Phase1\\Doto_103.mp4: 384x640 12 persons, 759.9ms\n"
          ]
        },
        {
          "name": "stdout",
          "output_type": "stream",
          "text": [
            "12\n"
          ]
        },
        {
          "name": "stderr",
          "output_type": "stream",
          "text": [
            "video 1/1 (404/900) d:\\A_HIT_AI\\Hackathon\\new\\Video_Phase1\\Doto_103.mp4: 384x640 14 persons, 782.1ms\n"
          ]
        },
        {
          "name": "stdout",
          "output_type": "stream",
          "text": [
            "14\n"
          ]
        },
        {
          "name": "stderr",
          "output_type": "stream",
          "text": [
            "video 1/1 (405/900) d:\\A_HIT_AI\\Hackathon\\new\\Video_Phase1\\Doto_103.mp4: 384x640 14 persons, 767.9ms\n"
          ]
        },
        {
          "name": "stdout",
          "output_type": "stream",
          "text": [
            "14\n"
          ]
        },
        {
          "name": "stderr",
          "output_type": "stream",
          "text": [
            "video 1/1 (406/900) d:\\A_HIT_AI\\Hackathon\\new\\Video_Phase1\\Doto_103.mp4: 384x640 14 persons, 734.8ms\n"
          ]
        },
        {
          "name": "stdout",
          "output_type": "stream",
          "text": [
            "14\n"
          ]
        },
        {
          "name": "stderr",
          "output_type": "stream",
          "text": [
            "video 1/1 (407/900) d:\\A_HIT_AI\\Hackathon\\new\\Video_Phase1\\Doto_103.mp4: 384x640 14 persons, 756.8ms\n"
          ]
        },
        {
          "name": "stdout",
          "output_type": "stream",
          "text": [
            "14\n"
          ]
        },
        {
          "name": "stderr",
          "output_type": "stream",
          "text": [
            "video 1/1 (408/900) d:\\A_HIT_AI\\Hackathon\\new\\Video_Phase1\\Doto_103.mp4: 384x640 14 persons, 792.4ms\n"
          ]
        },
        {
          "name": "stdout",
          "output_type": "stream",
          "text": [
            "14\n"
          ]
        },
        {
          "name": "stderr",
          "output_type": "stream",
          "text": [
            "video 1/1 (409/900) d:\\A_HIT_AI\\Hackathon\\new\\Video_Phase1\\Doto_103.mp4: 384x640 15 persons, 728.3ms\n"
          ]
        },
        {
          "name": "stdout",
          "output_type": "stream",
          "text": [
            "15\n"
          ]
        },
        {
          "name": "stderr",
          "output_type": "stream",
          "text": [
            "video 1/1 (410/900) d:\\A_HIT_AI\\Hackathon\\new\\Video_Phase1\\Doto_103.mp4: 384x640 16 persons, 744.0ms\n"
          ]
        },
        {
          "name": "stdout",
          "output_type": "stream",
          "text": [
            "16\n"
          ]
        },
        {
          "name": "stderr",
          "output_type": "stream",
          "text": [
            "video 1/1 (411/900) d:\\A_HIT_AI\\Hackathon\\new\\Video_Phase1\\Doto_103.mp4: 384x640 14 persons, 793.4ms\n"
          ]
        },
        {
          "name": "stdout",
          "output_type": "stream",
          "text": [
            "14\n"
          ]
        },
        {
          "name": "stderr",
          "output_type": "stream",
          "text": [
            "video 1/1 (412/900) d:\\A_HIT_AI\\Hackathon\\new\\Video_Phase1\\Doto_103.mp4: 384x640 13 persons, 739.4ms\n"
          ]
        },
        {
          "name": "stdout",
          "output_type": "stream",
          "text": [
            "13\n"
          ]
        },
        {
          "name": "stderr",
          "output_type": "stream",
          "text": [
            "video 1/1 (413/900) d:\\A_HIT_AI\\Hackathon\\new\\Video_Phase1\\Doto_103.mp4: 384x640 14 persons, 804.5ms\n"
          ]
        },
        {
          "name": "stdout",
          "output_type": "stream",
          "text": [
            "14\n"
          ]
        },
        {
          "name": "stderr",
          "output_type": "stream",
          "text": [
            "video 1/1 (414/900) d:\\A_HIT_AI\\Hackathon\\new\\Video_Phase1\\Doto_103.mp4: 384x640 13 persons, 931.3ms\n"
          ]
        },
        {
          "name": "stdout",
          "output_type": "stream",
          "text": [
            "13\n"
          ]
        },
        {
          "name": "stderr",
          "output_type": "stream",
          "text": [
            "video 1/1 (415/900) d:\\A_HIT_AI\\Hackathon\\new\\Video_Phase1\\Doto_103.mp4: 384x640 15 persons, 801.8ms\n"
          ]
        },
        {
          "name": "stdout",
          "output_type": "stream",
          "text": [
            "15\n"
          ]
        },
        {
          "name": "stderr",
          "output_type": "stream",
          "text": [
            "video 1/1 (416/900) d:\\A_HIT_AI\\Hackathon\\new\\Video_Phase1\\Doto_103.mp4: 384x640 15 persons, 790.3ms\n"
          ]
        },
        {
          "name": "stdout",
          "output_type": "stream",
          "text": [
            "15\n"
          ]
        },
        {
          "name": "stderr",
          "output_type": "stream",
          "text": [
            "video 1/1 (417/900) d:\\A_HIT_AI\\Hackathon\\new\\Video_Phase1\\Doto_103.mp4: 384x640 15 persons, 787.7ms\n"
          ]
        },
        {
          "name": "stdout",
          "output_type": "stream",
          "text": [
            "15\n"
          ]
        },
        {
          "name": "stderr",
          "output_type": "stream",
          "text": [
            "video 1/1 (418/900) d:\\A_HIT_AI\\Hackathon\\new\\Video_Phase1\\Doto_103.mp4: 384x640 14 persons, 764.7ms\n"
          ]
        },
        {
          "name": "stdout",
          "output_type": "stream",
          "text": [
            "14\n"
          ]
        },
        {
          "name": "stderr",
          "output_type": "stream",
          "text": [
            "video 1/1 (419/900) d:\\A_HIT_AI\\Hackathon\\new\\Video_Phase1\\Doto_103.mp4: 384x640 13 persons, 776.4ms\n"
          ]
        },
        {
          "name": "stdout",
          "output_type": "stream",
          "text": [
            "13\n"
          ]
        },
        {
          "name": "stderr",
          "output_type": "stream",
          "text": [
            "video 1/1 (420/900) d:\\A_HIT_AI\\Hackathon\\new\\Video_Phase1\\Doto_103.mp4: 384x640 14 persons, 766.9ms\n"
          ]
        },
        {
          "name": "stdout",
          "output_type": "stream",
          "text": [
            "14\n"
          ]
        },
        {
          "name": "stderr",
          "output_type": "stream",
          "text": [
            "video 1/1 (421/900) d:\\A_HIT_AI\\Hackathon\\new\\Video_Phase1\\Doto_103.mp4: 384x640 15 persons, 841.9ms\n"
          ]
        },
        {
          "name": "stdout",
          "output_type": "stream",
          "text": [
            "15\n"
          ]
        },
        {
          "name": "stderr",
          "output_type": "stream",
          "text": [
            "video 1/1 (422/900) d:\\A_HIT_AI\\Hackathon\\new\\Video_Phase1\\Doto_103.mp4: 384x640 15 persons, 751.5ms\n"
          ]
        },
        {
          "name": "stdout",
          "output_type": "stream",
          "text": [
            "15\n"
          ]
        },
        {
          "name": "stderr",
          "output_type": "stream",
          "text": [
            "video 1/1 (423/900) d:\\A_HIT_AI\\Hackathon\\new\\Video_Phase1\\Doto_103.mp4: 384x640 15 persons, 748.4ms\n"
          ]
        },
        {
          "name": "stdout",
          "output_type": "stream",
          "text": [
            "15\n"
          ]
        },
        {
          "name": "stderr",
          "output_type": "stream",
          "text": [
            "video 1/1 (424/900) d:\\A_HIT_AI\\Hackathon\\new\\Video_Phase1\\Doto_103.mp4: 384x640 16 persons, 750.6ms\n"
          ]
        },
        {
          "name": "stdout",
          "output_type": "stream",
          "text": [
            "16\n"
          ]
        },
        {
          "name": "stderr",
          "output_type": "stream",
          "text": [
            "video 1/1 (425/900) d:\\A_HIT_AI\\Hackathon\\new\\Video_Phase1\\Doto_103.mp4: 384x640 16 persons, 790.9ms\n"
          ]
        },
        {
          "name": "stdout",
          "output_type": "stream",
          "text": [
            "16\n"
          ]
        },
        {
          "name": "stderr",
          "output_type": "stream",
          "text": [
            "video 1/1 (426/900) d:\\A_HIT_AI\\Hackathon\\new\\Video_Phase1\\Doto_103.mp4: 384x640 16 persons, 751.7ms\n"
          ]
        },
        {
          "name": "stdout",
          "output_type": "stream",
          "text": [
            "16\n"
          ]
        },
        {
          "name": "stderr",
          "output_type": "stream",
          "text": [
            "video 1/1 (427/900) d:\\A_HIT_AI\\Hackathon\\new\\Video_Phase1\\Doto_103.mp4: 384x640 15 persons, 768.8ms\n"
          ]
        },
        {
          "name": "stdout",
          "output_type": "stream",
          "text": [
            "15\n"
          ]
        },
        {
          "name": "stderr",
          "output_type": "stream",
          "text": [
            "video 1/1 (428/900) d:\\A_HIT_AI\\Hackathon\\new\\Video_Phase1\\Doto_103.mp4: 384x640 15 persons, 745.3ms\n"
          ]
        },
        {
          "name": "stdout",
          "output_type": "stream",
          "text": [
            "15\n"
          ]
        },
        {
          "name": "stderr",
          "output_type": "stream",
          "text": [
            "video 1/1 (429/900) d:\\A_HIT_AI\\Hackathon\\new\\Video_Phase1\\Doto_103.mp4: 384x640 15 persons, 738.9ms\n"
          ]
        },
        {
          "name": "stdout",
          "output_type": "stream",
          "text": [
            "15\n"
          ]
        },
        {
          "name": "stderr",
          "output_type": "stream",
          "text": [
            "video 1/1 (430/900) d:\\A_HIT_AI\\Hackathon\\new\\Video_Phase1\\Doto_103.mp4: 384x640 16 persons, 773.6ms\n"
          ]
        },
        {
          "name": "stdout",
          "output_type": "stream",
          "text": [
            "16\n"
          ]
        },
        {
          "name": "stderr",
          "output_type": "stream",
          "text": [
            "video 1/1 (431/900) d:\\A_HIT_AI\\Hackathon\\new\\Video_Phase1\\Doto_103.mp4: 384x640 15 persons, 761.4ms\n"
          ]
        },
        {
          "name": "stdout",
          "output_type": "stream",
          "text": [
            "15\n"
          ]
        },
        {
          "name": "stderr",
          "output_type": "stream",
          "text": [
            "video 1/1 (432/900) d:\\A_HIT_AI\\Hackathon\\new\\Video_Phase1\\Doto_103.mp4: 384x640 15 persons, 761.1ms\n"
          ]
        },
        {
          "name": "stdout",
          "output_type": "stream",
          "text": [
            "15\n"
          ]
        },
        {
          "name": "stderr",
          "output_type": "stream",
          "text": [
            "video 1/1 (433/900) d:\\A_HIT_AI\\Hackathon\\new\\Video_Phase1\\Doto_103.mp4: 384x640 12 persons, 752.2ms\n"
          ]
        },
        {
          "name": "stdout",
          "output_type": "stream",
          "text": [
            "12\n"
          ]
        },
        {
          "name": "stderr",
          "output_type": "stream",
          "text": [
            "video 1/1 (434/900) d:\\A_HIT_AI\\Hackathon\\new\\Video_Phase1\\Doto_103.mp4: 384x640 13 persons, 765.4ms\n"
          ]
        },
        {
          "name": "stdout",
          "output_type": "stream",
          "text": [
            "13\n"
          ]
        },
        {
          "name": "stderr",
          "output_type": "stream",
          "text": [
            "video 1/1 (435/900) d:\\A_HIT_AI\\Hackathon\\new\\Video_Phase1\\Doto_103.mp4: 384x640 12 persons, 813.8ms\n"
          ]
        },
        {
          "name": "stdout",
          "output_type": "stream",
          "text": [
            "12\n"
          ]
        },
        {
          "name": "stderr",
          "output_type": "stream",
          "text": [
            "video 1/1 (436/900) d:\\A_HIT_AI\\Hackathon\\new\\Video_Phase1\\Doto_103.mp4: 384x640 12 persons, 924.0ms\n"
          ]
        },
        {
          "name": "stdout",
          "output_type": "stream",
          "text": [
            "12\n"
          ]
        },
        {
          "name": "stderr",
          "output_type": "stream",
          "text": [
            "video 1/1 (437/900) d:\\A_HIT_AI\\Hackathon\\new\\Video_Phase1\\Doto_103.mp4: 384x640 14 persons, 1014.3ms\n"
          ]
        },
        {
          "name": "stdout",
          "output_type": "stream",
          "text": [
            "14\n"
          ]
        },
        {
          "name": "stderr",
          "output_type": "stream",
          "text": [
            "video 1/1 (438/900) d:\\A_HIT_AI\\Hackathon\\new\\Video_Phase1\\Doto_103.mp4: 384x640 14 persons, 781.6ms\n"
          ]
        },
        {
          "name": "stdout",
          "output_type": "stream",
          "text": [
            "14\n"
          ]
        },
        {
          "name": "stderr",
          "output_type": "stream",
          "text": [
            "video 1/1 (439/900) d:\\A_HIT_AI\\Hackathon\\new\\Video_Phase1\\Doto_103.mp4: 384x640 15 persons, 877.6ms\n"
          ]
        },
        {
          "name": "stdout",
          "output_type": "stream",
          "text": [
            "15\n"
          ]
        },
        {
          "name": "stderr",
          "output_type": "stream",
          "text": [
            "video 1/1 (440/900) d:\\A_HIT_AI\\Hackathon\\new\\Video_Phase1\\Doto_103.mp4: 384x640 15 persons, 769.3ms\n"
          ]
        },
        {
          "name": "stdout",
          "output_type": "stream",
          "text": [
            "15\n"
          ]
        },
        {
          "name": "stderr",
          "output_type": "stream",
          "text": [
            "video 1/1 (441/900) d:\\A_HIT_AI\\Hackathon\\new\\Video_Phase1\\Doto_103.mp4: 384x640 14 persons, 770.9ms\n"
          ]
        },
        {
          "name": "stdout",
          "output_type": "stream",
          "text": [
            "14\n"
          ]
        },
        {
          "name": "stderr",
          "output_type": "stream",
          "text": [
            "video 1/1 (442/900) d:\\A_HIT_AI\\Hackathon\\new\\Video_Phase1\\Doto_103.mp4: 384x640 14 persons, 764.9ms\n"
          ]
        },
        {
          "name": "stdout",
          "output_type": "stream",
          "text": [
            "14\n"
          ]
        },
        {
          "name": "stderr",
          "output_type": "stream",
          "text": [
            "video 1/1 (443/900) d:\\A_HIT_AI\\Hackathon\\new\\Video_Phase1\\Doto_103.mp4: 384x640 13 persons, 792.3ms\n"
          ]
        },
        {
          "name": "stdout",
          "output_type": "stream",
          "text": [
            "13\n"
          ]
        },
        {
          "name": "stderr",
          "output_type": "stream",
          "text": [
            "video 1/1 (444/900) d:\\A_HIT_AI\\Hackathon\\new\\Video_Phase1\\Doto_103.mp4: 384x640 14 persons, 872.1ms\n"
          ]
        },
        {
          "name": "stdout",
          "output_type": "stream",
          "text": [
            "14\n"
          ]
        },
        {
          "name": "stderr",
          "output_type": "stream",
          "text": [
            "video 1/1 (445/900) d:\\A_HIT_AI\\Hackathon\\new\\Video_Phase1\\Doto_103.mp4: 384x640 14 persons, 789.2ms\n"
          ]
        },
        {
          "name": "stdout",
          "output_type": "stream",
          "text": [
            "14\n"
          ]
        },
        {
          "name": "stderr",
          "output_type": "stream",
          "text": [
            "video 1/1 (446/900) d:\\A_HIT_AI\\Hackathon\\new\\Video_Phase1\\Doto_103.mp4: 384x640 15 persons, 778.0ms\n"
          ]
        },
        {
          "name": "stdout",
          "output_type": "stream",
          "text": [
            "15\n"
          ]
        },
        {
          "name": "stderr",
          "output_type": "stream",
          "text": [
            "video 1/1 (447/900) d:\\A_HIT_AI\\Hackathon\\new\\Video_Phase1\\Doto_103.mp4: 384x640 15 persons, 810.7ms\n"
          ]
        },
        {
          "name": "stdout",
          "output_type": "stream",
          "text": [
            "15\n"
          ]
        },
        {
          "name": "stderr",
          "output_type": "stream",
          "text": [
            "video 1/1 (448/900) d:\\A_HIT_AI\\Hackathon\\new\\Video_Phase1\\Doto_103.mp4: 384x640 15 persons, 825.7ms\n"
          ]
        },
        {
          "name": "stdout",
          "output_type": "stream",
          "text": [
            "15\n"
          ]
        },
        {
          "name": "stderr",
          "output_type": "stream",
          "text": [
            "video 1/1 (449/900) d:\\A_HIT_AI\\Hackathon\\new\\Video_Phase1\\Doto_103.mp4: 384x640 16 persons, 778.8ms\n"
          ]
        },
        {
          "name": "stdout",
          "output_type": "stream",
          "text": [
            "16\n"
          ]
        },
        {
          "name": "stderr",
          "output_type": "stream",
          "text": [
            "video 1/1 (450/900) d:\\A_HIT_AI\\Hackathon\\new\\Video_Phase1\\Doto_103.mp4: 384x640 15 persons, 792.6ms\n"
          ]
        },
        {
          "name": "stdout",
          "output_type": "stream",
          "text": [
            "15\n"
          ]
        },
        {
          "name": "stderr",
          "output_type": "stream",
          "text": [
            "video 1/1 (451/900) d:\\A_HIT_AI\\Hackathon\\new\\Video_Phase1\\Doto_103.mp4: 384x640 13 persons, 824.3ms\n"
          ]
        },
        {
          "name": "stdout",
          "output_type": "stream",
          "text": [
            "13\n"
          ]
        },
        {
          "name": "stderr",
          "output_type": "stream",
          "text": [
            "video 1/1 (452/900) d:\\A_HIT_AI\\Hackathon\\new\\Video_Phase1\\Doto_103.mp4: 384x640 14 persons, 777.0ms\n"
          ]
        },
        {
          "name": "stdout",
          "output_type": "stream",
          "text": [
            "14\n"
          ]
        },
        {
          "name": "stderr",
          "output_type": "stream",
          "text": [
            "video 1/1 (453/900) d:\\A_HIT_AI\\Hackathon\\new\\Video_Phase1\\Doto_103.mp4: 384x640 13 persons, 775.0ms\n"
          ]
        },
        {
          "name": "stdout",
          "output_type": "stream",
          "text": [
            "13\n"
          ]
        },
        {
          "name": "stderr",
          "output_type": "stream",
          "text": [
            "video 1/1 (454/900) d:\\A_HIT_AI\\Hackathon\\new\\Video_Phase1\\Doto_103.mp4: 384x640 12 persons, 784.4ms\n"
          ]
        },
        {
          "name": "stdout",
          "output_type": "stream",
          "text": [
            "12\n"
          ]
        },
        {
          "name": "stderr",
          "output_type": "stream",
          "text": [
            "video 1/1 (455/900) d:\\A_HIT_AI\\Hackathon\\new\\Video_Phase1\\Doto_103.mp4: 384x640 12 persons, 773.5ms\n"
          ]
        },
        {
          "name": "stdout",
          "output_type": "stream",
          "text": [
            "12\n"
          ]
        },
        {
          "name": "stderr",
          "output_type": "stream",
          "text": [
            "video 1/1 (456/900) d:\\A_HIT_AI\\Hackathon\\new\\Video_Phase1\\Doto_103.mp4: 384x640 12 persons, 764.2ms\n"
          ]
        },
        {
          "name": "stdout",
          "output_type": "stream",
          "text": [
            "12\n"
          ]
        },
        {
          "name": "stderr",
          "output_type": "stream",
          "text": [
            "video 1/1 (457/900) d:\\A_HIT_AI\\Hackathon\\new\\Video_Phase1\\Doto_103.mp4: 384x640 11 persons, 761.5ms\n"
          ]
        },
        {
          "name": "stdout",
          "output_type": "stream",
          "text": [
            "11\n"
          ]
        },
        {
          "name": "stderr",
          "output_type": "stream",
          "text": [
            "video 1/1 (458/900) d:\\A_HIT_AI\\Hackathon\\new\\Video_Phase1\\Doto_103.mp4: 384x640 11 persons, 770.8ms\n"
          ]
        },
        {
          "name": "stdout",
          "output_type": "stream",
          "text": [
            "11\n"
          ]
        },
        {
          "name": "stderr",
          "output_type": "stream",
          "text": [
            "video 1/1 (459/900) d:\\A_HIT_AI\\Hackathon\\new\\Video_Phase1\\Doto_103.mp4: 384x640 12 persons, 761.5ms\n"
          ]
        },
        {
          "name": "stdout",
          "output_type": "stream",
          "text": [
            "12\n"
          ]
        },
        {
          "name": "stderr",
          "output_type": "stream",
          "text": [
            "video 1/1 (460/900) d:\\A_HIT_AI\\Hackathon\\new\\Video_Phase1\\Doto_103.mp4: 384x640 11 persons, 806.5ms\n"
          ]
        },
        {
          "name": "stdout",
          "output_type": "stream",
          "text": [
            "11\n"
          ]
        },
        {
          "name": "stderr",
          "output_type": "stream",
          "text": [
            "video 1/1 (461/900) d:\\A_HIT_AI\\Hackathon\\new\\Video_Phase1\\Doto_103.mp4: 384x640 11 persons, 737.5ms\n"
          ]
        },
        {
          "name": "stdout",
          "output_type": "stream",
          "text": [
            "11\n"
          ]
        },
        {
          "name": "stderr",
          "output_type": "stream",
          "text": [
            "video 1/1 (462/900) d:\\A_HIT_AI\\Hackathon\\new\\Video_Phase1\\Doto_103.mp4: 384x640 12 persons, 759.4ms\n"
          ]
        },
        {
          "name": "stdout",
          "output_type": "stream",
          "text": [
            "12\n"
          ]
        },
        {
          "name": "stderr",
          "output_type": "stream",
          "text": [
            "video 1/1 (463/900) d:\\A_HIT_AI\\Hackathon\\new\\Video_Phase1\\Doto_103.mp4: 384x640 12 persons, 816.7ms\n"
          ]
        },
        {
          "name": "stdout",
          "output_type": "stream",
          "text": [
            "12\n"
          ]
        },
        {
          "name": "stderr",
          "output_type": "stream",
          "text": [
            "video 1/1 (464/900) d:\\A_HIT_AI\\Hackathon\\new\\Video_Phase1\\Doto_103.mp4: 384x640 12 persons, 924.2ms\n"
          ]
        },
        {
          "name": "stdout",
          "output_type": "stream",
          "text": [
            "12\n"
          ]
        },
        {
          "name": "stderr",
          "output_type": "stream",
          "text": [
            "video 1/1 (465/900) d:\\A_HIT_AI\\Hackathon\\new\\Video_Phase1\\Doto_103.mp4: 384x640 12 persons, 795.1ms\n"
          ]
        },
        {
          "name": "stdout",
          "output_type": "stream",
          "text": [
            "12\n"
          ]
        },
        {
          "name": "stderr",
          "output_type": "stream",
          "text": [
            "video 1/1 (466/900) d:\\A_HIT_AI\\Hackathon\\new\\Video_Phase1\\Doto_103.mp4: 384x640 13 persons, 792.0ms\n"
          ]
        },
        {
          "name": "stdout",
          "output_type": "stream",
          "text": [
            "13\n"
          ]
        },
        {
          "name": "stderr",
          "output_type": "stream",
          "text": [
            "video 1/1 (467/900) d:\\A_HIT_AI\\Hackathon\\new\\Video_Phase1\\Doto_103.mp4: 384x640 13 persons, 768.2ms\n"
          ]
        },
        {
          "name": "stdout",
          "output_type": "stream",
          "text": [
            "13\n"
          ]
        },
        {
          "name": "stderr",
          "output_type": "stream",
          "text": [
            "video 1/1 (468/900) d:\\A_HIT_AI\\Hackathon\\new\\Video_Phase1\\Doto_103.mp4: 384x640 13 persons, 784.7ms\n"
          ]
        },
        {
          "name": "stdout",
          "output_type": "stream",
          "text": [
            "13\n"
          ]
        },
        {
          "name": "stderr",
          "output_type": "stream",
          "text": [
            "video 1/1 (469/900) d:\\A_HIT_AI\\Hackathon\\new\\Video_Phase1\\Doto_103.mp4: 384x640 11 persons, 788.8ms\n"
          ]
        },
        {
          "name": "stdout",
          "output_type": "stream",
          "text": [
            "11\n"
          ]
        },
        {
          "name": "stderr",
          "output_type": "stream",
          "text": [
            "video 1/1 (470/900) d:\\A_HIT_AI\\Hackathon\\new\\Video_Phase1\\Doto_103.mp4: 384x640 12 persons, 743.5ms\n"
          ]
        },
        {
          "name": "stdout",
          "output_type": "stream",
          "text": [
            "12\n"
          ]
        },
        {
          "name": "stderr",
          "output_type": "stream",
          "text": [
            "video 1/1 (471/900) d:\\A_HIT_AI\\Hackathon\\new\\Video_Phase1\\Doto_103.mp4: 384x640 12 persons, 771.6ms\n"
          ]
        },
        {
          "name": "stdout",
          "output_type": "stream",
          "text": [
            "12\n"
          ]
        },
        {
          "name": "stderr",
          "output_type": "stream",
          "text": [
            "video 1/1 (472/900) d:\\A_HIT_AI\\Hackathon\\new\\Video_Phase1\\Doto_103.mp4: 384x640 12 persons, 755.5ms\n"
          ]
        },
        {
          "name": "stdout",
          "output_type": "stream",
          "text": [
            "12\n"
          ]
        },
        {
          "name": "stderr",
          "output_type": "stream",
          "text": [
            "video 1/1 (473/900) d:\\A_HIT_AI\\Hackathon\\new\\Video_Phase1\\Doto_103.mp4: 384x640 12 persons, 728.3ms\n"
          ]
        },
        {
          "name": "stdout",
          "output_type": "stream",
          "text": [
            "12\n"
          ]
        },
        {
          "name": "stderr",
          "output_type": "stream",
          "text": [
            "video 1/1 (474/900) d:\\A_HIT_AI\\Hackathon\\new\\Video_Phase1\\Doto_103.mp4: 384x640 12 persons, 773.6ms\n"
          ]
        },
        {
          "name": "stdout",
          "output_type": "stream",
          "text": [
            "12\n"
          ]
        },
        {
          "name": "stderr",
          "output_type": "stream",
          "text": [
            "video 1/1 (475/900) d:\\A_HIT_AI\\Hackathon\\new\\Video_Phase1\\Doto_103.mp4: 384x640 11 persons, 766.2ms\n"
          ]
        },
        {
          "name": "stdout",
          "output_type": "stream",
          "text": [
            "11\n"
          ]
        },
        {
          "name": "stderr",
          "output_type": "stream",
          "text": [
            "video 1/1 (476/900) d:\\A_HIT_AI\\Hackathon\\new\\Video_Phase1\\Doto_103.mp4: 384x640 11 persons, 763.3ms\n"
          ]
        },
        {
          "name": "stdout",
          "output_type": "stream",
          "text": [
            "11\n"
          ]
        },
        {
          "name": "stderr",
          "output_type": "stream",
          "text": [
            "video 1/1 (477/900) d:\\A_HIT_AI\\Hackathon\\new\\Video_Phase1\\Doto_103.mp4: 384x640 11 persons, 801.9ms\n"
          ]
        },
        {
          "name": "stdout",
          "output_type": "stream",
          "text": [
            "11\n"
          ]
        },
        {
          "name": "stderr",
          "output_type": "stream",
          "text": [
            "video 1/1 (478/900) d:\\A_HIT_AI\\Hackathon\\new\\Video_Phase1\\Doto_103.mp4: 384x640 10 persons, 789.9ms\n"
          ]
        },
        {
          "name": "stdout",
          "output_type": "stream",
          "text": [
            "10\n"
          ]
        },
        {
          "name": "stderr",
          "output_type": "stream",
          "text": [
            "video 1/1 (479/900) d:\\A_HIT_AI\\Hackathon\\new\\Video_Phase1\\Doto_103.mp4: 384x640 10 persons, 750.8ms\n"
          ]
        },
        {
          "name": "stdout",
          "output_type": "stream",
          "text": [
            "10\n"
          ]
        },
        {
          "name": "stderr",
          "output_type": "stream",
          "text": [
            "video 1/1 (480/900) d:\\A_HIT_AI\\Hackathon\\new\\Video_Phase1\\Doto_103.mp4: 384x640 11 persons, 771.8ms\n"
          ]
        },
        {
          "name": "stdout",
          "output_type": "stream",
          "text": [
            "11\n"
          ]
        },
        {
          "name": "stderr",
          "output_type": "stream",
          "text": [
            "video 1/1 (481/900) d:\\A_HIT_AI\\Hackathon\\new\\Video_Phase1\\Doto_103.mp4: 384x640 11 persons, 783.0ms\n"
          ]
        },
        {
          "name": "stdout",
          "output_type": "stream",
          "text": [
            "11\n"
          ]
        },
        {
          "name": "stderr",
          "output_type": "stream",
          "text": [
            "video 1/1 (482/900) d:\\A_HIT_AI\\Hackathon\\new\\Video_Phase1\\Doto_103.mp4: 384x640 10 persons, 767.3ms\n"
          ]
        },
        {
          "name": "stdout",
          "output_type": "stream",
          "text": [
            "10\n"
          ]
        },
        {
          "name": "stderr",
          "output_type": "stream",
          "text": [
            "video 1/1 (483/900) d:\\A_HIT_AI\\Hackathon\\new\\Video_Phase1\\Doto_103.mp4: 384x640 10 persons, 885.8ms\n"
          ]
        },
        {
          "name": "stdout",
          "output_type": "stream",
          "text": [
            "10\n"
          ]
        },
        {
          "name": "stderr",
          "output_type": "stream",
          "text": [
            "video 1/1 (484/900) d:\\A_HIT_AI\\Hackathon\\new\\Video_Phase1\\Doto_103.mp4: 384x640 9 persons, 793.5ms\n"
          ]
        },
        {
          "name": "stdout",
          "output_type": "stream",
          "text": [
            "9\n"
          ]
        },
        {
          "name": "stderr",
          "output_type": "stream",
          "text": [
            "video 1/1 (485/900) d:\\A_HIT_AI\\Hackathon\\new\\Video_Phase1\\Doto_103.mp4: 384x640 9 persons, 780.4ms\n"
          ]
        },
        {
          "name": "stdout",
          "output_type": "stream",
          "text": [
            "9\n"
          ]
        },
        {
          "name": "stderr",
          "output_type": "stream",
          "text": [
            "video 1/1 (486/900) d:\\A_HIT_AI\\Hackathon\\new\\Video_Phase1\\Doto_103.mp4: 384x640 10 persons, 801.4ms\n"
          ]
        },
        {
          "name": "stdout",
          "output_type": "stream",
          "text": [
            "10\n"
          ]
        },
        {
          "name": "stderr",
          "output_type": "stream",
          "text": [
            "video 1/1 (487/900) d:\\A_HIT_AI\\Hackathon\\new\\Video_Phase1\\Doto_103.mp4: 384x640 10 persons, 776.0ms\n"
          ]
        },
        {
          "name": "stdout",
          "output_type": "stream",
          "text": [
            "10\n"
          ]
        },
        {
          "name": "stderr",
          "output_type": "stream",
          "text": [
            "video 1/1 (488/900) d:\\A_HIT_AI\\Hackathon\\new\\Video_Phase1\\Doto_103.mp4: 384x640 9 persons, 766.8ms\n"
          ]
        },
        {
          "name": "stdout",
          "output_type": "stream",
          "text": [
            "9\n"
          ]
        },
        {
          "name": "stderr",
          "output_type": "stream",
          "text": [
            "video 1/1 (489/900) d:\\A_HIT_AI\\Hackathon\\new\\Video_Phase1\\Doto_103.mp4: 384x640 9 persons, 752.6ms\n"
          ]
        },
        {
          "name": "stdout",
          "output_type": "stream",
          "text": [
            "9\n"
          ]
        },
        {
          "name": "stderr",
          "output_type": "stream",
          "text": [
            "video 1/1 (490/900) d:\\A_HIT_AI\\Hackathon\\new\\Video_Phase1\\Doto_103.mp4: 384x640 9 persons, 775.8ms\n"
          ]
        },
        {
          "name": "stdout",
          "output_type": "stream",
          "text": [
            "9\n"
          ]
        },
        {
          "name": "stderr",
          "output_type": "stream",
          "text": [
            "video 1/1 (491/900) d:\\A_HIT_AI\\Hackathon\\new\\Video_Phase1\\Doto_103.mp4: 384x640 9 persons, 761.7ms\n"
          ]
        },
        {
          "name": "stdout",
          "output_type": "stream",
          "text": [
            "9\n"
          ]
        },
        {
          "name": "stderr",
          "output_type": "stream",
          "text": [
            "video 1/1 (492/900) d:\\A_HIT_AI\\Hackathon\\new\\Video_Phase1\\Doto_103.mp4: 384x640 10 persons, 770.8ms\n"
          ]
        },
        {
          "name": "stdout",
          "output_type": "stream",
          "text": [
            "10\n"
          ]
        },
        {
          "name": "stderr",
          "output_type": "stream",
          "text": [
            "video 1/1 (493/900) d:\\A_HIT_AI\\Hackathon\\new\\Video_Phase1\\Doto_103.mp4: 384x640 10 persons, 821.3ms\n"
          ]
        },
        {
          "name": "stdout",
          "output_type": "stream",
          "text": [
            "10\n"
          ]
        },
        {
          "name": "stderr",
          "output_type": "stream",
          "text": [
            "video 1/1 (494/900) d:\\A_HIT_AI\\Hackathon\\new\\Video_Phase1\\Doto_103.mp4: 384x640 11 persons, 762.3ms\n"
          ]
        },
        {
          "name": "stdout",
          "output_type": "stream",
          "text": [
            "11\n"
          ]
        },
        {
          "name": "stderr",
          "output_type": "stream",
          "text": [
            "video 1/1 (495/900) d:\\A_HIT_AI\\Hackathon\\new\\Video_Phase1\\Doto_103.mp4: 384x640 10 persons, 775.7ms\n"
          ]
        },
        {
          "name": "stdout",
          "output_type": "stream",
          "text": [
            "10\n"
          ]
        },
        {
          "name": "stderr",
          "output_type": "stream",
          "text": [
            "video 1/1 (496/900) d:\\A_HIT_AI\\Hackathon\\new\\Video_Phase1\\Doto_103.mp4: 384x640 11 persons, 835.8ms\n"
          ]
        },
        {
          "name": "stdout",
          "output_type": "stream",
          "text": [
            "11\n"
          ]
        },
        {
          "name": "stderr",
          "output_type": "stream",
          "text": [
            "video 1/1 (497/900) d:\\A_HIT_AI\\Hackathon\\new\\Video_Phase1\\Doto_103.mp4: 384x640 11 persons, 789.1ms\n"
          ]
        },
        {
          "name": "stdout",
          "output_type": "stream",
          "text": [
            "11\n"
          ]
        },
        {
          "name": "stderr",
          "output_type": "stream",
          "text": [
            "video 1/1 (498/900) d:\\A_HIT_AI\\Hackathon\\new\\Video_Phase1\\Doto_103.mp4: 384x640 12 persons, 793.0ms\n"
          ]
        },
        {
          "name": "stdout",
          "output_type": "stream",
          "text": [
            "12\n"
          ]
        },
        {
          "name": "stderr",
          "output_type": "stream",
          "text": [
            "video 1/1 (499/900) d:\\A_HIT_AI\\Hackathon\\new\\Video_Phase1\\Doto_103.mp4: 384x640 11 persons, 754.9ms\n"
          ]
        },
        {
          "name": "stdout",
          "output_type": "stream",
          "text": [
            "11\n"
          ]
        },
        {
          "name": "stderr",
          "output_type": "stream",
          "text": [
            "video 1/1 (500/900) d:\\A_HIT_AI\\Hackathon\\new\\Video_Phase1\\Doto_103.mp4: 384x640 11 persons, 774.9ms\n"
          ]
        },
        {
          "name": "stdout",
          "output_type": "stream",
          "text": [
            "11\n"
          ]
        },
        {
          "name": "stderr",
          "output_type": "stream",
          "text": [
            "video 1/1 (501/900) d:\\A_HIT_AI\\Hackathon\\new\\Video_Phase1\\Doto_103.mp4: 384x640 12 persons, 899.1ms\n"
          ]
        },
        {
          "name": "stdout",
          "output_type": "stream",
          "text": [
            "12\n"
          ]
        },
        {
          "name": "stderr",
          "output_type": "stream",
          "text": [
            "video 1/1 (502/900) d:\\A_HIT_AI\\Hackathon\\new\\Video_Phase1\\Doto_103.mp4: 384x640 12 persons, 889.8ms\n"
          ]
        },
        {
          "name": "stdout",
          "output_type": "stream",
          "text": [
            "12\n"
          ]
        },
        {
          "name": "stderr",
          "output_type": "stream",
          "text": [
            "video 1/1 (503/900) d:\\A_HIT_AI\\Hackathon\\new\\Video_Phase1\\Doto_103.mp4: 384x640 12 persons, 828.9ms\n"
          ]
        },
        {
          "name": "stdout",
          "output_type": "stream",
          "text": [
            "12\n"
          ]
        },
        {
          "name": "stderr",
          "output_type": "stream",
          "text": [
            "video 1/1 (504/900) d:\\A_HIT_AI\\Hackathon\\new\\Video_Phase1\\Doto_103.mp4: 384x640 12 persons, 872.7ms\n"
          ]
        },
        {
          "name": "stdout",
          "output_type": "stream",
          "text": [
            "12\n"
          ]
        },
        {
          "name": "stderr",
          "output_type": "stream",
          "text": [
            "video 1/1 (505/900) d:\\A_HIT_AI\\Hackathon\\new\\Video_Phase1\\Doto_103.mp4: 384x640 12 persons, 809.1ms\n"
          ]
        },
        {
          "name": "stdout",
          "output_type": "stream",
          "text": [
            "12\n"
          ]
        },
        {
          "name": "stderr",
          "output_type": "stream",
          "text": [
            "video 1/1 (506/900) d:\\A_HIT_AI\\Hackathon\\new\\Video_Phase1\\Doto_103.mp4: 384x640 13 persons, 827.7ms\n"
          ]
        },
        {
          "name": "stdout",
          "output_type": "stream",
          "text": [
            "13\n"
          ]
        },
        {
          "name": "stderr",
          "output_type": "stream",
          "text": [
            "video 1/1 (507/900) d:\\A_HIT_AI\\Hackathon\\new\\Video_Phase1\\Doto_103.mp4: 384x640 14 persons, 851.3ms\n"
          ]
        },
        {
          "name": "stdout",
          "output_type": "stream",
          "text": [
            "14\n"
          ]
        },
        {
          "name": "stderr",
          "output_type": "stream",
          "text": [
            "video 1/1 (508/900) d:\\A_HIT_AI\\Hackathon\\new\\Video_Phase1\\Doto_103.mp4: 384x640 14 persons, 795.1ms\n"
          ]
        },
        {
          "name": "stdout",
          "output_type": "stream",
          "text": [
            "14\n"
          ]
        },
        {
          "name": "stderr",
          "output_type": "stream",
          "text": [
            "video 1/1 (509/900) d:\\A_HIT_AI\\Hackathon\\new\\Video_Phase1\\Doto_103.mp4: 384x640 14 persons, 827.9ms\n"
          ]
        },
        {
          "name": "stdout",
          "output_type": "stream",
          "text": [
            "14\n"
          ]
        },
        {
          "name": "stderr",
          "output_type": "stream",
          "text": [
            "video 1/1 (510/900) d:\\A_HIT_AI\\Hackathon\\new\\Video_Phase1\\Doto_103.mp4: 384x640 14 persons, 1136.0ms\n"
          ]
        },
        {
          "name": "stdout",
          "output_type": "stream",
          "text": [
            "14\n"
          ]
        },
        {
          "name": "stderr",
          "output_type": "stream",
          "text": [
            "video 1/1 (511/900) d:\\A_HIT_AI\\Hackathon\\new\\Video_Phase1\\Doto_103.mp4: 384x640 14 persons, 912.8ms\n"
          ]
        },
        {
          "name": "stdout",
          "output_type": "stream",
          "text": [
            "14\n"
          ]
        },
        {
          "name": "stderr",
          "output_type": "stream",
          "text": [
            "video 1/1 (512/900) d:\\A_HIT_AI\\Hackathon\\new\\Video_Phase1\\Doto_103.mp4: 384x640 14 persons, 951.2ms\n"
          ]
        },
        {
          "name": "stdout",
          "output_type": "stream",
          "text": [
            "14\n"
          ]
        },
        {
          "name": "stderr",
          "output_type": "stream",
          "text": [
            "video 1/1 (513/900) d:\\A_HIT_AI\\Hackathon\\new\\Video_Phase1\\Doto_103.mp4: 384x640 14 persons, 954.3ms\n"
          ]
        },
        {
          "name": "stdout",
          "output_type": "stream",
          "text": [
            "14\n"
          ]
        },
        {
          "name": "stderr",
          "output_type": "stream",
          "text": [
            "video 1/1 (514/900) d:\\A_HIT_AI\\Hackathon\\new\\Video_Phase1\\Doto_103.mp4: 384x640 15 persons, 1028.4ms\n"
          ]
        },
        {
          "name": "stdout",
          "output_type": "stream",
          "text": [
            "15\n"
          ]
        },
        {
          "name": "stderr",
          "output_type": "stream",
          "text": [
            "video 1/1 (515/900) d:\\A_HIT_AI\\Hackathon\\new\\Video_Phase1\\Doto_103.mp4: 384x640 13 persons, 936.9ms\n"
          ]
        },
        {
          "name": "stdout",
          "output_type": "stream",
          "text": [
            "13\n"
          ]
        },
        {
          "name": "stderr",
          "output_type": "stream",
          "text": [
            "video 1/1 (516/900) d:\\A_HIT_AI\\Hackathon\\new\\Video_Phase1\\Doto_103.mp4: 384x640 14 persons, 975.6ms\n"
          ]
        },
        {
          "name": "stdout",
          "output_type": "stream",
          "text": [
            "14\n"
          ]
        },
        {
          "name": "stderr",
          "output_type": "stream",
          "text": [
            "video 1/1 (517/900) d:\\A_HIT_AI\\Hackathon\\new\\Video_Phase1\\Doto_103.mp4: 384x640 13 persons, 900.5ms\n"
          ]
        },
        {
          "name": "stdout",
          "output_type": "stream",
          "text": [
            "13\n"
          ]
        },
        {
          "name": "stderr",
          "output_type": "stream",
          "text": [
            "video 1/1 (518/900) d:\\A_HIT_AI\\Hackathon\\new\\Video_Phase1\\Doto_103.mp4: 384x640 14 persons, 901.0ms\n"
          ]
        },
        {
          "name": "stdout",
          "output_type": "stream",
          "text": [
            "14\n"
          ]
        },
        {
          "name": "stderr",
          "output_type": "stream",
          "text": [
            "video 1/1 (519/900) d:\\A_HIT_AI\\Hackathon\\new\\Video_Phase1\\Doto_103.mp4: 384x640 14 persons, 900.9ms\n"
          ]
        },
        {
          "name": "stdout",
          "output_type": "stream",
          "text": [
            "14\n"
          ]
        },
        {
          "name": "stderr",
          "output_type": "stream",
          "text": [
            "video 1/1 (520/900) d:\\A_HIT_AI\\Hackathon\\new\\Video_Phase1\\Doto_103.mp4: 384x640 13 persons, 910.3ms\n"
          ]
        },
        {
          "name": "stdout",
          "output_type": "stream",
          "text": [
            "13\n"
          ]
        },
        {
          "name": "stderr",
          "output_type": "stream",
          "text": [
            "video 1/1 (521/900) d:\\A_HIT_AI\\Hackathon\\new\\Video_Phase1\\Doto_103.mp4: 384x640 13 persons, 967.5ms\n"
          ]
        },
        {
          "name": "stdout",
          "output_type": "stream",
          "text": [
            "13\n"
          ]
        },
        {
          "name": "stderr",
          "output_type": "stream",
          "text": [
            "video 1/1 (522/900) d:\\A_HIT_AI\\Hackathon\\new\\Video_Phase1\\Doto_103.mp4: 384x640 14 persons, 1062.5ms\n"
          ]
        },
        {
          "name": "stdout",
          "output_type": "stream",
          "text": [
            "14\n"
          ]
        },
        {
          "name": "stderr",
          "output_type": "stream",
          "text": [
            "video 1/1 (523/900) d:\\A_HIT_AI\\Hackathon\\new\\Video_Phase1\\Doto_103.mp4: 384x640 14 persons, 877.4ms\n"
          ]
        },
        {
          "name": "stdout",
          "output_type": "stream",
          "text": [
            "14\n"
          ]
        },
        {
          "name": "stderr",
          "output_type": "stream",
          "text": [
            "video 1/1 (524/900) d:\\A_HIT_AI\\Hackathon\\new\\Video_Phase1\\Doto_103.mp4: 384x640 15 persons, 860.5ms\n"
          ]
        },
        {
          "name": "stdout",
          "output_type": "stream",
          "text": [
            "15\n"
          ]
        },
        {
          "name": "stderr",
          "output_type": "stream",
          "text": [
            "video 1/1 (525/900) d:\\A_HIT_AI\\Hackathon\\new\\Video_Phase1\\Doto_103.mp4: 384x640 15 persons, 859.0ms\n"
          ]
        },
        {
          "name": "stdout",
          "output_type": "stream",
          "text": [
            "15\n"
          ]
        },
        {
          "name": "stderr",
          "output_type": "stream",
          "text": [
            "video 1/1 (526/900) d:\\A_HIT_AI\\Hackathon\\new\\Video_Phase1\\Doto_103.mp4: 384x640 15 persons, 766.0ms\n"
          ]
        },
        {
          "name": "stdout",
          "output_type": "stream",
          "text": [
            "15\n"
          ]
        },
        {
          "name": "stderr",
          "output_type": "stream",
          "text": [
            "video 1/1 (527/900) d:\\A_HIT_AI\\Hackathon\\new\\Video_Phase1\\Doto_103.mp4: 384x640 14 persons, 779.7ms\n"
          ]
        },
        {
          "name": "stdout",
          "output_type": "stream",
          "text": [
            "14\n"
          ]
        },
        {
          "name": "stderr",
          "output_type": "stream",
          "text": [
            "video 1/1 (528/900) d:\\A_HIT_AI\\Hackathon\\new\\Video_Phase1\\Doto_103.mp4: 384x640 14 persons, 765.1ms\n"
          ]
        },
        {
          "name": "stdout",
          "output_type": "stream",
          "text": [
            "14\n"
          ]
        },
        {
          "name": "stderr",
          "output_type": "stream",
          "text": [
            "video 1/1 (529/900) d:\\A_HIT_AI\\Hackathon\\new\\Video_Phase1\\Doto_103.mp4: 384x640 13 persons, 842.2ms\n"
          ]
        },
        {
          "name": "stdout",
          "output_type": "stream",
          "text": [
            "13\n"
          ]
        },
        {
          "name": "stderr",
          "output_type": "stream",
          "text": [
            "video 1/1 (530/900) d:\\A_HIT_AI\\Hackathon\\new\\Video_Phase1\\Doto_103.mp4: 384x640 13 persons, 822.9ms\n"
          ]
        },
        {
          "name": "stdout",
          "output_type": "stream",
          "text": [
            "13\n"
          ]
        },
        {
          "name": "stderr",
          "output_type": "stream",
          "text": [
            "video 1/1 (531/900) d:\\A_HIT_AI\\Hackathon\\new\\Video_Phase1\\Doto_103.mp4: 384x640 13 persons, 773.7ms\n"
          ]
        },
        {
          "name": "stdout",
          "output_type": "stream",
          "text": [
            "13\n"
          ]
        },
        {
          "name": "stderr",
          "output_type": "stream",
          "text": [
            "video 1/1 (532/900) d:\\A_HIT_AI\\Hackathon\\new\\Video_Phase1\\Doto_103.mp4: 384x640 13 persons, 783.8ms\n"
          ]
        },
        {
          "name": "stdout",
          "output_type": "stream",
          "text": [
            "13\n"
          ]
        },
        {
          "name": "stderr",
          "output_type": "stream",
          "text": [
            "video 1/1 (533/900) d:\\A_HIT_AI\\Hackathon\\new\\Video_Phase1\\Doto_103.mp4: 384x640 13 persons, 812.1ms\n"
          ]
        },
        {
          "name": "stdout",
          "output_type": "stream",
          "text": [
            "13\n"
          ]
        },
        {
          "name": "stderr",
          "output_type": "stream",
          "text": [
            "video 1/1 (534/900) d:\\A_HIT_AI\\Hackathon\\new\\Video_Phase1\\Doto_103.mp4: 384x640 13 persons, 801.2ms\n"
          ]
        },
        {
          "name": "stdout",
          "output_type": "stream",
          "text": [
            "13\n"
          ]
        },
        {
          "name": "stderr",
          "output_type": "stream",
          "text": [
            "video 1/1 (535/900) d:\\A_HIT_AI\\Hackathon\\new\\Video_Phase1\\Doto_103.mp4: 384x640 13 persons, 829.0ms\n"
          ]
        },
        {
          "name": "stdout",
          "output_type": "stream",
          "text": [
            "13\n"
          ]
        },
        {
          "name": "stderr",
          "output_type": "stream",
          "text": [
            "video 1/1 (536/900) d:\\A_HIT_AI\\Hackathon\\new\\Video_Phase1\\Doto_103.mp4: 384x640 13 persons, 822.8ms\n"
          ]
        },
        {
          "name": "stdout",
          "output_type": "stream",
          "text": [
            "13\n"
          ]
        },
        {
          "name": "stderr",
          "output_type": "stream",
          "text": [
            "video 1/1 (537/900) d:\\A_HIT_AI\\Hackathon\\new\\Video_Phase1\\Doto_103.mp4: 384x640 14 persons, 856.4ms\n"
          ]
        },
        {
          "name": "stdout",
          "output_type": "stream",
          "text": [
            "14\n"
          ]
        },
        {
          "name": "stderr",
          "output_type": "stream",
          "text": [
            "video 1/1 (538/900) d:\\A_HIT_AI\\Hackathon\\new\\Video_Phase1\\Doto_103.mp4: 384x640 14 persons, 828.8ms\n"
          ]
        },
        {
          "name": "stdout",
          "output_type": "stream",
          "text": [
            "14\n"
          ]
        },
        {
          "name": "stderr",
          "output_type": "stream",
          "text": [
            "video 1/1 (539/900) d:\\A_HIT_AI\\Hackathon\\new\\Video_Phase1\\Doto_103.mp4: 384x640 14 persons, 897.7ms\n"
          ]
        },
        {
          "name": "stdout",
          "output_type": "stream",
          "text": [
            "14\n"
          ]
        },
        {
          "name": "stderr",
          "output_type": "stream",
          "text": [
            "video 1/1 (540/900) d:\\A_HIT_AI\\Hackathon\\new\\Video_Phase1\\Doto_103.mp4: 384x640 14 persons, 876.1ms\n"
          ]
        },
        {
          "name": "stdout",
          "output_type": "stream",
          "text": [
            "14\n"
          ]
        },
        {
          "name": "stderr",
          "output_type": "stream",
          "text": [
            "video 1/1 (541/900) d:\\A_HIT_AI\\Hackathon\\new\\Video_Phase1\\Doto_103.mp4: 384x640 14 persons, 856.4ms\n"
          ]
        },
        {
          "name": "stdout",
          "output_type": "stream",
          "text": [
            "14\n"
          ]
        },
        {
          "name": "stderr",
          "output_type": "stream",
          "text": [
            "video 1/1 (542/900) d:\\A_HIT_AI\\Hackathon\\new\\Video_Phase1\\Doto_103.mp4: 384x640 13 persons, 882.8ms\n"
          ]
        },
        {
          "name": "stdout",
          "output_type": "stream",
          "text": [
            "13\n"
          ]
        },
        {
          "name": "stderr",
          "output_type": "stream",
          "text": [
            "video 1/1 (543/900) d:\\A_HIT_AI\\Hackathon\\new\\Video_Phase1\\Doto_103.mp4: 384x640 12 persons, 767.8ms\n"
          ]
        },
        {
          "name": "stdout",
          "output_type": "stream",
          "text": [
            "12\n"
          ]
        },
        {
          "name": "stderr",
          "output_type": "stream",
          "text": [
            "video 1/1 (544/900) d:\\A_HIT_AI\\Hackathon\\new\\Video_Phase1\\Doto_103.mp4: 384x640 13 persons, 764.2ms\n"
          ]
        },
        {
          "name": "stdout",
          "output_type": "stream",
          "text": [
            "13\n"
          ]
        },
        {
          "name": "stderr",
          "output_type": "stream",
          "text": [
            "video 1/1 (545/900) d:\\A_HIT_AI\\Hackathon\\new\\Video_Phase1\\Doto_103.mp4: 384x640 14 persons, 757.3ms\n"
          ]
        },
        {
          "name": "stdout",
          "output_type": "stream",
          "text": [
            "14\n"
          ]
        },
        {
          "name": "stderr",
          "output_type": "stream",
          "text": [
            "video 1/1 (546/900) d:\\A_HIT_AI\\Hackathon\\new\\Video_Phase1\\Doto_103.mp4: 384x640 14 persons, 792.6ms\n"
          ]
        },
        {
          "name": "stdout",
          "output_type": "stream",
          "text": [
            "14\n"
          ]
        },
        {
          "name": "stderr",
          "output_type": "stream",
          "text": [
            "video 1/1 (547/900) d:\\A_HIT_AI\\Hackathon\\new\\Video_Phase1\\Doto_103.mp4: 384x640 15 persons, 747.6ms\n"
          ]
        },
        {
          "name": "stdout",
          "output_type": "stream",
          "text": [
            "15\n"
          ]
        },
        {
          "name": "stderr",
          "output_type": "stream",
          "text": [
            "video 1/1 (548/900) d:\\A_HIT_AI\\Hackathon\\new\\Video_Phase1\\Doto_103.mp4: 384x640 15 persons, 799.4ms\n"
          ]
        },
        {
          "name": "stdout",
          "output_type": "stream",
          "text": [
            "15\n"
          ]
        },
        {
          "name": "stderr",
          "output_type": "stream",
          "text": [
            "video 1/1 (549/900) d:\\A_HIT_AI\\Hackathon\\new\\Video_Phase1\\Doto_103.mp4: 384x640 14 persons, 829.7ms\n"
          ]
        },
        {
          "name": "stdout",
          "output_type": "stream",
          "text": [
            "14\n"
          ]
        },
        {
          "name": "stderr",
          "output_type": "stream",
          "text": [
            "video 1/1 (550/900) d:\\A_HIT_AI\\Hackathon\\new\\Video_Phase1\\Doto_103.mp4: 384x640 13 persons, 790.2ms\n"
          ]
        },
        {
          "name": "stdout",
          "output_type": "stream",
          "text": [
            "13\n"
          ]
        },
        {
          "name": "stderr",
          "output_type": "stream",
          "text": [
            "video 1/1 (551/900) d:\\A_HIT_AI\\Hackathon\\new\\Video_Phase1\\Doto_103.mp4: 384x640 14 persons, 826.6ms\n"
          ]
        },
        {
          "name": "stdout",
          "output_type": "stream",
          "text": [
            "14\n"
          ]
        },
        {
          "name": "stderr",
          "output_type": "stream",
          "text": [
            "video 1/1 (552/900) d:\\A_HIT_AI\\Hackathon\\new\\Video_Phase1\\Doto_103.mp4: 384x640 13 persons, 750.7ms\n"
          ]
        },
        {
          "name": "stdout",
          "output_type": "stream",
          "text": [
            "13\n"
          ]
        },
        {
          "name": "stderr",
          "output_type": "stream",
          "text": [
            "video 1/1 (553/900) d:\\A_HIT_AI\\Hackathon\\new\\Video_Phase1\\Doto_103.mp4: 384x640 13 persons, 762.5ms\n"
          ]
        },
        {
          "name": "stdout",
          "output_type": "stream",
          "text": [
            "13\n"
          ]
        },
        {
          "name": "stderr",
          "output_type": "stream",
          "text": [
            "video 1/1 (554/900) d:\\A_HIT_AI\\Hackathon\\new\\Video_Phase1\\Doto_103.mp4: 384x640 13 persons, 725.4ms\n"
          ]
        },
        {
          "name": "stdout",
          "output_type": "stream",
          "text": [
            "13\n"
          ]
        },
        {
          "name": "stderr",
          "output_type": "stream",
          "text": [
            "video 1/1 (555/900) d:\\A_HIT_AI\\Hackathon\\new\\Video_Phase1\\Doto_103.mp4: 384x640 12 persons, 778.9ms\n"
          ]
        },
        {
          "name": "stdout",
          "output_type": "stream",
          "text": [
            "12\n"
          ]
        },
        {
          "name": "stderr",
          "output_type": "stream",
          "text": [
            "video 1/1 (556/900) d:\\A_HIT_AI\\Hackathon\\new\\Video_Phase1\\Doto_103.mp4: 384x640 12 persons, 745.2ms\n"
          ]
        },
        {
          "name": "stdout",
          "output_type": "stream",
          "text": [
            "12\n"
          ]
        },
        {
          "name": "stderr",
          "output_type": "stream",
          "text": [
            "video 1/1 (557/900) d:\\A_HIT_AI\\Hackathon\\new\\Video_Phase1\\Doto_103.mp4: 384x640 13 persons, 753.2ms\n"
          ]
        },
        {
          "name": "stdout",
          "output_type": "stream",
          "text": [
            "13\n"
          ]
        },
        {
          "name": "stderr",
          "output_type": "stream",
          "text": [
            "video 1/1 (558/900) d:\\A_HIT_AI\\Hackathon\\new\\Video_Phase1\\Doto_103.mp4: 384x640 13 persons, 755.6ms\n"
          ]
        },
        {
          "name": "stdout",
          "output_type": "stream",
          "text": [
            "13\n"
          ]
        },
        {
          "name": "stderr",
          "output_type": "stream",
          "text": [
            "video 1/1 (559/900) d:\\A_HIT_AI\\Hackathon\\new\\Video_Phase1\\Doto_103.mp4: 384x640 13 persons, 749.7ms\n"
          ]
        },
        {
          "name": "stdout",
          "output_type": "stream",
          "text": [
            "13\n"
          ]
        },
        {
          "name": "stderr",
          "output_type": "stream",
          "text": [
            "video 1/1 (560/900) d:\\A_HIT_AI\\Hackathon\\new\\Video_Phase1\\Doto_103.mp4: 384x640 13 persons, 746.7ms\n"
          ]
        },
        {
          "name": "stdout",
          "output_type": "stream",
          "text": [
            "13\n"
          ]
        },
        {
          "name": "stderr",
          "output_type": "stream",
          "text": [
            "video 1/1 (561/900) d:\\A_HIT_AI\\Hackathon\\new\\Video_Phase1\\Doto_103.mp4: 384x640 14 persons, 740.1ms\n"
          ]
        },
        {
          "name": "stdout",
          "output_type": "stream",
          "text": [
            "14\n"
          ]
        },
        {
          "name": "stderr",
          "output_type": "stream",
          "text": [
            "video 1/1 (562/900) d:\\A_HIT_AI\\Hackathon\\new\\Video_Phase1\\Doto_103.mp4: 384x640 14 persons, 743.4ms\n"
          ]
        },
        {
          "name": "stdout",
          "output_type": "stream",
          "text": [
            "14\n"
          ]
        },
        {
          "name": "stderr",
          "output_type": "stream",
          "text": [
            "video 1/1 (563/900) d:\\A_HIT_AI\\Hackathon\\new\\Video_Phase1\\Doto_103.mp4: 384x640 14 persons, 745.1ms\n"
          ]
        },
        {
          "name": "stdout",
          "output_type": "stream",
          "text": [
            "14\n"
          ]
        },
        {
          "name": "stderr",
          "output_type": "stream",
          "text": [
            "video 1/1 (564/900) d:\\A_HIT_AI\\Hackathon\\new\\Video_Phase1\\Doto_103.mp4: 384x640 14 persons, 775.3ms\n"
          ]
        },
        {
          "name": "stdout",
          "output_type": "stream",
          "text": [
            "14\n"
          ]
        },
        {
          "name": "stderr",
          "output_type": "stream",
          "text": [
            "video 1/1 (565/900) d:\\A_HIT_AI\\Hackathon\\new\\Video_Phase1\\Doto_103.mp4: 384x640 10 persons, 759.4ms\n"
          ]
        },
        {
          "name": "stdout",
          "output_type": "stream",
          "text": [
            "10\n"
          ]
        },
        {
          "name": "stderr",
          "output_type": "stream",
          "text": [
            "video 1/1 (566/900) d:\\A_HIT_AI\\Hackathon\\new\\Video_Phase1\\Doto_103.mp4: 384x640 12 persons, 753.5ms\n"
          ]
        },
        {
          "name": "stdout",
          "output_type": "stream",
          "text": [
            "12\n"
          ]
        },
        {
          "name": "stderr",
          "output_type": "stream",
          "text": [
            "video 1/1 (567/900) d:\\A_HIT_AI\\Hackathon\\new\\Video_Phase1\\Doto_103.mp4: 384x640 12 persons, 765.6ms\n"
          ]
        },
        {
          "name": "stdout",
          "output_type": "stream",
          "text": [
            "12\n"
          ]
        },
        {
          "name": "stderr",
          "output_type": "stream",
          "text": [
            "video 1/1 (568/900) d:\\A_HIT_AI\\Hackathon\\new\\Video_Phase1\\Doto_103.mp4: 384x640 12 persons, 753.3ms\n"
          ]
        },
        {
          "name": "stdout",
          "output_type": "stream",
          "text": [
            "12\n"
          ]
        },
        {
          "name": "stderr",
          "output_type": "stream",
          "text": [
            "video 1/1 (569/900) d:\\A_HIT_AI\\Hackathon\\new\\Video_Phase1\\Doto_103.mp4: 384x640 14 persons, 754.0ms\n"
          ]
        },
        {
          "name": "stdout",
          "output_type": "stream",
          "text": [
            "14\n"
          ]
        },
        {
          "name": "stderr",
          "output_type": "stream",
          "text": [
            "video 1/1 (570/900) d:\\A_HIT_AI\\Hackathon\\new\\Video_Phase1\\Doto_103.mp4: 384x640 14 persons, 748.2ms\n"
          ]
        },
        {
          "name": "stdout",
          "output_type": "stream",
          "text": [
            "14\n"
          ]
        },
        {
          "name": "stderr",
          "output_type": "stream",
          "text": [
            "video 1/1 (571/900) d:\\A_HIT_AI\\Hackathon\\new\\Video_Phase1\\Doto_103.mp4: 384x640 15 persons, 750.9ms\n"
          ]
        },
        {
          "name": "stdout",
          "output_type": "stream",
          "text": [
            "15\n"
          ]
        },
        {
          "name": "stderr",
          "output_type": "stream",
          "text": [
            "video 1/1 (572/900) d:\\A_HIT_AI\\Hackathon\\new\\Video_Phase1\\Doto_103.mp4: 384x640 16 persons, 775.7ms\n"
          ]
        },
        {
          "name": "stdout",
          "output_type": "stream",
          "text": [
            "16\n"
          ]
        },
        {
          "name": "stderr",
          "output_type": "stream",
          "text": [
            "video 1/1 (573/900) d:\\A_HIT_AI\\Hackathon\\new\\Video_Phase1\\Doto_103.mp4: 384x640 14 persons, 755.2ms\n"
          ]
        },
        {
          "name": "stdout",
          "output_type": "stream",
          "text": [
            "14\n"
          ]
        },
        {
          "name": "stderr",
          "output_type": "stream",
          "text": [
            "video 1/1 (574/900) d:\\A_HIT_AI\\Hackathon\\new\\Video_Phase1\\Doto_103.mp4: 384x640 14 persons, 744.8ms\n"
          ]
        },
        {
          "name": "stdout",
          "output_type": "stream",
          "text": [
            "14\n"
          ]
        },
        {
          "name": "stderr",
          "output_type": "stream",
          "text": [
            "video 1/1 (575/900) d:\\A_HIT_AI\\Hackathon\\new\\Video_Phase1\\Doto_103.mp4: 384x640 14 persons, 746.4ms\n"
          ]
        },
        {
          "name": "stdout",
          "output_type": "stream",
          "text": [
            "14\n"
          ]
        },
        {
          "name": "stderr",
          "output_type": "stream",
          "text": [
            "video 1/1 (576/900) d:\\A_HIT_AI\\Hackathon\\new\\Video_Phase1\\Doto_103.mp4: 384x640 14 persons, 769.7ms\n"
          ]
        },
        {
          "name": "stdout",
          "output_type": "stream",
          "text": [
            "14\n"
          ]
        },
        {
          "name": "stderr",
          "output_type": "stream",
          "text": [
            "video 1/1 (577/900) d:\\A_HIT_AI\\Hackathon\\new\\Video_Phase1\\Doto_103.mp4: 384x640 12 persons, 802.2ms\n"
          ]
        },
        {
          "name": "stdout",
          "output_type": "stream",
          "text": [
            "12\n"
          ]
        },
        {
          "name": "stderr",
          "output_type": "stream",
          "text": [
            "video 1/1 (578/900) d:\\A_HIT_AI\\Hackathon\\new\\Video_Phase1\\Doto_103.mp4: 384x640 12 persons, 898.6ms\n"
          ]
        },
        {
          "name": "stdout",
          "output_type": "stream",
          "text": [
            "12\n"
          ]
        },
        {
          "name": "stderr",
          "output_type": "stream",
          "text": [
            "video 1/1 (579/900) d:\\A_HIT_AI\\Hackathon\\new\\Video_Phase1\\Doto_103.mp4: 384x640 13 persons, 765.9ms\n"
          ]
        },
        {
          "name": "stdout",
          "output_type": "stream",
          "text": [
            "13\n"
          ]
        },
        {
          "name": "stderr",
          "output_type": "stream",
          "text": [
            "video 1/1 (580/900) d:\\A_HIT_AI\\Hackathon\\new\\Video_Phase1\\Doto_103.mp4: 384x640 13 persons, 801.3ms\n"
          ]
        },
        {
          "name": "stdout",
          "output_type": "stream",
          "text": [
            "13\n"
          ]
        },
        {
          "name": "stderr",
          "output_type": "stream",
          "text": [
            "video 1/1 (581/900) d:\\A_HIT_AI\\Hackathon\\new\\Video_Phase1\\Doto_103.mp4: 384x640 13 persons, 732.3ms\n"
          ]
        },
        {
          "name": "stdout",
          "output_type": "stream",
          "text": [
            "13\n"
          ]
        },
        {
          "name": "stderr",
          "output_type": "stream",
          "text": [
            "video 1/1 (582/900) d:\\A_HIT_AI\\Hackathon\\new\\Video_Phase1\\Doto_103.mp4: 384x640 13 persons, 788.7ms\n"
          ]
        },
        {
          "name": "stdout",
          "output_type": "stream",
          "text": [
            "13\n"
          ]
        },
        {
          "name": "stderr",
          "output_type": "stream",
          "text": [
            "video 1/1 (583/900) d:\\A_HIT_AI\\Hackathon\\new\\Video_Phase1\\Doto_103.mp4: 384x640 12 persons, 951.5ms\n"
          ]
        },
        {
          "name": "stdout",
          "output_type": "stream",
          "text": [
            "12\n"
          ]
        },
        {
          "name": "stderr",
          "output_type": "stream",
          "text": [
            "video 1/1 (584/900) d:\\A_HIT_AI\\Hackathon\\new\\Video_Phase1\\Doto_103.mp4: 384x640 12 persons, 928.8ms\n"
          ]
        },
        {
          "name": "stdout",
          "output_type": "stream",
          "text": [
            "12\n"
          ]
        },
        {
          "name": "stderr",
          "output_type": "stream",
          "text": [
            "video 1/1 (585/900) d:\\A_HIT_AI\\Hackathon\\new\\Video_Phase1\\Doto_103.mp4: 384x640 12 persons, 825.7ms\n"
          ]
        },
        {
          "name": "stdout",
          "output_type": "stream",
          "text": [
            "12\n"
          ]
        },
        {
          "name": "stderr",
          "output_type": "stream",
          "text": [
            "video 1/1 (586/900) d:\\A_HIT_AI\\Hackathon\\new\\Video_Phase1\\Doto_103.mp4: 384x640 13 persons, 842.5ms\n"
          ]
        },
        {
          "name": "stdout",
          "output_type": "stream",
          "text": [
            "13\n"
          ]
        },
        {
          "name": "stderr",
          "output_type": "stream",
          "text": [
            "video 1/1 (587/900) d:\\A_HIT_AI\\Hackathon\\new\\Video_Phase1\\Doto_103.mp4: 384x640 12 persons, 964.4ms\n"
          ]
        },
        {
          "name": "stdout",
          "output_type": "stream",
          "text": [
            "12\n"
          ]
        },
        {
          "name": "stderr",
          "output_type": "stream",
          "text": [
            "video 1/1 (588/900) d:\\A_HIT_AI\\Hackathon\\new\\Video_Phase1\\Doto_103.mp4: 384x640 12 persons, 927.6ms\n"
          ]
        },
        {
          "name": "stdout",
          "output_type": "stream",
          "text": [
            "12\n"
          ]
        },
        {
          "name": "stderr",
          "output_type": "stream",
          "text": [
            "video 1/1 (589/900) d:\\A_HIT_AI\\Hackathon\\new\\Video_Phase1\\Doto_103.mp4: 384x640 13 persons, 746.1ms\n"
          ]
        },
        {
          "name": "stdout",
          "output_type": "stream",
          "text": [
            "13\n"
          ]
        },
        {
          "name": "stderr",
          "output_type": "stream",
          "text": [
            "video 1/1 (590/900) d:\\A_HIT_AI\\Hackathon\\new\\Video_Phase1\\Doto_103.mp4: 384x640 13 persons, 707.0ms\n"
          ]
        },
        {
          "name": "stdout",
          "output_type": "stream",
          "text": [
            "13\n"
          ]
        },
        {
          "name": "stderr",
          "output_type": "stream",
          "text": [
            "video 1/1 (591/900) d:\\A_HIT_AI\\Hackathon\\new\\Video_Phase1\\Doto_103.mp4: 384x640 13 persons, 747.3ms\n"
          ]
        },
        {
          "name": "stdout",
          "output_type": "stream",
          "text": [
            "13\n"
          ]
        },
        {
          "name": "stderr",
          "output_type": "stream",
          "text": [
            "video 1/1 (592/900) d:\\A_HIT_AI\\Hackathon\\new\\Video_Phase1\\Doto_103.mp4: 384x640 13 persons, 845.1ms\n"
          ]
        },
        {
          "name": "stdout",
          "output_type": "stream",
          "text": [
            "13\n"
          ]
        },
        {
          "name": "stderr",
          "output_type": "stream",
          "text": [
            "video 1/1 (593/900) d:\\A_HIT_AI\\Hackathon\\new\\Video_Phase1\\Doto_103.mp4: 384x640 13 persons, 1015.2ms\n"
          ]
        },
        {
          "name": "stdout",
          "output_type": "stream",
          "text": [
            "13\n"
          ]
        },
        {
          "name": "stderr",
          "output_type": "stream",
          "text": [
            "video 1/1 (594/900) d:\\A_HIT_AI\\Hackathon\\new\\Video_Phase1\\Doto_103.mp4: 384x640 13 persons, 1025.7ms\n"
          ]
        },
        {
          "name": "stdout",
          "output_type": "stream",
          "text": [
            "13\n"
          ]
        },
        {
          "name": "stderr",
          "output_type": "stream",
          "text": [
            "video 1/1 (595/900) d:\\A_HIT_AI\\Hackathon\\new\\Video_Phase1\\Doto_103.mp4: 384x640 14 persons, 968.6ms\n"
          ]
        },
        {
          "name": "stdout",
          "output_type": "stream",
          "text": [
            "14\n"
          ]
        },
        {
          "name": "stderr",
          "output_type": "stream",
          "text": [
            "video 1/1 (596/900) d:\\A_HIT_AI\\Hackathon\\new\\Video_Phase1\\Doto_103.mp4: 384x640 14 persons, 880.3ms\n"
          ]
        },
        {
          "name": "stdout",
          "output_type": "stream",
          "text": [
            "14\n"
          ]
        },
        {
          "name": "stderr",
          "output_type": "stream",
          "text": [
            "video 1/1 (597/900) d:\\A_HIT_AI\\Hackathon\\new\\Video_Phase1\\Doto_103.mp4: 384x640 15 persons, 916.3ms\n"
          ]
        },
        {
          "name": "stdout",
          "output_type": "stream",
          "text": [
            "15\n"
          ]
        },
        {
          "name": "stderr",
          "output_type": "stream",
          "text": [
            "video 1/1 (598/900) d:\\A_HIT_AI\\Hackathon\\new\\Video_Phase1\\Doto_103.mp4: 384x640 15 persons, 991.8ms\n"
          ]
        },
        {
          "name": "stdout",
          "output_type": "stream",
          "text": [
            "15\n"
          ]
        },
        {
          "name": "stderr",
          "output_type": "stream",
          "text": [
            "video 1/1 (599/900) d:\\A_HIT_AI\\Hackathon\\new\\Video_Phase1\\Doto_103.mp4: 384x640 16 persons, 910.0ms\n"
          ]
        },
        {
          "name": "stdout",
          "output_type": "stream",
          "text": [
            "16\n"
          ]
        },
        {
          "name": "stderr",
          "output_type": "stream",
          "text": [
            "video 1/1 (600/900) d:\\A_HIT_AI\\Hackathon\\new\\Video_Phase1\\Doto_103.mp4: 384x640 16 persons, 776.7ms\n"
          ]
        },
        {
          "name": "stdout",
          "output_type": "stream",
          "text": [
            "16\n"
          ]
        },
        {
          "name": "stderr",
          "output_type": "stream",
          "text": [
            "video 1/1 (601/900) d:\\A_HIT_AI\\Hackathon\\new\\Video_Phase1\\Doto_103.mp4: 384x640 14 persons, 743.9ms\n"
          ]
        },
        {
          "name": "stdout",
          "output_type": "stream",
          "text": [
            "14\n"
          ]
        },
        {
          "name": "stderr",
          "output_type": "stream",
          "text": [
            "video 1/1 (602/900) d:\\A_HIT_AI\\Hackathon\\new\\Video_Phase1\\Doto_103.mp4: 384x640 15 persons, 797.4ms\n"
          ]
        },
        {
          "name": "stdout",
          "output_type": "stream",
          "text": [
            "15\n"
          ]
        },
        {
          "name": "stderr",
          "output_type": "stream",
          "text": [
            "video 1/1 (603/900) d:\\A_HIT_AI\\Hackathon\\new\\Video_Phase1\\Doto_103.mp4: 384x640 15 persons, 990.1ms\n"
          ]
        },
        {
          "name": "stdout",
          "output_type": "stream",
          "text": [
            "15\n"
          ]
        },
        {
          "name": "stderr",
          "output_type": "stream",
          "text": [
            "video 1/1 (604/900) d:\\A_HIT_AI\\Hackathon\\new\\Video_Phase1\\Doto_103.mp4: 384x640 15 persons, 1016.7ms\n"
          ]
        },
        {
          "name": "stdout",
          "output_type": "stream",
          "text": [
            "15\n"
          ]
        },
        {
          "name": "stderr",
          "output_type": "stream",
          "text": [
            "video 1/1 (605/900) d:\\A_HIT_AI\\Hackathon\\new\\Video_Phase1\\Doto_103.mp4: 384x640 17 persons, 857.6ms\n"
          ]
        },
        {
          "name": "stdout",
          "output_type": "stream",
          "text": [
            "17\n"
          ]
        },
        {
          "name": "stderr",
          "output_type": "stream",
          "text": [
            "video 1/1 (606/900) d:\\A_HIT_AI\\Hackathon\\new\\Video_Phase1\\Doto_103.mp4: 384x640 16 persons, 894.7ms\n"
          ]
        },
        {
          "name": "stdout",
          "output_type": "stream",
          "text": [
            "16\n"
          ]
        },
        {
          "name": "stderr",
          "output_type": "stream",
          "text": [
            "video 1/1 (607/900) d:\\A_HIT_AI\\Hackathon\\new\\Video_Phase1\\Doto_103.mp4: 384x640 16 persons, 735.8ms\n"
          ]
        },
        {
          "name": "stdout",
          "output_type": "stream",
          "text": [
            "16\n"
          ]
        },
        {
          "name": "stderr",
          "output_type": "stream",
          "text": [
            "video 1/1 (608/900) d:\\A_HIT_AI\\Hackathon\\new\\Video_Phase1\\Doto_103.mp4: 384x640 16 persons, 762.1ms\n"
          ]
        },
        {
          "name": "stdout",
          "output_type": "stream",
          "text": [
            "16\n"
          ]
        },
        {
          "name": "stderr",
          "output_type": "stream",
          "text": [
            "video 1/1 (609/900) d:\\A_HIT_AI\\Hackathon\\new\\Video_Phase1\\Doto_103.mp4: 384x640 16 persons, 747.4ms\n"
          ]
        },
        {
          "name": "stdout",
          "output_type": "stream",
          "text": [
            "16\n"
          ]
        },
        {
          "name": "stderr",
          "output_type": "stream",
          "text": [
            "video 1/1 (610/900) d:\\A_HIT_AI\\Hackathon\\new\\Video_Phase1\\Doto_103.mp4: 384x640 16 persons, 738.9ms\n"
          ]
        },
        {
          "name": "stdout",
          "output_type": "stream",
          "text": [
            "16\n"
          ]
        },
        {
          "name": "stderr",
          "output_type": "stream",
          "text": [
            "video 1/1 (611/900) d:\\A_HIT_AI\\Hackathon\\new\\Video_Phase1\\Doto_103.mp4: 384x640 16 persons, 749.7ms\n"
          ]
        },
        {
          "name": "stdout",
          "output_type": "stream",
          "text": [
            "16\n"
          ]
        },
        {
          "name": "stderr",
          "output_type": "stream",
          "text": [
            "video 1/1 (612/900) d:\\A_HIT_AI\\Hackathon\\new\\Video_Phase1\\Doto_103.mp4: 384x640 16 persons, 721.1ms\n"
          ]
        },
        {
          "name": "stdout",
          "output_type": "stream",
          "text": [
            "16\n"
          ]
        },
        {
          "name": "stderr",
          "output_type": "stream",
          "text": [
            "video 1/1 (613/900) d:\\A_HIT_AI\\Hackathon\\new\\Video_Phase1\\Doto_103.mp4: 384x640 16 persons, 673.2ms\n"
          ]
        },
        {
          "name": "stdout",
          "output_type": "stream",
          "text": [
            "16\n"
          ]
        },
        {
          "name": "stderr",
          "output_type": "stream",
          "text": [
            "video 1/1 (614/900) d:\\A_HIT_AI\\Hackathon\\new\\Video_Phase1\\Doto_103.mp4: 384x640 16 persons, 678.7ms\n"
          ]
        },
        {
          "name": "stdout",
          "output_type": "stream",
          "text": [
            "16\n"
          ]
        },
        {
          "name": "stderr",
          "output_type": "stream",
          "text": [
            "video 1/1 (615/900) d:\\A_HIT_AI\\Hackathon\\new\\Video_Phase1\\Doto_103.mp4: 384x640 17 persons, 715.6ms\n"
          ]
        },
        {
          "name": "stdout",
          "output_type": "stream",
          "text": [
            "17\n"
          ]
        },
        {
          "name": "stderr",
          "output_type": "stream",
          "text": [
            "video 1/1 (616/900) d:\\A_HIT_AI\\Hackathon\\new\\Video_Phase1\\Doto_103.mp4: 384x640 17 persons, 720.3ms\n"
          ]
        },
        {
          "name": "stdout",
          "output_type": "stream",
          "text": [
            "17\n"
          ]
        },
        {
          "name": "stderr",
          "output_type": "stream",
          "text": [
            "video 1/1 (617/900) d:\\A_HIT_AI\\Hackathon\\new\\Video_Phase1\\Doto_103.mp4: 384x640 17 persons, 784.7ms\n"
          ]
        },
        {
          "name": "stdout",
          "output_type": "stream",
          "text": [
            "17\n"
          ]
        },
        {
          "name": "stderr",
          "output_type": "stream",
          "text": [
            "video 1/1 (618/900) d:\\A_HIT_AI\\Hackathon\\new\\Video_Phase1\\Doto_103.mp4: 384x640 18 persons, 696.2ms\n"
          ]
        },
        {
          "name": "stdout",
          "output_type": "stream",
          "text": [
            "18\n"
          ]
        },
        {
          "name": "stderr",
          "output_type": "stream",
          "text": [
            "video 1/1 (619/900) d:\\A_HIT_AI\\Hackathon\\new\\Video_Phase1\\Doto_103.mp4: 384x640 19 persons, 826.8ms\n"
          ]
        },
        {
          "name": "stdout",
          "output_type": "stream",
          "text": [
            "19\n"
          ]
        },
        {
          "name": "stderr",
          "output_type": "stream",
          "text": [
            "video 1/1 (620/900) d:\\A_HIT_AI\\Hackathon\\new\\Video_Phase1\\Doto_103.mp4: 384x640 18 persons, 1055.9ms\n"
          ]
        },
        {
          "name": "stdout",
          "output_type": "stream",
          "text": [
            "18\n"
          ]
        },
        {
          "name": "stderr",
          "output_type": "stream",
          "text": [
            "video 1/1 (621/900) d:\\A_HIT_AI\\Hackathon\\new\\Video_Phase1\\Doto_103.mp4: 384x640 19 persons, 797.1ms\n"
          ]
        },
        {
          "name": "stdout",
          "output_type": "stream",
          "text": [
            "19\n"
          ]
        },
        {
          "name": "stderr",
          "output_type": "stream",
          "text": [
            "video 1/1 (622/900) d:\\A_HIT_AI\\Hackathon\\new\\Video_Phase1\\Doto_103.mp4: 384x640 20 persons, 769.9ms\n"
          ]
        },
        {
          "name": "stdout",
          "output_type": "stream",
          "text": [
            "20\n"
          ]
        },
        {
          "name": "stderr",
          "output_type": "stream",
          "text": [
            "video 1/1 (623/900) d:\\A_HIT_AI\\Hackathon\\new\\Video_Phase1\\Doto_103.mp4: 384x640 18 persons, 777.7ms\n"
          ]
        },
        {
          "name": "stdout",
          "output_type": "stream",
          "text": [
            "18\n"
          ]
        },
        {
          "name": "stderr",
          "output_type": "stream",
          "text": [
            "video 1/1 (624/900) d:\\A_HIT_AI\\Hackathon\\new\\Video_Phase1\\Doto_103.mp4: 384x640 19 persons, 871.4ms\n"
          ]
        },
        {
          "name": "stdout",
          "output_type": "stream",
          "text": [
            "19\n"
          ]
        },
        {
          "name": "stderr",
          "output_type": "stream",
          "text": [
            "video 1/1 (625/900) d:\\A_HIT_AI\\Hackathon\\new\\Video_Phase1\\Doto_103.mp4: 384x640 17 persons, 858.4ms\n"
          ]
        },
        {
          "name": "stdout",
          "output_type": "stream",
          "text": [
            "17\n"
          ]
        },
        {
          "name": "stderr",
          "output_type": "stream",
          "text": [
            "video 1/1 (626/900) d:\\A_HIT_AI\\Hackathon\\new\\Video_Phase1\\Doto_103.mp4: 384x640 16 persons, 745.2ms\n"
          ]
        },
        {
          "name": "stdout",
          "output_type": "stream",
          "text": [
            "16\n"
          ]
        },
        {
          "name": "stderr",
          "output_type": "stream",
          "text": [
            "video 1/1 (627/900) d:\\A_HIT_AI\\Hackathon\\new\\Video_Phase1\\Doto_103.mp4: 384x640 16 persons, 966.8ms\n"
          ]
        },
        {
          "name": "stdout",
          "output_type": "stream",
          "text": [
            "16\n"
          ]
        },
        {
          "name": "stderr",
          "output_type": "stream",
          "text": [
            "video 1/1 (628/900) d:\\A_HIT_AI\\Hackathon\\new\\Video_Phase1\\Doto_103.mp4: 384x640 17 persons, 761.2ms\n"
          ]
        },
        {
          "name": "stdout",
          "output_type": "stream",
          "text": [
            "17\n"
          ]
        },
        {
          "name": "stderr",
          "output_type": "stream",
          "text": [
            "video 1/1 (629/900) d:\\A_HIT_AI\\Hackathon\\new\\Video_Phase1\\Doto_103.mp4: 384x640 17 persons, 757.5ms\n"
          ]
        },
        {
          "name": "stdout",
          "output_type": "stream",
          "text": [
            "17\n"
          ]
        },
        {
          "name": "stderr",
          "output_type": "stream",
          "text": [
            "video 1/1 (630/900) d:\\A_HIT_AI\\Hackathon\\new\\Video_Phase1\\Doto_103.mp4: 384x640 17 persons, 708.5ms\n"
          ]
        },
        {
          "name": "stdout",
          "output_type": "stream",
          "text": [
            "17\n"
          ]
        },
        {
          "name": "stderr",
          "output_type": "stream",
          "text": [
            "video 1/1 (631/900) d:\\A_HIT_AI\\Hackathon\\new\\Video_Phase1\\Doto_103.mp4: 384x640 17 persons, 1059.1ms\n"
          ]
        },
        {
          "name": "stdout",
          "output_type": "stream",
          "text": [
            "17\n"
          ]
        },
        {
          "name": "stderr",
          "output_type": "stream",
          "text": [
            "video 1/1 (632/900) d:\\A_HIT_AI\\Hackathon\\new\\Video_Phase1\\Doto_103.mp4: 384x640 18 persons, 1389.8ms\n"
          ]
        },
        {
          "name": "stdout",
          "output_type": "stream",
          "text": [
            "18\n"
          ]
        },
        {
          "name": "stderr",
          "output_type": "stream",
          "text": [
            "video 1/1 (633/900) d:\\A_HIT_AI\\Hackathon\\new\\Video_Phase1\\Doto_103.mp4: 384x640 17 persons, 1118.1ms\n"
          ]
        },
        {
          "name": "stdout",
          "output_type": "stream",
          "text": [
            "17\n"
          ]
        },
        {
          "name": "stderr",
          "output_type": "stream",
          "text": [
            "video 1/1 (634/900) d:\\A_HIT_AI\\Hackathon\\new\\Video_Phase1\\Doto_103.mp4: 384x640 17 persons, 980.6ms\n"
          ]
        },
        {
          "name": "stdout",
          "output_type": "stream",
          "text": [
            "17\n"
          ]
        },
        {
          "name": "stderr",
          "output_type": "stream",
          "text": [
            "video 1/1 (635/900) d:\\A_HIT_AI\\Hackathon\\new\\Video_Phase1\\Doto_103.mp4: 384x640 18 persons, 736.0ms\n"
          ]
        },
        {
          "name": "stdout",
          "output_type": "stream",
          "text": [
            "18\n"
          ]
        },
        {
          "name": "stderr",
          "output_type": "stream",
          "text": [
            "video 1/1 (636/900) d:\\A_HIT_AI\\Hackathon\\new\\Video_Phase1\\Doto_103.mp4: 384x640 18 persons, 743.4ms\n"
          ]
        },
        {
          "name": "stdout",
          "output_type": "stream",
          "text": [
            "18\n"
          ]
        },
        {
          "name": "stderr",
          "output_type": "stream",
          "text": [
            "video 1/1 (637/900) d:\\A_HIT_AI\\Hackathon\\new\\Video_Phase1\\Doto_103.mp4: 384x640 17 persons, 734.3ms\n"
          ]
        },
        {
          "name": "stdout",
          "output_type": "stream",
          "text": [
            "17\n"
          ]
        },
        {
          "name": "stderr",
          "output_type": "stream",
          "text": [
            "video 1/1 (638/900) d:\\A_HIT_AI\\Hackathon\\new\\Video_Phase1\\Doto_103.mp4: 384x640 16 persons, 920.9ms\n"
          ]
        },
        {
          "name": "stdout",
          "output_type": "stream",
          "text": [
            "16\n"
          ]
        },
        {
          "name": "stderr",
          "output_type": "stream",
          "text": [
            "video 1/1 (639/900) d:\\A_HIT_AI\\Hackathon\\new\\Video_Phase1\\Doto_103.mp4: 384x640 17 persons, 933.8ms\n"
          ]
        },
        {
          "name": "stdout",
          "output_type": "stream",
          "text": [
            "17\n"
          ]
        },
        {
          "name": "stderr",
          "output_type": "stream",
          "text": [
            "video 1/1 (640/900) d:\\A_HIT_AI\\Hackathon\\new\\Video_Phase1\\Doto_103.mp4: 384x640 17 persons, 954.4ms\n"
          ]
        },
        {
          "name": "stdout",
          "output_type": "stream",
          "text": [
            "17\n"
          ]
        },
        {
          "name": "stderr",
          "output_type": "stream",
          "text": [
            "video 1/1 (641/900) d:\\A_HIT_AI\\Hackathon\\new\\Video_Phase1\\Doto_103.mp4: 384x640 17 persons, 875.3ms\n"
          ]
        },
        {
          "name": "stdout",
          "output_type": "stream",
          "text": [
            "17\n"
          ]
        },
        {
          "name": "stderr",
          "output_type": "stream",
          "text": [
            "video 1/1 (642/900) d:\\A_HIT_AI\\Hackathon\\new\\Video_Phase1\\Doto_103.mp4: 384x640 16 persons, 712.6ms\n"
          ]
        },
        {
          "name": "stdout",
          "output_type": "stream",
          "text": [
            "16\n"
          ]
        },
        {
          "name": "stderr",
          "output_type": "stream",
          "text": [
            "video 1/1 (643/900) d:\\A_HIT_AI\\Hackathon\\new\\Video_Phase1\\Doto_103.mp4: 384x640 18 persons, 779.0ms\n"
          ]
        },
        {
          "name": "stdout",
          "output_type": "stream",
          "text": [
            "18\n"
          ]
        },
        {
          "name": "stderr",
          "output_type": "stream",
          "text": [
            "video 1/1 (644/900) d:\\A_HIT_AI\\Hackathon\\new\\Video_Phase1\\Doto_103.mp4: 384x640 18 persons, 770.4ms\n"
          ]
        },
        {
          "name": "stdout",
          "output_type": "stream",
          "text": [
            "18\n"
          ]
        },
        {
          "name": "stderr",
          "output_type": "stream",
          "text": [
            "video 1/1 (645/900) d:\\A_HIT_AI\\Hackathon\\new\\Video_Phase1\\Doto_103.mp4: 384x640 16 persons, 739.3ms\n"
          ]
        },
        {
          "name": "stdout",
          "output_type": "stream",
          "text": [
            "16\n"
          ]
        },
        {
          "name": "stderr",
          "output_type": "stream",
          "text": [
            "video 1/1 (646/900) d:\\A_HIT_AI\\Hackathon\\new\\Video_Phase1\\Doto_103.mp4: 384x640 16 persons, 741.8ms\n"
          ]
        },
        {
          "name": "stdout",
          "output_type": "stream",
          "text": [
            "16\n"
          ]
        },
        {
          "name": "stderr",
          "output_type": "stream",
          "text": [
            "video 1/1 (647/900) d:\\A_HIT_AI\\Hackathon\\new\\Video_Phase1\\Doto_103.mp4: 384x640 15 persons, 734.5ms\n"
          ]
        },
        {
          "name": "stdout",
          "output_type": "stream",
          "text": [
            "15\n"
          ]
        },
        {
          "name": "stderr",
          "output_type": "stream",
          "text": [
            "video 1/1 (648/900) d:\\A_HIT_AI\\Hackathon\\new\\Video_Phase1\\Doto_103.mp4: 384x640 15 persons, 689.2ms\n"
          ]
        },
        {
          "name": "stdout",
          "output_type": "stream",
          "text": [
            "15\n"
          ]
        },
        {
          "name": "stderr",
          "output_type": "stream",
          "text": [
            "video 1/1 (649/900) d:\\A_HIT_AI\\Hackathon\\new\\Video_Phase1\\Doto_103.mp4: 384x640 13 persons, 909.6ms\n"
          ]
        },
        {
          "name": "stdout",
          "output_type": "stream",
          "text": [
            "13\n"
          ]
        },
        {
          "name": "stderr",
          "output_type": "stream",
          "text": [
            "video 1/1 (650/900) d:\\A_HIT_AI\\Hackathon\\new\\Video_Phase1\\Doto_103.mp4: 384x640 13 persons, 1143.2ms\n"
          ]
        },
        {
          "name": "stdout",
          "output_type": "stream",
          "text": [
            "13\n"
          ]
        },
        {
          "name": "stderr",
          "output_type": "stream",
          "text": [
            "video 1/1 (651/900) d:\\A_HIT_AI\\Hackathon\\new\\Video_Phase1\\Doto_103.mp4: 384x640 12 persons, 798.7ms\n"
          ]
        },
        {
          "name": "stdout",
          "output_type": "stream",
          "text": [
            "12\n"
          ]
        },
        {
          "name": "stderr",
          "output_type": "stream",
          "text": [
            "video 1/1 (652/900) d:\\A_HIT_AI\\Hackathon\\new\\Video_Phase1\\Doto_103.mp4: 384x640 13 persons, 751.5ms\n"
          ]
        },
        {
          "name": "stdout",
          "output_type": "stream",
          "text": [
            "13\n"
          ]
        },
        {
          "name": "stderr",
          "output_type": "stream",
          "text": [
            "video 1/1 (653/900) d:\\A_HIT_AI\\Hackathon\\new\\Video_Phase1\\Doto_103.mp4: 384x640 12 persons, 768.8ms\n"
          ]
        },
        {
          "name": "stdout",
          "output_type": "stream",
          "text": [
            "12\n"
          ]
        },
        {
          "name": "stderr",
          "output_type": "stream",
          "text": [
            "video 1/1 (654/900) d:\\A_HIT_AI\\Hackathon\\new\\Video_Phase1\\Doto_103.mp4: 384x640 12 persons, 747.9ms\n"
          ]
        },
        {
          "name": "stdout",
          "output_type": "stream",
          "text": [
            "12\n"
          ]
        },
        {
          "name": "stderr",
          "output_type": "stream",
          "text": [
            "video 1/1 (655/900) d:\\A_HIT_AI\\Hackathon\\new\\Video_Phase1\\Doto_103.mp4: 384x640 13 persons, 713.9ms\n"
          ]
        },
        {
          "name": "stdout",
          "output_type": "stream",
          "text": [
            "13\n"
          ]
        },
        {
          "name": "stderr",
          "output_type": "stream",
          "text": [
            "video 1/1 (656/900) d:\\A_HIT_AI\\Hackathon\\new\\Video_Phase1\\Doto_103.mp4: 384x640 14 persons, 725.5ms\n"
          ]
        },
        {
          "name": "stdout",
          "output_type": "stream",
          "text": [
            "14\n"
          ]
        },
        {
          "name": "stderr",
          "output_type": "stream",
          "text": [
            "video 1/1 (657/900) d:\\A_HIT_AI\\Hackathon\\new\\Video_Phase1\\Doto_103.mp4: 384x640 15 persons, 720.1ms\n"
          ]
        },
        {
          "name": "stdout",
          "output_type": "stream",
          "text": [
            "15\n"
          ]
        },
        {
          "name": "stderr",
          "output_type": "stream",
          "text": [
            "video 1/1 (658/900) d:\\A_HIT_AI\\Hackathon\\new\\Video_Phase1\\Doto_103.mp4: 384x640 15 persons, 779.8ms\n"
          ]
        },
        {
          "name": "stdout",
          "output_type": "stream",
          "text": [
            "15\n"
          ]
        },
        {
          "name": "stderr",
          "output_type": "stream",
          "text": [
            "video 1/1 (659/900) d:\\A_HIT_AI\\Hackathon\\new\\Video_Phase1\\Doto_103.mp4: 384x640 16 persons, 753.1ms\n"
          ]
        },
        {
          "name": "stdout",
          "output_type": "stream",
          "text": [
            "16\n"
          ]
        },
        {
          "name": "stderr",
          "output_type": "stream",
          "text": [
            "video 1/1 (660/900) d:\\A_HIT_AI\\Hackathon\\new\\Video_Phase1\\Doto_103.mp4: 384x640 13 persons, 855.0ms\n"
          ]
        },
        {
          "name": "stdout",
          "output_type": "stream",
          "text": [
            "13\n"
          ]
        },
        {
          "name": "stderr",
          "output_type": "stream",
          "text": [
            "video 1/1 (661/900) d:\\A_HIT_AI\\Hackathon\\new\\Video_Phase1\\Doto_103.mp4: 384x640 10 persons, 760.8ms\n"
          ]
        },
        {
          "name": "stdout",
          "output_type": "stream",
          "text": [
            "10\n"
          ]
        },
        {
          "name": "stderr",
          "output_type": "stream",
          "text": [
            "video 1/1 (662/900) d:\\A_HIT_AI\\Hackathon\\new\\Video_Phase1\\Doto_103.mp4: 384x640 11 persons, 761.9ms\n"
          ]
        },
        {
          "name": "stdout",
          "output_type": "stream",
          "text": [
            "11\n"
          ]
        },
        {
          "name": "stderr",
          "output_type": "stream",
          "text": [
            "video 1/1 (663/900) d:\\A_HIT_AI\\Hackathon\\new\\Video_Phase1\\Doto_103.mp4: 384x640 12 persons, 922.0ms\n"
          ]
        },
        {
          "name": "stdout",
          "output_type": "stream",
          "text": [
            "12\n"
          ]
        },
        {
          "name": "stderr",
          "output_type": "stream",
          "text": [
            "video 1/1 (664/900) d:\\A_HIT_AI\\Hackathon\\new\\Video_Phase1\\Doto_103.mp4: 384x640 13 persons, 779.6ms\n"
          ]
        },
        {
          "name": "stdout",
          "output_type": "stream",
          "text": [
            "13\n"
          ]
        },
        {
          "name": "stderr",
          "output_type": "stream",
          "text": [
            "video 1/1 (665/900) d:\\A_HIT_AI\\Hackathon\\new\\Video_Phase1\\Doto_103.mp4: 384x640 14 persons, 788.8ms\n"
          ]
        },
        {
          "name": "stdout",
          "output_type": "stream",
          "text": [
            "14\n"
          ]
        },
        {
          "name": "stderr",
          "output_type": "stream",
          "text": [
            "video 1/1 (666/900) d:\\A_HIT_AI\\Hackathon\\new\\Video_Phase1\\Doto_103.mp4: 384x640 14 persons, 1238.5ms\n"
          ]
        },
        {
          "name": "stdout",
          "output_type": "stream",
          "text": [
            "14\n"
          ]
        },
        {
          "name": "stderr",
          "output_type": "stream",
          "text": [
            "video 1/1 (667/900) d:\\A_HIT_AI\\Hackathon\\new\\Video_Phase1\\Doto_103.mp4: 384x640 16 persons, 831.6ms\n"
          ]
        },
        {
          "name": "stdout",
          "output_type": "stream",
          "text": [
            "16\n"
          ]
        },
        {
          "name": "stderr",
          "output_type": "stream",
          "text": [
            "video 1/1 (668/900) d:\\A_HIT_AI\\Hackathon\\new\\Video_Phase1\\Doto_103.mp4: 384x640 16 persons, 797.6ms\n"
          ]
        },
        {
          "name": "stdout",
          "output_type": "stream",
          "text": [
            "16\n"
          ]
        },
        {
          "name": "stderr",
          "output_type": "stream",
          "text": [
            "video 1/1 (669/900) d:\\A_HIT_AI\\Hackathon\\new\\Video_Phase1\\Doto_103.mp4: 384x640 16 persons, 848.7ms\n"
          ]
        },
        {
          "name": "stdout",
          "output_type": "stream",
          "text": [
            "16\n"
          ]
        },
        {
          "name": "stderr",
          "output_type": "stream",
          "text": [
            "video 1/1 (670/900) d:\\A_HIT_AI\\Hackathon\\new\\Video_Phase1\\Doto_103.mp4: 384x640 16 persons, 1141.9ms\n"
          ]
        },
        {
          "name": "stdout",
          "output_type": "stream",
          "text": [
            "16\n"
          ]
        },
        {
          "name": "stderr",
          "output_type": "stream",
          "text": [
            "video 1/1 (671/900) d:\\A_HIT_AI\\Hackathon\\new\\Video_Phase1\\Doto_103.mp4: 384x640 15 persons, 1397.3ms\n"
          ]
        },
        {
          "name": "stdout",
          "output_type": "stream",
          "text": [
            "15\n"
          ]
        },
        {
          "name": "stderr",
          "output_type": "stream",
          "text": [
            "video 1/1 (672/900) d:\\A_HIT_AI\\Hackathon\\new\\Video_Phase1\\Doto_103.mp4: 384x640 15 persons, 1094.6ms\n"
          ]
        },
        {
          "name": "stdout",
          "output_type": "stream",
          "text": [
            "15\n"
          ]
        },
        {
          "name": "stderr",
          "output_type": "stream",
          "text": [
            "video 1/1 (673/900) d:\\A_HIT_AI\\Hackathon\\new\\Video_Phase1\\Doto_103.mp4: 384x640 13 persons, 1002.8ms\n"
          ]
        },
        {
          "name": "stdout",
          "output_type": "stream",
          "text": [
            "13\n"
          ]
        },
        {
          "name": "stderr",
          "output_type": "stream",
          "text": [
            "video 1/1 (674/900) d:\\A_HIT_AI\\Hackathon\\new\\Video_Phase1\\Doto_103.mp4: 384x640 14 persons, 999.7ms\n"
          ]
        },
        {
          "name": "stdout",
          "output_type": "stream",
          "text": [
            "14\n"
          ]
        },
        {
          "name": "stderr",
          "output_type": "stream",
          "text": [
            "video 1/1 (675/900) d:\\A_HIT_AI\\Hackathon\\new\\Video_Phase1\\Doto_103.mp4: 384x640 15 persons, 890.9ms\n"
          ]
        },
        {
          "name": "stdout",
          "output_type": "stream",
          "text": [
            "15\n"
          ]
        },
        {
          "name": "stderr",
          "output_type": "stream",
          "text": [
            "video 1/1 (676/900) d:\\A_HIT_AI\\Hackathon\\new\\Video_Phase1\\Doto_103.mp4: 384x640 14 persons, 1020.2ms\n"
          ]
        },
        {
          "name": "stdout",
          "output_type": "stream",
          "text": [
            "14\n"
          ]
        },
        {
          "name": "stderr",
          "output_type": "stream",
          "text": [
            "video 1/1 (677/900) d:\\A_HIT_AI\\Hackathon\\new\\Video_Phase1\\Doto_103.mp4: 384x640 14 persons, 1022.1ms\n"
          ]
        },
        {
          "name": "stdout",
          "output_type": "stream",
          "text": [
            "14\n"
          ]
        },
        {
          "name": "stderr",
          "output_type": "stream",
          "text": [
            "video 1/1 (678/900) d:\\A_HIT_AI\\Hackathon\\new\\Video_Phase1\\Doto_103.mp4: 384x640 14 persons, 1181.3ms\n"
          ]
        },
        {
          "name": "stdout",
          "output_type": "stream",
          "text": [
            "14\n"
          ]
        },
        {
          "name": "stderr",
          "output_type": "stream",
          "text": [
            "video 1/1 (679/900) d:\\A_HIT_AI\\Hackathon\\new\\Video_Phase1\\Doto_103.mp4: 384x640 15 persons, 1096.8ms\n"
          ]
        },
        {
          "name": "stdout",
          "output_type": "stream",
          "text": [
            "15\n"
          ]
        },
        {
          "name": "stderr",
          "output_type": "stream",
          "text": [
            "video 1/1 (680/900) d:\\A_HIT_AI\\Hackathon\\new\\Video_Phase1\\Doto_103.mp4: 384x640 15 persons, 1237.1ms\n"
          ]
        },
        {
          "name": "stdout",
          "output_type": "stream",
          "text": [
            "15\n"
          ]
        },
        {
          "name": "stderr",
          "output_type": "stream",
          "text": [
            "video 1/1 (681/900) d:\\A_HIT_AI\\Hackathon\\new\\Video_Phase1\\Doto_103.mp4: 384x640 14 persons, 902.0ms\n"
          ]
        },
        {
          "name": "stdout",
          "output_type": "stream",
          "text": [
            "14\n"
          ]
        },
        {
          "name": "stderr",
          "output_type": "stream",
          "text": [
            "video 1/1 (682/900) d:\\A_HIT_AI\\Hackathon\\new\\Video_Phase1\\Doto_103.mp4: 384x640 15 persons, 1080.9ms\n"
          ]
        },
        {
          "name": "stdout",
          "output_type": "stream",
          "text": [
            "15\n"
          ]
        },
        {
          "name": "stderr",
          "output_type": "stream",
          "text": [
            "video 1/1 (683/900) d:\\A_HIT_AI\\Hackathon\\new\\Video_Phase1\\Doto_103.mp4: 384x640 15 persons, 1068.0ms\n"
          ]
        },
        {
          "name": "stdout",
          "output_type": "stream",
          "text": [
            "15\n"
          ]
        },
        {
          "name": "stderr",
          "output_type": "stream",
          "text": [
            "video 1/1 (684/900) d:\\A_HIT_AI\\Hackathon\\new\\Video_Phase1\\Doto_103.mp4: 384x640 14 persons, 1012.8ms\n"
          ]
        },
        {
          "name": "stdout",
          "output_type": "stream",
          "text": [
            "14\n"
          ]
        },
        {
          "name": "stderr",
          "output_type": "stream",
          "text": [
            "video 1/1 (685/900) d:\\A_HIT_AI\\Hackathon\\new\\Video_Phase1\\Doto_103.mp4: 384x640 13 persons, 857.8ms\n"
          ]
        },
        {
          "name": "stdout",
          "output_type": "stream",
          "text": [
            "13\n"
          ]
        },
        {
          "name": "stderr",
          "output_type": "stream",
          "text": [
            "video 1/1 (686/900) d:\\A_HIT_AI\\Hackathon\\new\\Video_Phase1\\Doto_103.mp4: 384x640 14 persons, 890.1ms\n"
          ]
        },
        {
          "name": "stdout",
          "output_type": "stream",
          "text": [
            "14\n"
          ]
        },
        {
          "name": "stderr",
          "output_type": "stream",
          "text": [
            "video 1/1 (687/900) d:\\A_HIT_AI\\Hackathon\\new\\Video_Phase1\\Doto_103.mp4: 384x640 14 persons, 807.5ms\n"
          ]
        },
        {
          "name": "stdout",
          "output_type": "stream",
          "text": [
            "14\n"
          ]
        },
        {
          "name": "stderr",
          "output_type": "stream",
          "text": [
            "video 1/1 (688/900) d:\\A_HIT_AI\\Hackathon\\new\\Video_Phase1\\Doto_103.mp4: 384x640 15 persons, 932.5ms\n"
          ]
        },
        {
          "name": "stdout",
          "output_type": "stream",
          "text": [
            "15\n"
          ]
        },
        {
          "name": "stderr",
          "output_type": "stream",
          "text": [
            "video 1/1 (689/900) d:\\A_HIT_AI\\Hackathon\\new\\Video_Phase1\\Doto_103.mp4: 384x640 15 persons, 1027.6ms\n"
          ]
        },
        {
          "name": "stdout",
          "output_type": "stream",
          "text": [
            "15\n"
          ]
        },
        {
          "name": "stderr",
          "output_type": "stream",
          "text": [
            "video 1/1 (690/900) d:\\A_HIT_AI\\Hackathon\\new\\Video_Phase1\\Doto_103.mp4: 384x640 15 persons, 1066.5ms\n"
          ]
        },
        {
          "name": "stdout",
          "output_type": "stream",
          "text": [
            "15\n"
          ]
        },
        {
          "name": "stderr",
          "output_type": "stream",
          "text": [
            "video 1/1 (691/900) d:\\A_HIT_AI\\Hackathon\\new\\Video_Phase1\\Doto_103.mp4: 384x640 15 persons, 788.9ms\n"
          ]
        },
        {
          "name": "stdout",
          "output_type": "stream",
          "text": [
            "15\n"
          ]
        },
        {
          "name": "stderr",
          "output_type": "stream",
          "text": [
            "video 1/1 (692/900) d:\\A_HIT_AI\\Hackathon\\new\\Video_Phase1\\Doto_103.mp4: 384x640 14 persons, 777.1ms\n"
          ]
        },
        {
          "name": "stdout",
          "output_type": "stream",
          "text": [
            "14\n"
          ]
        },
        {
          "name": "stderr",
          "output_type": "stream",
          "text": [
            "video 1/1 (693/900) d:\\A_HIT_AI\\Hackathon\\new\\Video_Phase1\\Doto_103.mp4: 384x640 15 persons, 790.6ms\n"
          ]
        },
        {
          "name": "stdout",
          "output_type": "stream",
          "text": [
            "15\n"
          ]
        },
        {
          "name": "stderr",
          "output_type": "stream",
          "text": [
            "video 1/1 (694/900) d:\\A_HIT_AI\\Hackathon\\new\\Video_Phase1\\Doto_103.mp4: 384x640 14 persons, 785.6ms\n"
          ]
        },
        {
          "name": "stdout",
          "output_type": "stream",
          "text": [
            "14\n"
          ]
        },
        {
          "name": "stderr",
          "output_type": "stream",
          "text": [
            "video 1/1 (695/900) d:\\A_HIT_AI\\Hackathon\\new\\Video_Phase1\\Doto_103.mp4: 384x640 13 persons, 871.4ms\n"
          ]
        },
        {
          "name": "stdout",
          "output_type": "stream",
          "text": [
            "13\n"
          ]
        },
        {
          "name": "stderr",
          "output_type": "stream",
          "text": [
            "video 1/1 (696/900) d:\\A_HIT_AI\\Hackathon\\new\\Video_Phase1\\Doto_103.mp4: 384x640 14 persons, 815.1ms\n"
          ]
        },
        {
          "name": "stdout",
          "output_type": "stream",
          "text": [
            "14\n"
          ]
        },
        {
          "name": "stderr",
          "output_type": "stream",
          "text": [
            "video 1/1 (697/900) d:\\A_HIT_AI\\Hackathon\\new\\Video_Phase1\\Doto_103.mp4: 384x640 12 persons, 835.2ms\n"
          ]
        },
        {
          "name": "stdout",
          "output_type": "stream",
          "text": [
            "12\n"
          ]
        },
        {
          "name": "stderr",
          "output_type": "stream",
          "text": [
            "video 1/1 (698/900) d:\\A_HIT_AI\\Hackathon\\new\\Video_Phase1\\Doto_103.mp4: 384x640 13 persons, 904.5ms\n"
          ]
        },
        {
          "name": "stdout",
          "output_type": "stream",
          "text": [
            "13\n"
          ]
        },
        {
          "name": "stderr",
          "output_type": "stream",
          "text": [
            "video 1/1 (699/900) d:\\A_HIT_AI\\Hackathon\\new\\Video_Phase1\\Doto_103.mp4: 384x640 13 persons, 841.4ms\n"
          ]
        },
        {
          "name": "stdout",
          "output_type": "stream",
          "text": [
            "13\n"
          ]
        },
        {
          "name": "stderr",
          "output_type": "stream",
          "text": [
            "video 1/1 (700/900) d:\\A_HIT_AI\\Hackathon\\new\\Video_Phase1\\Doto_103.mp4: 384x640 13 persons, 819.2ms\n"
          ]
        },
        {
          "name": "stdout",
          "output_type": "stream",
          "text": [
            "13\n"
          ]
        },
        {
          "name": "stderr",
          "output_type": "stream",
          "text": [
            "video 1/1 (701/900) d:\\A_HIT_AI\\Hackathon\\new\\Video_Phase1\\Doto_103.mp4: 384x640 13 persons, 1052.7ms\n"
          ]
        },
        {
          "name": "stdout",
          "output_type": "stream",
          "text": [
            "13\n"
          ]
        },
        {
          "name": "stderr",
          "output_type": "stream",
          "text": [
            "video 1/1 (702/900) d:\\A_HIT_AI\\Hackathon\\new\\Video_Phase1\\Doto_103.mp4: 384x640 14 persons, 908.3ms\n"
          ]
        },
        {
          "name": "stdout",
          "output_type": "stream",
          "text": [
            "14\n"
          ]
        },
        {
          "name": "stderr",
          "output_type": "stream",
          "text": [
            "video 1/1 (703/900) d:\\A_HIT_AI\\Hackathon\\new\\Video_Phase1\\Doto_103.mp4: 384x640 14 persons, 961.6ms\n"
          ]
        },
        {
          "name": "stdout",
          "output_type": "stream",
          "text": [
            "14\n"
          ]
        },
        {
          "name": "stderr",
          "output_type": "stream",
          "text": [
            "video 1/1 (704/900) d:\\A_HIT_AI\\Hackathon\\new\\Video_Phase1\\Doto_103.mp4: 384x640 13 persons, 853.9ms\n"
          ]
        },
        {
          "name": "stdout",
          "output_type": "stream",
          "text": [
            "13\n"
          ]
        },
        {
          "name": "stderr",
          "output_type": "stream",
          "text": [
            "video 1/1 (705/900) d:\\A_HIT_AI\\Hackathon\\new\\Video_Phase1\\Doto_103.mp4: 384x640 12 persons, 809.0ms\n"
          ]
        },
        {
          "name": "stdout",
          "output_type": "stream",
          "text": [
            "12\n"
          ]
        },
        {
          "name": "stderr",
          "output_type": "stream",
          "text": [
            "video 1/1 (706/900) d:\\A_HIT_AI\\Hackathon\\new\\Video_Phase1\\Doto_103.mp4: 384x640 13 persons, 889.2ms\n"
          ]
        },
        {
          "name": "stdout",
          "output_type": "stream",
          "text": [
            "13\n"
          ]
        },
        {
          "name": "stderr",
          "output_type": "stream",
          "text": [
            "video 1/1 (707/900) d:\\A_HIT_AI\\Hackathon\\new\\Video_Phase1\\Doto_103.mp4: 384x640 14 persons, 1108.9ms\n"
          ]
        },
        {
          "name": "stdout",
          "output_type": "stream",
          "text": [
            "14\n"
          ]
        },
        {
          "name": "stderr",
          "output_type": "stream",
          "text": [
            "video 1/1 (708/900) d:\\A_HIT_AI\\Hackathon\\new\\Video_Phase1\\Doto_103.mp4: 384x640 13 persons, 957.8ms\n"
          ]
        },
        {
          "name": "stdout",
          "output_type": "stream",
          "text": [
            "13\n"
          ]
        },
        {
          "name": "stderr",
          "output_type": "stream",
          "text": [
            "video 1/1 (709/900) d:\\A_HIT_AI\\Hackathon\\new\\Video_Phase1\\Doto_103.mp4: 384x640 13 persons, 850.8ms\n"
          ]
        },
        {
          "name": "stdout",
          "output_type": "stream",
          "text": [
            "13\n"
          ]
        },
        {
          "name": "stderr",
          "output_type": "stream",
          "text": [
            "video 1/1 (710/900) d:\\A_HIT_AI\\Hackathon\\new\\Video_Phase1\\Doto_103.mp4: 384x640 13 persons, 915.6ms\n"
          ]
        },
        {
          "name": "stdout",
          "output_type": "stream",
          "text": [
            "13\n"
          ]
        },
        {
          "name": "stderr",
          "output_type": "stream",
          "text": [
            "video 1/1 (711/900) d:\\A_HIT_AI\\Hackathon\\new\\Video_Phase1\\Doto_103.mp4: 384x640 13 persons, 1164.7ms\n"
          ]
        },
        {
          "name": "stdout",
          "output_type": "stream",
          "text": [
            "13\n"
          ]
        },
        {
          "name": "stderr",
          "output_type": "stream",
          "text": [
            "video 1/1 (712/900) d:\\A_HIT_AI\\Hackathon\\new\\Video_Phase1\\Doto_103.mp4: 384x640 13 persons, 1318.0ms\n"
          ]
        },
        {
          "name": "stdout",
          "output_type": "stream",
          "text": [
            "13\n"
          ]
        },
        {
          "name": "stderr",
          "output_type": "stream",
          "text": [
            "video 1/1 (713/900) d:\\A_HIT_AI\\Hackathon\\new\\Video_Phase1\\Doto_103.mp4: 384x640 14 persons, 931.3ms\n"
          ]
        },
        {
          "name": "stdout",
          "output_type": "stream",
          "text": [
            "14\n"
          ]
        },
        {
          "name": "stderr",
          "output_type": "stream",
          "text": [
            "video 1/1 (714/900) d:\\A_HIT_AI\\Hackathon\\new\\Video_Phase1\\Doto_103.mp4: 384x640 14 persons, 1063.9ms\n"
          ]
        },
        {
          "name": "stdout",
          "output_type": "stream",
          "text": [
            "14\n"
          ]
        },
        {
          "name": "stderr",
          "output_type": "stream",
          "text": [
            "video 1/1 (715/900) d:\\A_HIT_AI\\Hackathon\\new\\Video_Phase1\\Doto_103.mp4: 384x640 15 persons, 936.1ms\n"
          ]
        },
        {
          "name": "stdout",
          "output_type": "stream",
          "text": [
            "15\n"
          ]
        },
        {
          "name": "stderr",
          "output_type": "stream",
          "text": [
            "video 1/1 (716/900) d:\\A_HIT_AI\\Hackathon\\new\\Video_Phase1\\Doto_103.mp4: 384x640 15 persons, 1069.4ms\n"
          ]
        },
        {
          "name": "stdout",
          "output_type": "stream",
          "text": [
            "15\n"
          ]
        },
        {
          "name": "stderr",
          "output_type": "stream",
          "text": [
            "video 1/1 (717/900) d:\\A_HIT_AI\\Hackathon\\new\\Video_Phase1\\Doto_103.mp4: 384x640 13 persons, 1017.4ms\n"
          ]
        },
        {
          "name": "stdout",
          "output_type": "stream",
          "text": [
            "13\n"
          ]
        },
        {
          "name": "stderr",
          "output_type": "stream",
          "text": [
            "video 1/1 (718/900) d:\\A_HIT_AI\\Hackathon\\new\\Video_Phase1\\Doto_103.mp4: 384x640 13 persons, 988.0ms\n"
          ]
        },
        {
          "name": "stdout",
          "output_type": "stream",
          "text": [
            "13\n"
          ]
        },
        {
          "name": "stderr",
          "output_type": "stream",
          "text": [
            "video 1/1 (719/900) d:\\A_HIT_AI\\Hackathon\\new\\Video_Phase1\\Doto_103.mp4: 384x640 13 persons, 1040.4ms\n"
          ]
        },
        {
          "name": "stdout",
          "output_type": "stream",
          "text": [
            "13\n"
          ]
        },
        {
          "name": "stderr",
          "output_type": "stream",
          "text": [
            "video 1/1 (720/900) d:\\A_HIT_AI\\Hackathon\\new\\Video_Phase1\\Doto_103.mp4: 384x640 14 persons, 969.3ms\n"
          ]
        },
        {
          "name": "stdout",
          "output_type": "stream",
          "text": [
            "14\n"
          ]
        },
        {
          "name": "stderr",
          "output_type": "stream",
          "text": [
            "video 1/1 (721/900) d:\\A_HIT_AI\\Hackathon\\new\\Video_Phase1\\Doto_103.mp4: 384x640 12 persons, 850.3ms\n"
          ]
        },
        {
          "name": "stdout",
          "output_type": "stream",
          "text": [
            "12\n"
          ]
        },
        {
          "name": "stderr",
          "output_type": "stream",
          "text": [
            "video 1/1 (722/900) d:\\A_HIT_AI\\Hackathon\\new\\Video_Phase1\\Doto_103.mp4: 384x640 12 persons, 778.0ms\n"
          ]
        },
        {
          "name": "stdout",
          "output_type": "stream",
          "text": [
            "12\n"
          ]
        },
        {
          "name": "stderr",
          "output_type": "stream",
          "text": [
            "video 1/1 (723/900) d:\\A_HIT_AI\\Hackathon\\new\\Video_Phase1\\Doto_103.mp4: 384x640 12 persons, 835.1ms\n"
          ]
        },
        {
          "name": "stdout",
          "output_type": "stream",
          "text": [
            "12\n"
          ]
        },
        {
          "name": "stderr",
          "output_type": "stream",
          "text": [
            "video 1/1 (724/900) d:\\A_HIT_AI\\Hackathon\\new\\Video_Phase1\\Doto_103.mp4: 384x640 12 persons, 1045.2ms\n"
          ]
        },
        {
          "name": "stdout",
          "output_type": "stream",
          "text": [
            "12\n"
          ]
        },
        {
          "name": "stderr",
          "output_type": "stream",
          "text": [
            "video 1/1 (725/900) d:\\A_HIT_AI\\Hackathon\\new\\Video_Phase1\\Doto_103.mp4: 384x640 12 persons, 843.7ms\n"
          ]
        },
        {
          "name": "stdout",
          "output_type": "stream",
          "text": [
            "12\n"
          ]
        },
        {
          "name": "stderr",
          "output_type": "stream",
          "text": [
            "video 1/1 (726/900) d:\\A_HIT_AI\\Hackathon\\new\\Video_Phase1\\Doto_103.mp4: 384x640 13 persons, 899.5ms\n"
          ]
        },
        {
          "name": "stdout",
          "output_type": "stream",
          "text": [
            "13\n"
          ]
        },
        {
          "name": "stderr",
          "output_type": "stream",
          "text": [
            "video 1/1 (727/900) d:\\A_HIT_AI\\Hackathon\\new\\Video_Phase1\\Doto_103.mp4: 384x640 13 persons, 810.6ms\n"
          ]
        },
        {
          "name": "stdout",
          "output_type": "stream",
          "text": [
            "13\n"
          ]
        },
        {
          "name": "stderr",
          "output_type": "stream",
          "text": [
            "video 1/1 (728/900) d:\\A_HIT_AI\\Hackathon\\new\\Video_Phase1\\Doto_103.mp4: 384x640 14 persons, 817.3ms\n"
          ]
        },
        {
          "name": "stdout",
          "output_type": "stream",
          "text": [
            "14\n"
          ]
        },
        {
          "name": "stderr",
          "output_type": "stream",
          "text": [
            "video 1/1 (729/900) d:\\A_HIT_AI\\Hackathon\\new\\Video_Phase1\\Doto_103.mp4: 384x640 14 persons, 782.0ms\n"
          ]
        },
        {
          "name": "stdout",
          "output_type": "stream",
          "text": [
            "14\n"
          ]
        },
        {
          "name": "stderr",
          "output_type": "stream",
          "text": [
            "video 1/1 (730/900) d:\\A_HIT_AI\\Hackathon\\new\\Video_Phase1\\Doto_103.mp4: 384x640 13 persons, 849.5ms\n"
          ]
        },
        {
          "name": "stdout",
          "output_type": "stream",
          "text": [
            "13\n"
          ]
        },
        {
          "name": "stderr",
          "output_type": "stream",
          "text": [
            "video 1/1 (731/900) d:\\A_HIT_AI\\Hackathon\\new\\Video_Phase1\\Doto_103.mp4: 384x640 12 persons, 1143.4ms\n"
          ]
        },
        {
          "name": "stdout",
          "output_type": "stream",
          "text": [
            "12\n"
          ]
        },
        {
          "name": "stderr",
          "output_type": "stream",
          "text": [
            "video 1/1 (732/900) d:\\A_HIT_AI\\Hackathon\\new\\Video_Phase1\\Doto_103.mp4: 384x640 13 persons, 918.9ms\n"
          ]
        },
        {
          "name": "stdout",
          "output_type": "stream",
          "text": [
            "13\n"
          ]
        },
        {
          "name": "stderr",
          "output_type": "stream",
          "text": [
            "video 1/1 (733/900) d:\\A_HIT_AI\\Hackathon\\new\\Video_Phase1\\Doto_103.mp4: 384x640 12 persons, 1001.9ms\n"
          ]
        },
        {
          "name": "stdout",
          "output_type": "stream",
          "text": [
            "12\n"
          ]
        },
        {
          "name": "stderr",
          "output_type": "stream",
          "text": [
            "video 1/1 (734/900) d:\\A_HIT_AI\\Hackathon\\new\\Video_Phase1\\Doto_103.mp4: 384x640 12 persons, 873.7ms\n"
          ]
        },
        {
          "name": "stdout",
          "output_type": "stream",
          "text": [
            "12\n"
          ]
        },
        {
          "name": "stderr",
          "output_type": "stream",
          "text": [
            "video 1/1 (735/900) d:\\A_HIT_AI\\Hackathon\\new\\Video_Phase1\\Doto_103.mp4: 384x640 12 persons, 980.5ms\n"
          ]
        },
        {
          "name": "stdout",
          "output_type": "stream",
          "text": [
            "12\n"
          ]
        },
        {
          "name": "stderr",
          "output_type": "stream",
          "text": [
            "video 1/1 (736/900) d:\\A_HIT_AI\\Hackathon\\new\\Video_Phase1\\Doto_103.mp4: 384x640 14 persons, 1074.8ms\n"
          ]
        },
        {
          "name": "stdout",
          "output_type": "stream",
          "text": [
            "14\n"
          ]
        },
        {
          "name": "stderr",
          "output_type": "stream",
          "text": [
            "video 1/1 (737/900) d:\\A_HIT_AI\\Hackathon\\new\\Video_Phase1\\Doto_103.mp4: 384x640 13 persons, 1109.9ms\n"
          ]
        },
        {
          "name": "stdout",
          "output_type": "stream",
          "text": [
            "13\n"
          ]
        },
        {
          "name": "stderr",
          "output_type": "stream",
          "text": [
            "video 1/1 (738/900) d:\\A_HIT_AI\\Hackathon\\new\\Video_Phase1\\Doto_103.mp4: 384x640 12 persons, 1112.0ms\n"
          ]
        },
        {
          "name": "stdout",
          "output_type": "stream",
          "text": [
            "12\n"
          ]
        },
        {
          "name": "stderr",
          "output_type": "stream",
          "text": [
            "video 1/1 (739/900) d:\\A_HIT_AI\\Hackathon\\new\\Video_Phase1\\Doto_103.mp4: 384x640 13 persons, 1105.5ms\n"
          ]
        },
        {
          "name": "stdout",
          "output_type": "stream",
          "text": [
            "13\n"
          ]
        },
        {
          "name": "stderr",
          "output_type": "stream",
          "text": [
            "video 1/1 (740/900) d:\\A_HIT_AI\\Hackathon\\new\\Video_Phase1\\Doto_103.mp4: 384x640 13 persons, 900.7ms\n"
          ]
        },
        {
          "name": "stdout",
          "output_type": "stream",
          "text": [
            "13\n"
          ]
        },
        {
          "name": "stderr",
          "output_type": "stream",
          "text": [
            "video 1/1 (741/900) d:\\A_HIT_AI\\Hackathon\\new\\Video_Phase1\\Doto_103.mp4: 384x640 13 persons, 825.4ms\n"
          ]
        },
        {
          "name": "stdout",
          "output_type": "stream",
          "text": [
            "13\n"
          ]
        },
        {
          "name": "stderr",
          "output_type": "stream",
          "text": [
            "video 1/1 (742/900) d:\\A_HIT_AI\\Hackathon\\new\\Video_Phase1\\Doto_103.mp4: 384x640 12 persons, 879.2ms\n"
          ]
        },
        {
          "name": "stdout",
          "output_type": "stream",
          "text": [
            "12\n"
          ]
        },
        {
          "name": "stderr",
          "output_type": "stream",
          "text": [
            "video 1/1 (743/900) d:\\A_HIT_AI\\Hackathon\\new\\Video_Phase1\\Doto_103.mp4: 384x640 13 persons, 907.8ms\n"
          ]
        },
        {
          "name": "stdout",
          "output_type": "stream",
          "text": [
            "13\n"
          ]
        },
        {
          "name": "stderr",
          "output_type": "stream",
          "text": [
            "video 1/1 (744/900) d:\\A_HIT_AI\\Hackathon\\new\\Video_Phase1\\Doto_103.mp4: 384x640 14 persons, 832.3ms\n"
          ]
        },
        {
          "name": "stdout",
          "output_type": "stream",
          "text": [
            "14\n"
          ]
        },
        {
          "name": "stderr",
          "output_type": "stream",
          "text": [
            "video 1/1 (745/900) d:\\A_HIT_AI\\Hackathon\\new\\Video_Phase1\\Doto_103.mp4: 384x640 12 persons, 824.3ms\n"
          ]
        },
        {
          "name": "stdout",
          "output_type": "stream",
          "text": [
            "12\n"
          ]
        },
        {
          "name": "stderr",
          "output_type": "stream",
          "text": [
            "video 1/1 (746/900) d:\\A_HIT_AI\\Hackathon\\new\\Video_Phase1\\Doto_103.mp4: 384x640 12 persons, 779.9ms\n"
          ]
        },
        {
          "name": "stdout",
          "output_type": "stream",
          "text": [
            "12\n"
          ]
        },
        {
          "name": "stderr",
          "output_type": "stream",
          "text": [
            "video 1/1 (747/900) d:\\A_HIT_AI\\Hackathon\\new\\Video_Phase1\\Doto_103.mp4: 384x640 12 persons, 832.1ms\n"
          ]
        },
        {
          "name": "stdout",
          "output_type": "stream",
          "text": [
            "12\n"
          ]
        },
        {
          "name": "stderr",
          "output_type": "stream",
          "text": [
            "video 1/1 (748/900) d:\\A_HIT_AI\\Hackathon\\new\\Video_Phase1\\Doto_103.mp4: 384x640 13 persons, 813.6ms\n"
          ]
        },
        {
          "name": "stdout",
          "output_type": "stream",
          "text": [
            "13\n"
          ]
        },
        {
          "name": "stderr",
          "output_type": "stream",
          "text": [
            "video 1/1 (749/900) d:\\A_HIT_AI\\Hackathon\\new\\Video_Phase1\\Doto_103.mp4: 384x640 13 persons, 762.1ms\n"
          ]
        },
        {
          "name": "stdout",
          "output_type": "stream",
          "text": [
            "13\n"
          ]
        },
        {
          "name": "stderr",
          "output_type": "stream",
          "text": [
            "video 1/1 (750/900) d:\\A_HIT_AI\\Hackathon\\new\\Video_Phase1\\Doto_103.mp4: 384x640 13 persons, 769.7ms\n"
          ]
        },
        {
          "name": "stdout",
          "output_type": "stream",
          "text": [
            "13\n"
          ]
        },
        {
          "name": "stderr",
          "output_type": "stream",
          "text": [
            "video 1/1 (751/900) d:\\A_HIT_AI\\Hackathon\\new\\Video_Phase1\\Doto_103.mp4: 384x640 12 persons, 752.1ms\n"
          ]
        },
        {
          "name": "stdout",
          "output_type": "stream",
          "text": [
            "12\n"
          ]
        },
        {
          "name": "stderr",
          "output_type": "stream",
          "text": [
            "video 1/1 (752/900) d:\\A_HIT_AI\\Hackathon\\new\\Video_Phase1\\Doto_103.mp4: 384x640 14 persons, 761.7ms\n"
          ]
        },
        {
          "name": "stdout",
          "output_type": "stream",
          "text": [
            "14\n"
          ]
        },
        {
          "name": "stderr",
          "output_type": "stream",
          "text": [
            "video 1/1 (753/900) d:\\A_HIT_AI\\Hackathon\\new\\Video_Phase1\\Doto_103.mp4: 384x640 14 persons, 825.8ms\n"
          ]
        },
        {
          "name": "stdout",
          "output_type": "stream",
          "text": [
            "14\n"
          ]
        },
        {
          "name": "stderr",
          "output_type": "stream",
          "text": [
            "video 1/1 (754/900) d:\\A_HIT_AI\\Hackathon\\new\\Video_Phase1\\Doto_103.mp4: 384x640 13 persons, 786.7ms\n"
          ]
        },
        {
          "name": "stdout",
          "output_type": "stream",
          "text": [
            "13\n"
          ]
        },
        {
          "name": "stderr",
          "output_type": "stream",
          "text": [
            "video 1/1 (755/900) d:\\A_HIT_AI\\Hackathon\\new\\Video_Phase1\\Doto_103.mp4: 384x640 12 persons, 794.7ms\n"
          ]
        },
        {
          "name": "stdout",
          "output_type": "stream",
          "text": [
            "12\n"
          ]
        },
        {
          "name": "stderr",
          "output_type": "stream",
          "text": [
            "video 1/1 (756/900) d:\\A_HIT_AI\\Hackathon\\new\\Video_Phase1\\Doto_103.mp4: 384x640 12 persons, 923.6ms\n"
          ]
        },
        {
          "name": "stdout",
          "output_type": "stream",
          "text": [
            "12\n"
          ]
        },
        {
          "name": "stderr",
          "output_type": "stream",
          "text": [
            "video 1/1 (757/900) d:\\A_HIT_AI\\Hackathon\\new\\Video_Phase1\\Doto_103.mp4: 384x640 10 persons, 873.2ms\n"
          ]
        },
        {
          "name": "stdout",
          "output_type": "stream",
          "text": [
            "10\n"
          ]
        },
        {
          "name": "stderr",
          "output_type": "stream",
          "text": [
            "video 1/1 (758/900) d:\\A_HIT_AI\\Hackathon\\new\\Video_Phase1\\Doto_103.mp4: 384x640 10 persons, 888.6ms\n"
          ]
        },
        {
          "name": "stdout",
          "output_type": "stream",
          "text": [
            "10\n"
          ]
        },
        {
          "name": "stderr",
          "output_type": "stream",
          "text": [
            "video 1/1 (759/900) d:\\A_HIT_AI\\Hackathon\\new\\Video_Phase1\\Doto_103.mp4: 384x640 10 persons, 840.4ms\n"
          ]
        },
        {
          "name": "stdout",
          "output_type": "stream",
          "text": [
            "10\n"
          ]
        },
        {
          "name": "stderr",
          "output_type": "stream",
          "text": [
            "video 1/1 (760/900) d:\\A_HIT_AI\\Hackathon\\new\\Video_Phase1\\Doto_103.mp4: 384x640 8 persons, 817.3ms\n"
          ]
        },
        {
          "name": "stdout",
          "output_type": "stream",
          "text": [
            "8\n"
          ]
        },
        {
          "name": "stderr",
          "output_type": "stream",
          "text": [
            "video 1/1 (761/900) d:\\A_HIT_AI\\Hackathon\\new\\Video_Phase1\\Doto_103.mp4: 384x640 10 persons, 814.4ms\n"
          ]
        },
        {
          "name": "stdout",
          "output_type": "stream",
          "text": [
            "10\n"
          ]
        },
        {
          "name": "stderr",
          "output_type": "stream",
          "text": [
            "video 1/1 (762/900) d:\\A_HIT_AI\\Hackathon\\new\\Video_Phase1\\Doto_103.mp4: 384x640 10 persons, 833.4ms\n"
          ]
        },
        {
          "name": "stdout",
          "output_type": "stream",
          "text": [
            "10\n"
          ]
        },
        {
          "name": "stderr",
          "output_type": "stream",
          "text": [
            "video 1/1 (763/900) d:\\A_HIT_AI\\Hackathon\\new\\Video_Phase1\\Doto_103.mp4: 384x640 9 persons, 848.5ms\n"
          ]
        },
        {
          "name": "stdout",
          "output_type": "stream",
          "text": [
            "9\n"
          ]
        },
        {
          "name": "stderr",
          "output_type": "stream",
          "text": [
            "video 1/1 (764/900) d:\\A_HIT_AI\\Hackathon\\new\\Video_Phase1\\Doto_103.mp4: 384x640 9 persons, 833.3ms\n"
          ]
        },
        {
          "name": "stdout",
          "output_type": "stream",
          "text": [
            "9\n"
          ]
        },
        {
          "name": "stderr",
          "output_type": "stream",
          "text": [
            "video 1/1 (765/900) d:\\A_HIT_AI\\Hackathon\\new\\Video_Phase1\\Doto_103.mp4: 384x640 9 persons, 810.9ms\n"
          ]
        },
        {
          "name": "stdout",
          "output_type": "stream",
          "text": [
            "9\n"
          ]
        },
        {
          "name": "stderr",
          "output_type": "stream",
          "text": [
            "video 1/1 (766/900) d:\\A_HIT_AI\\Hackathon\\new\\Video_Phase1\\Doto_103.mp4: 384x640 9 persons, 869.1ms\n"
          ]
        },
        {
          "name": "stdout",
          "output_type": "stream",
          "text": [
            "9\n"
          ]
        },
        {
          "name": "stderr",
          "output_type": "stream",
          "text": [
            "video 1/1 (767/900) d:\\A_HIT_AI\\Hackathon\\new\\Video_Phase1\\Doto_103.mp4: 384x640 8 persons, 811.1ms\n"
          ]
        },
        {
          "name": "stdout",
          "output_type": "stream",
          "text": [
            "8\n"
          ]
        },
        {
          "name": "stderr",
          "output_type": "stream",
          "text": [
            "video 1/1 (768/900) d:\\A_HIT_AI\\Hackathon\\new\\Video_Phase1\\Doto_103.mp4: 384x640 9 persons, 858.0ms\n"
          ]
        },
        {
          "name": "stdout",
          "output_type": "stream",
          "text": [
            "9\n"
          ]
        },
        {
          "name": "stderr",
          "output_type": "stream",
          "text": [
            "video 1/1 (769/900) d:\\A_HIT_AI\\Hackathon\\new\\Video_Phase1\\Doto_103.mp4: 384x640 10 persons, 780.4ms\n"
          ]
        },
        {
          "name": "stdout",
          "output_type": "stream",
          "text": [
            "10\n"
          ]
        },
        {
          "name": "stderr",
          "output_type": "stream",
          "text": [
            "video 1/1 (770/900) d:\\A_HIT_AI\\Hackathon\\new\\Video_Phase1\\Doto_103.mp4: 384x640 10 persons, 779.0ms\n"
          ]
        },
        {
          "name": "stdout",
          "output_type": "stream",
          "text": [
            "10\n"
          ]
        },
        {
          "name": "stderr",
          "output_type": "stream",
          "text": [
            "video 1/1 (771/900) d:\\A_HIT_AI\\Hackathon\\new\\Video_Phase1\\Doto_103.mp4: 384x640 10 persons, 780.2ms\n"
          ]
        },
        {
          "name": "stdout",
          "output_type": "stream",
          "text": [
            "10\n"
          ]
        },
        {
          "name": "stderr",
          "output_type": "stream",
          "text": [
            "video 1/1 (772/900) d:\\A_HIT_AI\\Hackathon\\new\\Video_Phase1\\Doto_103.mp4: 384x640 11 persons, 820.7ms\n"
          ]
        },
        {
          "name": "stdout",
          "output_type": "stream",
          "text": [
            "11\n"
          ]
        },
        {
          "name": "stderr",
          "output_type": "stream",
          "text": [
            "video 1/1 (773/900) d:\\A_HIT_AI\\Hackathon\\new\\Video_Phase1\\Doto_103.mp4: 384x640 13 persons, 836.0ms\n"
          ]
        },
        {
          "name": "stdout",
          "output_type": "stream",
          "text": [
            "13\n"
          ]
        },
        {
          "name": "stderr",
          "output_type": "stream",
          "text": [
            "video 1/1 (774/900) d:\\A_HIT_AI\\Hackathon\\new\\Video_Phase1\\Doto_103.mp4: 384x640 13 persons, 764.2ms\n"
          ]
        },
        {
          "name": "stdout",
          "output_type": "stream",
          "text": [
            "13\n"
          ]
        },
        {
          "name": "stderr",
          "output_type": "stream",
          "text": [
            "video 1/1 (775/900) d:\\A_HIT_AI\\Hackathon\\new\\Video_Phase1\\Doto_103.mp4: 384x640 13 persons, 763.8ms\n"
          ]
        },
        {
          "name": "stdout",
          "output_type": "stream",
          "text": [
            "13\n"
          ]
        },
        {
          "name": "stderr",
          "output_type": "stream",
          "text": [
            "video 1/1 (776/900) d:\\A_HIT_AI\\Hackathon\\new\\Video_Phase1\\Doto_103.mp4: 384x640 14 persons, 813.0ms\n"
          ]
        },
        {
          "name": "stdout",
          "output_type": "stream",
          "text": [
            "14\n"
          ]
        },
        {
          "name": "stderr",
          "output_type": "stream",
          "text": [
            "video 1/1 (777/900) d:\\A_HIT_AI\\Hackathon\\new\\Video_Phase1\\Doto_103.mp4: 384x640 14 persons, 801.4ms\n"
          ]
        },
        {
          "name": "stdout",
          "output_type": "stream",
          "text": [
            "14\n"
          ]
        },
        {
          "name": "stderr",
          "output_type": "stream",
          "text": [
            "video 1/1 (778/900) d:\\A_HIT_AI\\Hackathon\\new\\Video_Phase1\\Doto_103.mp4: 384x640 14 persons, 752.2ms\n"
          ]
        },
        {
          "name": "stdout",
          "output_type": "stream",
          "text": [
            "14\n"
          ]
        },
        {
          "name": "stderr",
          "output_type": "stream",
          "text": [
            "video 1/1 (779/900) d:\\A_HIT_AI\\Hackathon\\new\\Video_Phase1\\Doto_103.mp4: 384x640 13 persons, 771.3ms\n"
          ]
        },
        {
          "name": "stdout",
          "output_type": "stream",
          "text": [
            "13\n"
          ]
        },
        {
          "name": "stderr",
          "output_type": "stream",
          "text": [
            "video 1/1 (780/900) d:\\A_HIT_AI\\Hackathon\\new\\Video_Phase1\\Doto_103.mp4: 384x640 13 persons, 758.2ms\n"
          ]
        },
        {
          "name": "stdout",
          "output_type": "stream",
          "text": [
            "13\n"
          ]
        },
        {
          "name": "stderr",
          "output_type": "stream",
          "text": [
            "video 1/1 (781/900) d:\\A_HIT_AI\\Hackathon\\new\\Video_Phase1\\Doto_103.mp4: 384x640 13 persons, 787.1ms\n"
          ]
        },
        {
          "name": "stdout",
          "output_type": "stream",
          "text": [
            "13\n"
          ]
        },
        {
          "name": "stderr",
          "output_type": "stream",
          "text": [
            "video 1/1 (782/900) d:\\A_HIT_AI\\Hackathon\\new\\Video_Phase1\\Doto_103.mp4: 384x640 13 persons, 750.1ms\n"
          ]
        },
        {
          "name": "stdout",
          "output_type": "stream",
          "text": [
            "13\n"
          ]
        },
        {
          "name": "stderr",
          "output_type": "stream",
          "text": [
            "video 1/1 (783/900) d:\\A_HIT_AI\\Hackathon\\new\\Video_Phase1\\Doto_103.mp4: 384x640 13 persons, 765.6ms\n"
          ]
        },
        {
          "name": "stdout",
          "output_type": "stream",
          "text": [
            "13\n"
          ]
        },
        {
          "name": "stderr",
          "output_type": "stream",
          "text": [
            "video 1/1 (784/900) d:\\A_HIT_AI\\Hackathon\\new\\Video_Phase1\\Doto_103.mp4: 384x640 13 persons, 766.7ms\n"
          ]
        },
        {
          "name": "stdout",
          "output_type": "stream",
          "text": [
            "13\n"
          ]
        },
        {
          "name": "stderr",
          "output_type": "stream",
          "text": [
            "video 1/1 (785/900) d:\\A_HIT_AI\\Hackathon\\new\\Video_Phase1\\Doto_103.mp4: 384x640 13 persons, 760.4ms\n"
          ]
        },
        {
          "name": "stdout",
          "output_type": "stream",
          "text": [
            "13\n"
          ]
        },
        {
          "name": "stderr",
          "output_type": "stream",
          "text": [
            "video 1/1 (786/900) d:\\A_HIT_AI\\Hackathon\\new\\Video_Phase1\\Doto_103.mp4: 384x640 14 persons, 805.0ms\n"
          ]
        },
        {
          "name": "stdout",
          "output_type": "stream",
          "text": [
            "14\n"
          ]
        },
        {
          "name": "stderr",
          "output_type": "stream",
          "text": [
            "video 1/1 (787/900) d:\\A_HIT_AI\\Hackathon\\new\\Video_Phase1\\Doto_103.mp4: 384x640 14 persons, 761.6ms\n"
          ]
        },
        {
          "name": "stdout",
          "output_type": "stream",
          "text": [
            "14\n"
          ]
        },
        {
          "name": "stderr",
          "output_type": "stream",
          "text": [
            "video 1/1 (788/900) d:\\A_HIT_AI\\Hackathon\\new\\Video_Phase1\\Doto_103.mp4: 384x640 13 persons, 897.7ms\n"
          ]
        },
        {
          "name": "stdout",
          "output_type": "stream",
          "text": [
            "13\n"
          ]
        },
        {
          "name": "stderr",
          "output_type": "stream",
          "text": [
            "video 1/1 (789/900) d:\\A_HIT_AI\\Hackathon\\new\\Video_Phase1\\Doto_103.mp4: 384x640 13 persons, 1031.2ms\n"
          ]
        },
        {
          "name": "stdout",
          "output_type": "stream",
          "text": [
            "13\n"
          ]
        },
        {
          "name": "stderr",
          "output_type": "stream",
          "text": [
            "video 1/1 (790/900) d:\\A_HIT_AI\\Hackathon\\new\\Video_Phase1\\Doto_103.mp4: 384x640 13 persons, 795.6ms\n"
          ]
        },
        {
          "name": "stdout",
          "output_type": "stream",
          "text": [
            "13\n"
          ]
        },
        {
          "name": "stderr",
          "output_type": "stream",
          "text": [
            "video 1/1 (791/900) d:\\A_HIT_AI\\Hackathon\\new\\Video_Phase1\\Doto_103.mp4: 384x640 13 persons, 816.3ms\n"
          ]
        },
        {
          "name": "stdout",
          "output_type": "stream",
          "text": [
            "13\n"
          ]
        },
        {
          "name": "stderr",
          "output_type": "stream",
          "text": [
            "video 1/1 (792/900) d:\\A_HIT_AI\\Hackathon\\new\\Video_Phase1\\Doto_103.mp4: 384x640 13 persons, 763.5ms\n"
          ]
        },
        {
          "name": "stdout",
          "output_type": "stream",
          "text": [
            "13\n"
          ]
        },
        {
          "name": "stderr",
          "output_type": "stream",
          "text": [
            "video 1/1 (793/900) d:\\A_HIT_AI\\Hackathon\\new\\Video_Phase1\\Doto_103.mp4: 384x640 14 persons, 765.5ms\n"
          ]
        },
        {
          "name": "stdout",
          "output_type": "stream",
          "text": [
            "14\n"
          ]
        },
        {
          "name": "stderr",
          "output_type": "stream",
          "text": [
            "video 1/1 (794/900) d:\\A_HIT_AI\\Hackathon\\new\\Video_Phase1\\Doto_103.mp4: 384x640 14 persons, 761.1ms\n"
          ]
        },
        {
          "name": "stdout",
          "output_type": "stream",
          "text": [
            "14\n"
          ]
        },
        {
          "name": "stderr",
          "output_type": "stream",
          "text": [
            "video 1/1 (795/900) d:\\A_HIT_AI\\Hackathon\\new\\Video_Phase1\\Doto_103.mp4: 384x640 16 persons, 759.7ms\n"
          ]
        },
        {
          "name": "stdout",
          "output_type": "stream",
          "text": [
            "16\n"
          ]
        },
        {
          "name": "stderr",
          "output_type": "stream",
          "text": [
            "video 1/1 (796/900) d:\\A_HIT_AI\\Hackathon\\new\\Video_Phase1\\Doto_103.mp4: 384x640 17 persons, 804.9ms\n"
          ]
        },
        {
          "name": "stdout",
          "output_type": "stream",
          "text": [
            "17\n"
          ]
        },
        {
          "name": "stderr",
          "output_type": "stream",
          "text": [
            "video 1/1 (797/900) d:\\A_HIT_AI\\Hackathon\\new\\Video_Phase1\\Doto_103.mp4: 384x640 17 persons, 804.0ms\n"
          ]
        },
        {
          "name": "stdout",
          "output_type": "stream",
          "text": [
            "17\n"
          ]
        },
        {
          "name": "stderr",
          "output_type": "stream",
          "text": [
            "video 1/1 (798/900) d:\\A_HIT_AI\\Hackathon\\new\\Video_Phase1\\Doto_103.mp4: 384x640 16 persons, 853.3ms\n"
          ]
        },
        {
          "name": "stdout",
          "output_type": "stream",
          "text": [
            "16\n"
          ]
        },
        {
          "name": "stderr",
          "output_type": "stream",
          "text": [
            "video 1/1 (799/900) d:\\A_HIT_AI\\Hackathon\\new\\Video_Phase1\\Doto_103.mp4: 384x640 15 persons, 881.4ms\n"
          ]
        },
        {
          "name": "stdout",
          "output_type": "stream",
          "text": [
            "15\n"
          ]
        },
        {
          "name": "stderr",
          "output_type": "stream",
          "text": [
            "video 1/1 (800/900) d:\\A_HIT_AI\\Hackathon\\new\\Video_Phase1\\Doto_103.mp4: 384x640 15 persons, 798.5ms\n"
          ]
        },
        {
          "name": "stdout",
          "output_type": "stream",
          "text": [
            "15\n"
          ]
        },
        {
          "name": "stderr",
          "output_type": "stream",
          "text": [
            "video 1/1 (801/900) d:\\A_HIT_AI\\Hackathon\\new\\Video_Phase1\\Doto_103.mp4: 384x640 14 persons, 993.3ms\n"
          ]
        },
        {
          "name": "stdout",
          "output_type": "stream",
          "text": [
            "14\n"
          ]
        },
        {
          "name": "stderr",
          "output_type": "stream",
          "text": [
            "video 1/1 (802/900) d:\\A_HIT_AI\\Hackathon\\new\\Video_Phase1\\Doto_103.mp4: 384x640 13 persons, 963.5ms\n"
          ]
        },
        {
          "name": "stdout",
          "output_type": "stream",
          "text": [
            "13\n"
          ]
        },
        {
          "name": "stderr",
          "output_type": "stream",
          "text": [
            "video 1/1 (803/900) d:\\A_HIT_AI\\Hackathon\\new\\Video_Phase1\\Doto_103.mp4: 384x640 13 persons, 892.9ms\n"
          ]
        },
        {
          "name": "stdout",
          "output_type": "stream",
          "text": [
            "13\n"
          ]
        },
        {
          "name": "stderr",
          "output_type": "stream",
          "text": [
            "video 1/1 (804/900) d:\\A_HIT_AI\\Hackathon\\new\\Video_Phase1\\Doto_103.mp4: 384x640 13 persons, 915.3ms\n"
          ]
        },
        {
          "name": "stdout",
          "output_type": "stream",
          "text": [
            "13\n"
          ]
        },
        {
          "name": "stderr",
          "output_type": "stream",
          "text": [
            "video 1/1 (805/900) d:\\A_HIT_AI\\Hackathon\\new\\Video_Phase1\\Doto_103.mp4: 384x640 14 persons, 929.1ms\n"
          ]
        },
        {
          "name": "stdout",
          "output_type": "stream",
          "text": [
            "14\n"
          ]
        },
        {
          "name": "stderr",
          "output_type": "stream",
          "text": [
            "video 1/1 (806/900) d:\\A_HIT_AI\\Hackathon\\new\\Video_Phase1\\Doto_103.mp4: 384x640 13 persons, 959.2ms\n"
          ]
        },
        {
          "name": "stdout",
          "output_type": "stream",
          "text": [
            "13\n"
          ]
        },
        {
          "name": "stderr",
          "output_type": "stream",
          "text": [
            "video 1/1 (807/900) d:\\A_HIT_AI\\Hackathon\\new\\Video_Phase1\\Doto_103.mp4: 384x640 13 persons, 842.8ms\n"
          ]
        },
        {
          "name": "stdout",
          "output_type": "stream",
          "text": [
            "13\n"
          ]
        },
        {
          "name": "stderr",
          "output_type": "stream",
          "text": [
            "video 1/1 (808/900) d:\\A_HIT_AI\\Hackathon\\new\\Video_Phase1\\Doto_103.mp4: 384x640 14 persons, 829.4ms\n"
          ]
        },
        {
          "name": "stdout",
          "output_type": "stream",
          "text": [
            "14\n"
          ]
        },
        {
          "name": "stderr",
          "output_type": "stream",
          "text": [
            "video 1/1 (809/900) d:\\A_HIT_AI\\Hackathon\\new\\Video_Phase1\\Doto_103.mp4: 384x640 14 persons, 804.9ms\n"
          ]
        },
        {
          "name": "stdout",
          "output_type": "stream",
          "text": [
            "14\n"
          ]
        },
        {
          "name": "stderr",
          "output_type": "stream",
          "text": [
            "video 1/1 (810/900) d:\\A_HIT_AI\\Hackathon\\new\\Video_Phase1\\Doto_103.mp4: 384x640 14 persons, 849.9ms\n"
          ]
        },
        {
          "name": "stdout",
          "output_type": "stream",
          "text": [
            "14\n"
          ]
        },
        {
          "name": "stderr",
          "output_type": "stream",
          "text": [
            "video 1/1 (811/900) d:\\A_HIT_AI\\Hackathon\\new\\Video_Phase1\\Doto_103.mp4: 384x640 14 persons, 892.9ms\n"
          ]
        },
        {
          "name": "stdout",
          "output_type": "stream",
          "text": [
            "14\n"
          ]
        },
        {
          "name": "stderr",
          "output_type": "stream",
          "text": [
            "video 1/1 (812/900) d:\\A_HIT_AI\\Hackathon\\new\\Video_Phase1\\Doto_103.mp4: 384x640 14 persons, 791.5ms\n"
          ]
        },
        {
          "name": "stdout",
          "output_type": "stream",
          "text": [
            "14\n"
          ]
        },
        {
          "name": "stderr",
          "output_type": "stream",
          "text": [
            "video 1/1 (813/900) d:\\A_HIT_AI\\Hackathon\\new\\Video_Phase1\\Doto_103.mp4: 384x640 13 persons, 802.7ms\n"
          ]
        },
        {
          "name": "stdout",
          "output_type": "stream",
          "text": [
            "13\n"
          ]
        },
        {
          "name": "stderr",
          "output_type": "stream",
          "text": [
            "video 1/1 (814/900) d:\\A_HIT_AI\\Hackathon\\new\\Video_Phase1\\Doto_103.mp4: 384x640 13 persons, 786.9ms\n"
          ]
        },
        {
          "name": "stdout",
          "output_type": "stream",
          "text": [
            "13\n"
          ]
        },
        {
          "name": "stderr",
          "output_type": "stream",
          "text": [
            "video 1/1 (815/900) d:\\A_HIT_AI\\Hackathon\\new\\Video_Phase1\\Doto_103.mp4: 384x640 13 persons, 792.1ms\n"
          ]
        },
        {
          "name": "stdout",
          "output_type": "stream",
          "text": [
            "13\n"
          ]
        },
        {
          "name": "stderr",
          "output_type": "stream",
          "text": [
            "video 1/1 (816/900) d:\\A_HIT_AI\\Hackathon\\new\\Video_Phase1\\Doto_103.mp4: 384x640 13 persons, 873.3ms\n"
          ]
        },
        {
          "name": "stdout",
          "output_type": "stream",
          "text": [
            "13\n"
          ]
        },
        {
          "name": "stderr",
          "output_type": "stream",
          "text": [
            "video 1/1 (817/900) d:\\A_HIT_AI\\Hackathon\\new\\Video_Phase1\\Doto_103.mp4: 384x640 13 persons, 779.9ms\n"
          ]
        },
        {
          "name": "stdout",
          "output_type": "stream",
          "text": [
            "13\n"
          ]
        },
        {
          "name": "stderr",
          "output_type": "stream",
          "text": [
            "video 1/1 (818/900) d:\\A_HIT_AI\\Hackathon\\new\\Video_Phase1\\Doto_103.mp4: 384x640 13 persons, 788.2ms\n"
          ]
        },
        {
          "name": "stdout",
          "output_type": "stream",
          "text": [
            "13\n"
          ]
        },
        {
          "name": "stderr",
          "output_type": "stream",
          "text": [
            "video 1/1 (819/900) d:\\A_HIT_AI\\Hackathon\\new\\Video_Phase1\\Doto_103.mp4: 384x640 13 persons, 755.7ms\n"
          ]
        },
        {
          "name": "stdout",
          "output_type": "stream",
          "text": [
            "13\n"
          ]
        },
        {
          "name": "stderr",
          "output_type": "stream",
          "text": [
            "video 1/1 (820/900) d:\\A_HIT_AI\\Hackathon\\new\\Video_Phase1\\Doto_103.mp4: 384x640 13 persons, 803.3ms\n"
          ]
        },
        {
          "name": "stdout",
          "output_type": "stream",
          "text": [
            "13\n"
          ]
        },
        {
          "name": "stderr",
          "output_type": "stream",
          "text": [
            "video 1/1 (821/900) d:\\A_HIT_AI\\Hackathon\\new\\Video_Phase1\\Doto_103.mp4: 384x640 13 persons, 866.5ms\n"
          ]
        },
        {
          "name": "stdout",
          "output_type": "stream",
          "text": [
            "13\n"
          ]
        },
        {
          "name": "stderr",
          "output_type": "stream",
          "text": [
            "video 1/1 (822/900) d:\\A_HIT_AI\\Hackathon\\new\\Video_Phase1\\Doto_103.mp4: 384x640 13 persons, 797.0ms\n"
          ]
        },
        {
          "name": "stdout",
          "output_type": "stream",
          "text": [
            "13\n"
          ]
        },
        {
          "name": "stderr",
          "output_type": "stream",
          "text": [
            "video 1/1 (823/900) d:\\A_HIT_AI\\Hackathon\\new\\Video_Phase1\\Doto_103.mp4: 384x640 13 persons, 765.6ms\n"
          ]
        },
        {
          "name": "stdout",
          "output_type": "stream",
          "text": [
            "13\n"
          ]
        },
        {
          "name": "stderr",
          "output_type": "stream",
          "text": [
            "video 1/1 (824/900) d:\\A_HIT_AI\\Hackathon\\new\\Video_Phase1\\Doto_103.mp4: 384x640 14 persons, 766.6ms\n"
          ]
        },
        {
          "name": "stdout",
          "output_type": "stream",
          "text": [
            "14\n"
          ]
        },
        {
          "name": "stderr",
          "output_type": "stream",
          "text": [
            "video 1/1 (825/900) d:\\A_HIT_AI\\Hackathon\\new\\Video_Phase1\\Doto_103.mp4: 384x640 14 persons, 827.4ms\n"
          ]
        },
        {
          "name": "stdout",
          "output_type": "stream",
          "text": [
            "14\n"
          ]
        },
        {
          "name": "stderr",
          "output_type": "stream",
          "text": [
            "video 1/1 (826/900) d:\\A_HIT_AI\\Hackathon\\new\\Video_Phase1\\Doto_103.mp4: 384x640 14 persons, 819.6ms\n"
          ]
        },
        {
          "name": "stdout",
          "output_type": "stream",
          "text": [
            "14\n"
          ]
        },
        {
          "name": "stderr",
          "output_type": "stream",
          "text": [
            "video 1/1 (827/900) d:\\A_HIT_AI\\Hackathon\\new\\Video_Phase1\\Doto_103.mp4: 384x640 14 persons, 773.1ms\n"
          ]
        },
        {
          "name": "stdout",
          "output_type": "stream",
          "text": [
            "14\n"
          ]
        },
        {
          "name": "stderr",
          "output_type": "stream",
          "text": [
            "video 1/1 (828/900) d:\\A_HIT_AI\\Hackathon\\new\\Video_Phase1\\Doto_103.mp4: 384x640 13 persons, 771.2ms\n"
          ]
        },
        {
          "name": "stdout",
          "output_type": "stream",
          "text": [
            "13\n"
          ]
        },
        {
          "name": "stderr",
          "output_type": "stream",
          "text": [
            "video 1/1 (829/900) d:\\A_HIT_AI\\Hackathon\\new\\Video_Phase1\\Doto_103.mp4: 384x640 14 persons, 765.6ms\n"
          ]
        },
        {
          "name": "stdout",
          "output_type": "stream",
          "text": [
            "14\n"
          ]
        },
        {
          "name": "stderr",
          "output_type": "stream",
          "text": [
            "video 1/1 (830/900) d:\\A_HIT_AI\\Hackathon\\new\\Video_Phase1\\Doto_103.mp4: 384x640 14 persons, 758.5ms\n"
          ]
        },
        {
          "name": "stdout",
          "output_type": "stream",
          "text": [
            "14\n"
          ]
        },
        {
          "name": "stderr",
          "output_type": "stream",
          "text": [
            "video 1/1 (831/900) d:\\A_HIT_AI\\Hackathon\\new\\Video_Phase1\\Doto_103.mp4: 384x640 14 persons, 820.7ms\n"
          ]
        },
        {
          "name": "stdout",
          "output_type": "stream",
          "text": [
            "14\n"
          ]
        },
        {
          "name": "stderr",
          "output_type": "stream",
          "text": [
            "video 1/1 (832/900) d:\\A_HIT_AI\\Hackathon\\new\\Video_Phase1\\Doto_103.mp4: 384x640 14 persons, 771.5ms\n"
          ]
        },
        {
          "name": "stdout",
          "output_type": "stream",
          "text": [
            "14\n"
          ]
        },
        {
          "name": "stderr",
          "output_type": "stream",
          "text": [
            "video 1/1 (833/900) d:\\A_HIT_AI\\Hackathon\\new\\Video_Phase1\\Doto_103.mp4: 384x640 15 persons, 762.9ms\n"
          ]
        },
        {
          "name": "stdout",
          "output_type": "stream",
          "text": [
            "15\n"
          ]
        },
        {
          "name": "stderr",
          "output_type": "stream",
          "text": [
            "video 1/1 (834/900) d:\\A_HIT_AI\\Hackathon\\new\\Video_Phase1\\Doto_103.mp4: 384x640 14 persons, 918.1ms\n"
          ]
        },
        {
          "name": "stdout",
          "output_type": "stream",
          "text": [
            "14\n"
          ]
        },
        {
          "name": "stderr",
          "output_type": "stream",
          "text": [
            "video 1/1 (835/900) d:\\A_HIT_AI\\Hackathon\\new\\Video_Phase1\\Doto_103.mp4: 384x640 14 persons, 857.9ms\n"
          ]
        },
        {
          "name": "stdout",
          "output_type": "stream",
          "text": [
            "14\n"
          ]
        },
        {
          "name": "stderr",
          "output_type": "stream",
          "text": [
            "video 1/1 (836/900) d:\\A_HIT_AI\\Hackathon\\new\\Video_Phase1\\Doto_103.mp4: 384x640 14 persons, 1071.2ms\n"
          ]
        },
        {
          "name": "stdout",
          "output_type": "stream",
          "text": [
            "14\n"
          ]
        },
        {
          "name": "stderr",
          "output_type": "stream",
          "text": [
            "video 1/1 (837/900) d:\\A_HIT_AI\\Hackathon\\new\\Video_Phase1\\Doto_103.mp4: 384x640 14 persons, 910.0ms\n"
          ]
        },
        {
          "name": "stdout",
          "output_type": "stream",
          "text": [
            "14\n"
          ]
        },
        {
          "name": "stderr",
          "output_type": "stream",
          "text": [
            "video 1/1 (838/900) d:\\A_HIT_AI\\Hackathon\\new\\Video_Phase1\\Doto_103.mp4: 384x640 14 persons, 931.9ms\n"
          ]
        },
        {
          "name": "stdout",
          "output_type": "stream",
          "text": [
            "14\n"
          ]
        },
        {
          "name": "stderr",
          "output_type": "stream",
          "text": [
            "video 1/1 (839/900) d:\\A_HIT_AI\\Hackathon\\new\\Video_Phase1\\Doto_103.mp4: 384x640 14 persons, 777.6ms\n"
          ]
        },
        {
          "name": "stdout",
          "output_type": "stream",
          "text": [
            "14\n"
          ]
        },
        {
          "name": "stderr",
          "output_type": "stream",
          "text": [
            "video 1/1 (840/900) d:\\A_HIT_AI\\Hackathon\\new\\Video_Phase1\\Doto_103.mp4: 384x640 15 persons, 777.0ms\n"
          ]
        },
        {
          "name": "stdout",
          "output_type": "stream",
          "text": [
            "15\n"
          ]
        },
        {
          "name": "stderr",
          "output_type": "stream",
          "text": [
            "video 1/1 (841/900) d:\\A_HIT_AI\\Hackathon\\new\\Video_Phase1\\Doto_103.mp4: 384x640 15 persons, 787.0ms\n"
          ]
        },
        {
          "name": "stdout",
          "output_type": "stream",
          "text": [
            "15\n"
          ]
        },
        {
          "name": "stderr",
          "output_type": "stream",
          "text": [
            "video 1/1 (842/900) d:\\A_HIT_AI\\Hackathon\\new\\Video_Phase1\\Doto_103.mp4: 384x640 15 persons, 746.1ms\n"
          ]
        },
        {
          "name": "stdout",
          "output_type": "stream",
          "text": [
            "15\n"
          ]
        },
        {
          "name": "stderr",
          "output_type": "stream",
          "text": [
            "video 1/1 (843/900) d:\\A_HIT_AI\\Hackathon\\new\\Video_Phase1\\Doto_103.mp4: 384x640 14 persons, 757.4ms\n"
          ]
        },
        {
          "name": "stdout",
          "output_type": "stream",
          "text": [
            "14\n"
          ]
        },
        {
          "name": "stderr",
          "output_type": "stream",
          "text": [
            "video 1/1 (844/900) d:\\A_HIT_AI\\Hackathon\\new\\Video_Phase1\\Doto_103.mp4: 384x640 14 persons, 847.3ms\n"
          ]
        },
        {
          "name": "stdout",
          "output_type": "stream",
          "text": [
            "14\n"
          ]
        },
        {
          "name": "stderr",
          "output_type": "stream",
          "text": [
            "video 1/1 (845/900) d:\\A_HIT_AI\\Hackathon\\new\\Video_Phase1\\Doto_103.mp4: 384x640 14 persons, 777.7ms\n"
          ]
        },
        {
          "name": "stdout",
          "output_type": "stream",
          "text": [
            "14\n"
          ]
        },
        {
          "name": "stderr",
          "output_type": "stream",
          "text": [
            "video 1/1 (846/900) d:\\A_HIT_AI\\Hackathon\\new\\Video_Phase1\\Doto_103.mp4: 384x640 14 persons, 872.2ms\n"
          ]
        },
        {
          "name": "stdout",
          "output_type": "stream",
          "text": [
            "14\n"
          ]
        },
        {
          "name": "stderr",
          "output_type": "stream",
          "text": [
            "video 1/1 (847/900) d:\\A_HIT_AI\\Hackathon\\new\\Video_Phase1\\Doto_103.mp4: 384x640 14 persons, 833.4ms\n"
          ]
        },
        {
          "name": "stdout",
          "output_type": "stream",
          "text": [
            "14\n"
          ]
        },
        {
          "name": "stderr",
          "output_type": "stream",
          "text": [
            "video 1/1 (848/900) d:\\A_HIT_AI\\Hackathon\\new\\Video_Phase1\\Doto_103.mp4: 384x640 14 persons, 777.6ms\n"
          ]
        },
        {
          "name": "stdout",
          "output_type": "stream",
          "text": [
            "14\n"
          ]
        },
        {
          "name": "stderr",
          "output_type": "stream",
          "text": [
            "video 1/1 (849/900) d:\\A_HIT_AI\\Hackathon\\new\\Video_Phase1\\Doto_103.mp4: 384x640 14 persons, 761.5ms\n"
          ]
        },
        {
          "name": "stdout",
          "output_type": "stream",
          "text": [
            "14\n"
          ]
        },
        {
          "name": "stderr",
          "output_type": "stream",
          "text": [
            "video 1/1 (850/900) d:\\A_HIT_AI\\Hackathon\\new\\Video_Phase1\\Doto_103.mp4: 384x640 13 persons, 771.8ms\n"
          ]
        },
        {
          "name": "stdout",
          "output_type": "stream",
          "text": [
            "13\n"
          ]
        },
        {
          "name": "stderr",
          "output_type": "stream",
          "text": [
            "video 1/1 (851/900) d:\\A_HIT_AI\\Hackathon\\new\\Video_Phase1\\Doto_103.mp4: 384x640 13 persons, 757.7ms\n"
          ]
        },
        {
          "name": "stdout",
          "output_type": "stream",
          "text": [
            "13\n"
          ]
        },
        {
          "name": "stderr",
          "output_type": "stream",
          "text": [
            "video 1/1 (852/900) d:\\A_HIT_AI\\Hackathon\\new\\Video_Phase1\\Doto_103.mp4: 384x640 12 persons, 755.8ms\n"
          ]
        },
        {
          "name": "stdout",
          "output_type": "stream",
          "text": [
            "12\n"
          ]
        },
        {
          "name": "stderr",
          "output_type": "stream",
          "text": [
            "video 1/1 (853/900) d:\\A_HIT_AI\\Hackathon\\new\\Video_Phase1\\Doto_103.mp4: 384x640 14 persons, 749.9ms\n"
          ]
        },
        {
          "name": "stdout",
          "output_type": "stream",
          "text": [
            "14\n"
          ]
        },
        {
          "name": "stderr",
          "output_type": "stream",
          "text": [
            "video 1/1 (854/900) d:\\A_HIT_AI\\Hackathon\\new\\Video_Phase1\\Doto_103.mp4: 384x640 14 persons, 767.0ms\n"
          ]
        },
        {
          "name": "stdout",
          "output_type": "stream",
          "text": [
            "14\n"
          ]
        },
        {
          "name": "stderr",
          "output_type": "stream",
          "text": [
            "video 1/1 (855/900) d:\\A_HIT_AI\\Hackathon\\new\\Video_Phase1\\Doto_103.mp4: 384x640 13 persons, 788.3ms\n"
          ]
        },
        {
          "name": "stdout",
          "output_type": "stream",
          "text": [
            "13\n"
          ]
        },
        {
          "name": "stderr",
          "output_type": "stream",
          "text": [
            "video 1/1 (856/900) d:\\A_HIT_AI\\Hackathon\\new\\Video_Phase1\\Doto_103.mp4: 384x640 13 persons, 786.7ms\n"
          ]
        },
        {
          "name": "stdout",
          "output_type": "stream",
          "text": [
            "13\n"
          ]
        },
        {
          "name": "stderr",
          "output_type": "stream",
          "text": [
            "video 1/1 (857/900) d:\\A_HIT_AI\\Hackathon\\new\\Video_Phase1\\Doto_103.mp4: 384x640 13 persons, 813.0ms\n"
          ]
        },
        {
          "name": "stdout",
          "output_type": "stream",
          "text": [
            "13\n"
          ]
        },
        {
          "name": "stderr",
          "output_type": "stream",
          "text": [
            "video 1/1 (858/900) d:\\A_HIT_AI\\Hackathon\\new\\Video_Phase1\\Doto_103.mp4: 384x640 13 persons, 773.1ms\n"
          ]
        },
        {
          "name": "stdout",
          "output_type": "stream",
          "text": [
            "13\n"
          ]
        },
        {
          "name": "stderr",
          "output_type": "stream",
          "text": [
            "video 1/1 (859/900) d:\\A_HIT_AI\\Hackathon\\new\\Video_Phase1\\Doto_103.mp4: 384x640 13 persons, 769.3ms\n"
          ]
        },
        {
          "name": "stdout",
          "output_type": "stream",
          "text": [
            "13\n"
          ]
        },
        {
          "name": "stderr",
          "output_type": "stream",
          "text": [
            "video 1/1 (860/900) d:\\A_HIT_AI\\Hackathon\\new\\Video_Phase1\\Doto_103.mp4: 384x640 14 persons, 774.8ms\n"
          ]
        },
        {
          "name": "stdout",
          "output_type": "stream",
          "text": [
            "14\n"
          ]
        },
        {
          "name": "stderr",
          "output_type": "stream",
          "text": [
            "video 1/1 (861/900) d:\\A_HIT_AI\\Hackathon\\new\\Video_Phase1\\Doto_103.mp4: 384x640 14 persons, 748.2ms\n"
          ]
        },
        {
          "name": "stdout",
          "output_type": "stream",
          "text": [
            "14\n"
          ]
        },
        {
          "name": "stderr",
          "output_type": "stream",
          "text": [
            "video 1/1 (862/900) d:\\A_HIT_AI\\Hackathon\\new\\Video_Phase1\\Doto_103.mp4: 384x640 14 persons, 756.6ms\n"
          ]
        },
        {
          "name": "stdout",
          "output_type": "stream",
          "text": [
            "14\n"
          ]
        },
        {
          "name": "stderr",
          "output_type": "stream",
          "text": [
            "video 1/1 (863/900) d:\\A_HIT_AI\\Hackathon\\new\\Video_Phase1\\Doto_103.mp4: 384x640 14 persons, 755.1ms\n"
          ]
        },
        {
          "name": "stdout",
          "output_type": "stream",
          "text": [
            "14\n"
          ]
        },
        {
          "name": "stderr",
          "output_type": "stream",
          "text": [
            "video 1/1 (864/900) d:\\A_HIT_AI\\Hackathon\\new\\Video_Phase1\\Doto_103.mp4: 384x640 14 persons, 756.4ms\n"
          ]
        },
        {
          "name": "stdout",
          "output_type": "stream",
          "text": [
            "14\n"
          ]
        },
        {
          "name": "stderr",
          "output_type": "stream",
          "text": [
            "video 1/1 (865/900) d:\\A_HIT_AI\\Hackathon\\new\\Video_Phase1\\Doto_103.mp4: 384x640 14 persons, 788.5ms\n"
          ]
        },
        {
          "name": "stdout",
          "output_type": "stream",
          "text": [
            "14\n"
          ]
        },
        {
          "name": "stderr",
          "output_type": "stream",
          "text": [
            "video 1/1 (866/900) d:\\A_HIT_AI\\Hackathon\\new\\Video_Phase1\\Doto_103.mp4: 384x640 15 persons, 750.1ms\n"
          ]
        },
        {
          "name": "stdout",
          "output_type": "stream",
          "text": [
            "15\n"
          ]
        },
        {
          "name": "stderr",
          "output_type": "stream",
          "text": [
            "video 1/1 (867/900) d:\\A_HIT_AI\\Hackathon\\new\\Video_Phase1\\Doto_103.mp4: 384x640 15 persons, 775.4ms\n"
          ]
        },
        {
          "name": "stdout",
          "output_type": "stream",
          "text": [
            "15\n"
          ]
        },
        {
          "name": "stderr",
          "output_type": "stream",
          "text": [
            "video 1/1 (868/900) d:\\A_HIT_AI\\Hackathon\\new\\Video_Phase1\\Doto_103.mp4: 384x640 15 persons, 802.3ms\n"
          ]
        },
        {
          "name": "stdout",
          "output_type": "stream",
          "text": [
            "15\n"
          ]
        },
        {
          "name": "stderr",
          "output_type": "stream",
          "text": [
            "video 1/1 (869/900) d:\\A_HIT_AI\\Hackathon\\new\\Video_Phase1\\Doto_103.mp4: 384x640 14 persons, 763.3ms\n"
          ]
        },
        {
          "name": "stdout",
          "output_type": "stream",
          "text": [
            "14\n"
          ]
        },
        {
          "name": "stderr",
          "output_type": "stream",
          "text": [
            "video 1/1 (870/900) d:\\A_HIT_AI\\Hackathon\\new\\Video_Phase1\\Doto_103.mp4: 384x640 15 persons, 772.3ms\n"
          ]
        },
        {
          "name": "stdout",
          "output_type": "stream",
          "text": [
            "15\n"
          ]
        },
        {
          "name": "stderr",
          "output_type": "stream",
          "text": [
            "video 1/1 (871/900) d:\\A_HIT_AI\\Hackathon\\new\\Video_Phase1\\Doto_103.mp4: 384x640 15 persons, 748.7ms\n"
          ]
        },
        {
          "name": "stdout",
          "output_type": "stream",
          "text": [
            "15\n"
          ]
        },
        {
          "name": "stderr",
          "output_type": "stream",
          "text": [
            "video 1/1 (872/900) d:\\A_HIT_AI\\Hackathon\\new\\Video_Phase1\\Doto_103.mp4: 384x640 14 persons, 792.2ms\n"
          ]
        },
        {
          "name": "stdout",
          "output_type": "stream",
          "text": [
            "14\n"
          ]
        },
        {
          "name": "stderr",
          "output_type": "stream",
          "text": [
            "video 1/1 (873/900) d:\\A_HIT_AI\\Hackathon\\new\\Video_Phase1\\Doto_103.mp4: 384x640 14 persons, 809.1ms\n"
          ]
        },
        {
          "name": "stdout",
          "output_type": "stream",
          "text": [
            "14\n"
          ]
        },
        {
          "name": "stderr",
          "output_type": "stream",
          "text": [
            "video 1/1 (874/900) d:\\A_HIT_AI\\Hackathon\\new\\Video_Phase1\\Doto_103.mp4: 384x640 14 persons, 772.8ms\n"
          ]
        },
        {
          "name": "stdout",
          "output_type": "stream",
          "text": [
            "14\n"
          ]
        },
        {
          "name": "stderr",
          "output_type": "stream",
          "text": [
            "video 1/1 (875/900) d:\\A_HIT_AI\\Hackathon\\new\\Video_Phase1\\Doto_103.mp4: 384x640 15 persons, 755.9ms\n"
          ]
        },
        {
          "name": "stdout",
          "output_type": "stream",
          "text": [
            "15\n"
          ]
        },
        {
          "name": "stderr",
          "output_type": "stream",
          "text": [
            "video 1/1 (876/900) d:\\A_HIT_AI\\Hackathon\\new\\Video_Phase1\\Doto_103.mp4: 384x640 16 persons, 766.0ms\n"
          ]
        },
        {
          "name": "stdout",
          "output_type": "stream",
          "text": [
            "16\n"
          ]
        },
        {
          "name": "stderr",
          "output_type": "stream",
          "text": [
            "video 1/1 (877/900) d:\\A_HIT_AI\\Hackathon\\new\\Video_Phase1\\Doto_103.mp4: 384x640 16 persons, 792.0ms\n"
          ]
        },
        {
          "name": "stdout",
          "output_type": "stream",
          "text": [
            "16\n"
          ]
        },
        {
          "name": "stderr",
          "output_type": "stream",
          "text": [
            "video 1/1 (878/900) d:\\A_HIT_AI\\Hackathon\\new\\Video_Phase1\\Doto_103.mp4: 384x640 15 persons, 880.5ms\n"
          ]
        },
        {
          "name": "stdout",
          "output_type": "stream",
          "text": [
            "15\n"
          ]
        },
        {
          "name": "stderr",
          "output_type": "stream",
          "text": [
            "video 1/1 (879/900) d:\\A_HIT_AI\\Hackathon\\new\\Video_Phase1\\Doto_103.mp4: 384x640 13 persons, 812.5ms\n"
          ]
        },
        {
          "name": "stdout",
          "output_type": "stream",
          "text": [
            "13\n"
          ]
        },
        {
          "name": "stderr",
          "output_type": "stream",
          "text": [
            "video 1/1 (880/900) d:\\A_HIT_AI\\Hackathon\\new\\Video_Phase1\\Doto_103.mp4: 384x640 13 persons, 796.9ms\n"
          ]
        },
        {
          "name": "stdout",
          "output_type": "stream",
          "text": [
            "13\n"
          ]
        },
        {
          "name": "stderr",
          "output_type": "stream",
          "text": [
            "video 1/1 (881/900) d:\\A_HIT_AI\\Hackathon\\new\\Video_Phase1\\Doto_103.mp4: 384x640 13 persons, 790.1ms\n"
          ]
        },
        {
          "name": "stdout",
          "output_type": "stream",
          "text": [
            "13\n"
          ]
        },
        {
          "name": "stderr",
          "output_type": "stream",
          "text": [
            "video 1/1 (882/900) d:\\A_HIT_AI\\Hackathon\\new\\Video_Phase1\\Doto_103.mp4: 384x640 12 persons, 834.1ms\n"
          ]
        },
        {
          "name": "stdout",
          "output_type": "stream",
          "text": [
            "12\n"
          ]
        },
        {
          "name": "stderr",
          "output_type": "stream",
          "text": [
            "video 1/1 (883/900) d:\\A_HIT_AI\\Hackathon\\new\\Video_Phase1\\Doto_103.mp4: 384x640 12 persons, 772.5ms\n"
          ]
        },
        {
          "name": "stdout",
          "output_type": "stream",
          "text": [
            "12\n"
          ]
        },
        {
          "name": "stderr",
          "output_type": "stream",
          "text": [
            "video 1/1 (884/900) d:\\A_HIT_AI\\Hackathon\\new\\Video_Phase1\\Doto_103.mp4: 384x640 12 persons, 750.6ms\n"
          ]
        },
        {
          "name": "stdout",
          "output_type": "stream",
          "text": [
            "12\n"
          ]
        },
        {
          "name": "stderr",
          "output_type": "stream",
          "text": [
            "video 1/1 (885/900) d:\\A_HIT_AI\\Hackathon\\new\\Video_Phase1\\Doto_103.mp4: 384x640 12 persons, 755.2ms\n"
          ]
        },
        {
          "name": "stdout",
          "output_type": "stream",
          "text": [
            "12\n"
          ]
        },
        {
          "name": "stderr",
          "output_type": "stream",
          "text": [
            "video 1/1 (886/900) d:\\A_HIT_AI\\Hackathon\\new\\Video_Phase1\\Doto_103.mp4: 384x640 12 persons, 797.0ms\n"
          ]
        },
        {
          "name": "stdout",
          "output_type": "stream",
          "text": [
            "12\n"
          ]
        },
        {
          "name": "stderr",
          "output_type": "stream",
          "text": [
            "video 1/1 (887/900) d:\\A_HIT_AI\\Hackathon\\new\\Video_Phase1\\Doto_103.mp4: 384x640 12 persons, 766.3ms\n"
          ]
        },
        {
          "name": "stdout",
          "output_type": "stream",
          "text": [
            "12\n"
          ]
        },
        {
          "name": "stderr",
          "output_type": "stream",
          "text": [
            "video 1/1 (888/900) d:\\A_HIT_AI\\Hackathon\\new\\Video_Phase1\\Doto_103.mp4: 384x640 13 persons, 741.4ms\n"
          ]
        },
        {
          "name": "stdout",
          "output_type": "stream",
          "text": [
            "13\n"
          ]
        },
        {
          "name": "stderr",
          "output_type": "stream",
          "text": [
            "video 1/1 (889/900) d:\\A_HIT_AI\\Hackathon\\new\\Video_Phase1\\Doto_103.mp4: 384x640 11 persons, 775.4ms\n"
          ]
        },
        {
          "name": "stdout",
          "output_type": "stream",
          "text": [
            "11\n"
          ]
        },
        {
          "name": "stderr",
          "output_type": "stream",
          "text": [
            "video 1/1 (890/900) d:\\A_HIT_AI\\Hackathon\\new\\Video_Phase1\\Doto_103.mp4: 384x640 13 persons, 778.4ms\n"
          ]
        },
        {
          "name": "stdout",
          "output_type": "stream",
          "text": [
            "13\n"
          ]
        },
        {
          "name": "stderr",
          "output_type": "stream",
          "text": [
            "video 1/1 (891/900) d:\\A_HIT_AI\\Hackathon\\new\\Video_Phase1\\Doto_103.mp4: 384x640 13 persons, 802.4ms\n"
          ]
        },
        {
          "name": "stdout",
          "output_type": "stream",
          "text": [
            "13\n"
          ]
        },
        {
          "name": "stderr",
          "output_type": "stream",
          "text": [
            "video 1/1 (892/900) d:\\A_HIT_AI\\Hackathon\\new\\Video_Phase1\\Doto_103.mp4: 384x640 14 persons, 750.2ms\n"
          ]
        },
        {
          "name": "stdout",
          "output_type": "stream",
          "text": [
            "14\n"
          ]
        },
        {
          "name": "stderr",
          "output_type": "stream",
          "text": [
            "video 1/1 (893/900) d:\\A_HIT_AI\\Hackathon\\new\\Video_Phase1\\Doto_103.mp4: 384x640 14 persons, 795.3ms\n"
          ]
        },
        {
          "name": "stdout",
          "output_type": "stream",
          "text": [
            "14\n"
          ]
        },
        {
          "name": "stderr",
          "output_type": "stream",
          "text": [
            "video 1/1 (894/900) d:\\A_HIT_AI\\Hackathon\\new\\Video_Phase1\\Doto_103.mp4: 384x640 14 persons, 864.6ms\n"
          ]
        },
        {
          "name": "stdout",
          "output_type": "stream",
          "text": [
            "14\n"
          ]
        },
        {
          "name": "stderr",
          "output_type": "stream",
          "text": [
            "video 1/1 (895/900) d:\\A_HIT_AI\\Hackathon\\new\\Video_Phase1\\Doto_103.mp4: 384x640 14 persons, 1026.1ms\n"
          ]
        },
        {
          "name": "stdout",
          "output_type": "stream",
          "text": [
            "14\n"
          ]
        },
        {
          "name": "stderr",
          "output_type": "stream",
          "text": [
            "video 1/1 (896/900) d:\\A_HIT_AI\\Hackathon\\new\\Video_Phase1\\Doto_103.mp4: 384x640 15 persons, 966.5ms\n"
          ]
        },
        {
          "name": "stdout",
          "output_type": "stream",
          "text": [
            "15\n"
          ]
        },
        {
          "name": "stderr",
          "output_type": "stream",
          "text": [
            "video 1/1 (897/900) d:\\A_HIT_AI\\Hackathon\\new\\Video_Phase1\\Doto_103.mp4: 384x640 14 persons, 910.8ms\n"
          ]
        },
        {
          "name": "stdout",
          "output_type": "stream",
          "text": [
            "14\n"
          ]
        },
        {
          "name": "stderr",
          "output_type": "stream",
          "text": [
            "video 1/1 (898/900) d:\\A_HIT_AI\\Hackathon\\new\\Video_Phase1\\Doto_103.mp4: 384x640 14 persons, 1000.7ms\n"
          ]
        },
        {
          "name": "stdout",
          "output_type": "stream",
          "text": [
            "14\n"
          ]
        },
        {
          "name": "stderr",
          "output_type": "stream",
          "text": [
            "video 1/1 (899/900) d:\\A_HIT_AI\\Hackathon\\new\\Video_Phase1\\Doto_103.mp4: 384x640 13 persons, 910.9ms\n"
          ]
        },
        {
          "name": "stdout",
          "output_type": "stream",
          "text": [
            "13\n"
          ]
        },
        {
          "name": "stderr",
          "output_type": "stream",
          "text": [
            "video 1/1 (900/900) d:\\A_HIT_AI\\Hackathon\\new\\Video_Phase1\\Doto_103.mp4: 384x640 13 persons, 824.7ms\n"
          ]
        },
        {
          "name": "stdout",
          "output_type": "stream",
          "text": [
            "13\n"
          ]
        },
        {
          "name": "stderr",
          "output_type": "stream",
          "text": [
            "Speed: 3.1ms preprocess, 867.0ms inference, 1.8ms postprocess per image at shape (1, 3, 384, 640)\n"
          ]
        }
      ],
      "source": [
        "from ultralytics import YOLO\n",
        "import cv2 \n",
        "import supervision as sv\n",
        "import os\n",
        "os.environ[\"KMP_DUPLICATE_LIB_OK\"]=\"TRUE\"\n",
        "\n",
        "def trackkk():\n",
        "    model = YOLO('yolov8x.pt')\n",
        "\n",
        "    file_path = \"result.txt\"\n",
        "    file = open(file_path, \"a\")\n",
        "\n",
        "    no_frame = 1\n",
        "\n",
        "    for result in model.track(source=\"Video_Phase1\\Doto_103.mp4\",stream=True, conf=0.3, iou=0.7, show=True, classes = [0]):\n",
        "        \n",
        "        idbox = result.boxes.id.cpu().numpy().astype(int)\n",
        "        bbox = result.boxes.xyxy.cpu().numpy().astype(int)\n",
        "\n",
        "        print(idbox.size)\n",
        "        for i in range(0, idbox.size):\n",
        "            file.write(\"{},{},{},{},{},{},{},{}\\n\".format(no_frame ,i ,bbox[i][0],bbox[i][1],bbox[i][2] - bbox[i][0],bbox[i][3]-bbox[i][1],0, 1)) \n",
        "        no_frame += 1\n",
        "        \n",
        "if __name__ == \"__main__\":\n",
        "    \n",
        "    trackkk()"
      ]
    }
  ],
  "metadata": {
    "colab": {
      "provenance": []
    },
    "kernelspec": {
      "display_name": "Python 3",
      "name": "python3"
    },
    "language_info": {
      "codemirror_mode": {
        "name": "ipython",
        "version": 3
      },
      "file_extension": ".py",
      "mimetype": "text/x-python",
      "name": "python",
      "nbconvert_exporter": "python",
      "pygments_lexer": "ipython3",
      "version": "3.8.17"
    }
  },
  "nbformat": 4,
  "nbformat_minor": 0
}
