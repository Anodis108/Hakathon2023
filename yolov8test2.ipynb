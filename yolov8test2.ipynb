{
  "nbformat": 4,
  "nbformat_minor": 0,
  "metadata": {
    "colab": {
      "provenance": []
    },
    "kernelspec": {
      "name": "python3",
      "display_name": "Python 3"
    },
    "language_info": {
      "name": "python"
    }
  },
  "cells": [
    {
      "cell_type": "code",
      "execution_count": null,
      "metadata": {
        "id": "NBaCrbAIA4Gc"
      },
      "outputs": [],
      "source": [
        "!pip install ultralytics\n"
      ]
    },
    {
      "cell_type": "code",
      "source": [
        "!pip install tracker"
      ],
      "metadata": {
        "id": "bDWUhMc9k1WR"
      },
      "execution_count": null,
      "outputs": []
    },
    {
      "cell_type": "code",
      "source": [
        "!pip install supervision"
      ],
      "metadata": {
        "id": "Z0Haqse02GIZ"
      },
      "execution_count": null,
      "outputs": []
    },
    {
      "cell_type": "code",
      "source": [
        "#Tạm thời đang lỗi\n",
        "!pip install pytube\n",
        "!mkdir img_croped\n",
        "from pytube import YouTube\n",
        "def download_video_from_youtube(link, path):\n",
        "    yt = YouTube(link)\n",
        "    video = yt.streams.get_highest_resolution()\n",
        "    video.download(path)\n",
        "download_video_from_youtube('https://www.youtube.com/watch?v=WvhYuDvH17I', '/content/img_croped')"
      ],
      "metadata": {
        "id": "ygxsIekvpzTK"
      },
      "execution_count": null,
      "outputs": []
    },
    {
      "cell_type": "code",
      "source": [
        "# Import\n",
        "from ultralytics import YOLO\n",
        "import cv2\n",
        "import numpy as np\n",
        "import os\n",
        "from PIL import Image\n",
        "import supervision as sv\n",
        "# from tracker import Tracker\n"
      ],
      "metadata": {
        "id": "B9Mjn5BSKoU-"
      },
      "execution_count": null,
      "outputs": []
    },
    {
      "cell_type": "code",
      "source": [
        "#!yolo detect train data=coco128.yaml model=yolov8n.pt epochs=100 imgsz=640 device=mps\n",
        "model = YOLO('yolov8x.pt')\n",
        "results = model.predict('https://ultralytics.com/images/bus.jpg', classes = [0])"
      ],
      "metadata": {
        "id": "ChrbqUWXB4NM",
        "colab": {
          "base_uri": "https://localhost:8080/"
        },
        "outputId": "b2200a56-6b8b-4c23-e302-e752c18a565c"
      },
      "execution_count": null,
      "outputs": [
        {
          "output_type": "stream",
          "name": "stderr",
          "text": [
            "Downloading https://github.com/ultralytics/assets/releases/download/v0.0.0/yolov8x.pt to 'yolov8x.pt'...\n",
            "100%|██████████| 131M/131M [00:03<00:00, 38.1MB/s]\n",
            "\n",
            "Downloading https://ultralytics.com/images/bus.jpg to 'bus.jpg'...\n",
            "100%|██████████| 476k/476k [00:00<00:00, 3.17MB/s]\n",
            "image 1/1 /content/bus.jpg: 640x480 5 persons, 4160.2ms\n",
            "Speed: 20.4ms preprocess, 4160.2ms inference, 34.1ms postprocess per image at shape (1, 3, 640, 480)\n"
          ]
        }
      ]
    },
    {
      "cell_type": "code",
      "source": [
        "!rm *.jpg"
      ],
      "metadata": {
        "id": "BrA3iaMBYo43"
      },
      "execution_count": null,
      "outputs": []
    },
    {
      "cell_type": "code",
      "source": [
        "def draw_in_img():\n",
        "  for r in results:\n",
        "      im_array = r.plot()  # plot a BGR numpy array of predictions\n",
        "      im = Image.fromarray(im_array[..., ::-1])  # RGB PIL image\n",
        "      #im.show()  # show image\n",
        "      im.save('results.jpg')  # save image\n",
        "draw_in_img()"
      ],
      "metadata": {
        "id": "u5Abs0jSDxrG"
      },
      "execution_count": null,
      "outputs": []
    },
    {
      "cell_type": "code",
      "source": [
        "results[0].names[0]"
      ],
      "metadata": {
        "colab": {
          "base_uri": "https://localhost:8080/",
          "height": 36
        },
        "id": "1H3UXGtQmpVl",
        "outputId": "cfecda93-b3a1-49a1-976d-e5c575867369"
      },
      "execution_count": null,
      "outputs": [
        {
          "output_type": "execute_result",
          "data": {
            "text/plain": [
              "'person'"
            ],
            "application/vnd.google.colaboratory.intrinsic+json": {
              "type": "string"
            }
          },
          "metadata": {},
          "execution_count": 18
        }
      ]
    },
    {
      "cell_type": "code",
      "source": [
        "results[0].boxes.cls.numpy()"
      ],
      "metadata": {
        "colab": {
          "base_uri": "https://localhost:8080/"
        },
        "id": "n39GzVlH_Tsd",
        "outputId": "30ba2309-91f0-4887-ad0a-fd6cdf3af2ca"
      },
      "execution_count": null,
      "outputs": [
        {
          "output_type": "execute_result",
          "data": {
            "text/plain": [
              "array([          5,           0,           0,           0,           0,           0,           1], dtype=float32)"
            ]
          },
          "metadata": {},
          "execution_count": 19
        }
      ]
    },
    {
      "cell_type": "code",
      "source": [
        "results[0].boxes.xyxy.int().numpy()"
      ],
      "metadata": {
        "colab": {
          "base_uri": "https://localhost:8080/"
        },
        "id": "KjreTuWREu0v",
        "outputId": "833fae42-a23c-4b2e-dd63-3663726ac526"
      },
      "execution_count": null,
      "outputs": [
        {
          "output_type": "execute_result",
          "data": {
            "text/plain": [
              "array([[   1,  230,  804,  741],\n",
              "       [ 668,  392,  809,  879],\n",
              "       [  50,  398,  247,  900],\n",
              "       [ 221,  406,  343,  860],\n",
              "       [   0,  550,   78,  872],\n",
              "       [   0,  550,   79, 1064],\n",
              "       [ 666,   15,  748,   90]], dtype=int32)"
            ]
          },
          "metadata": {},
          "execution_count": 20
        }
      ]
    },
    {
      "cell_type": "code",
      "source": [
        "\n",
        "def detect_img(results):\n",
        "  i = 0\n",
        "  img = cv2.imread(source)\n",
        "  bboxs = results[0].boxes\n",
        "  for j, bbox in enumerate(bboxs):\n",
        "    if bbox.cls == 0:\n",
        "      bb = bbox.xyxy[0].int().numpy()\n",
        "      im = img[bb[1]:bb[3], bb[0]:bb[2]]\n",
        "      cv2.imwrite(f'{i}_{j}.jpg', im)\n",
        "\n",
        "detect_img(results)\n"
      ],
      "metadata": {
        "id": "xWzrv4JCErfZ"
      },
      "execution_count": null,
      "outputs": []
    },
    {
      "cell_type": "markdown",
      "source": [
        "Video\n"
      ],
      "metadata": {
        "id": "ZwAY-3zbEw05"
      }
    },
    {
      "cell_type": "code",
      "source": [
        "result = source = '.mp4'\n",
        "results = model(source)\n"
      ],
      "metadata": {
        "id": "ll_WX4grEwWm"
      },
      "execution_count": null,
      "outputs": []
    },
    {
      "cell_type": "code",
      "source": [
        "!mkdir img_croped"
      ],
      "metadata": {
        "colab": {
          "base_uri": "https://localhost:8080/"
        },
        "id": "kPmL6bPB5NOk",
        "outputId": "db0977d5-c313-4acd-c80f-c6f2594132fc"
      },
      "execution_count": null,
      "outputs": [
        {
          "output_type": "stream",
          "name": "stdout",
          "text": [
            "mkdir: cannot create directory ‘img_croped’: File exists\n"
          ]
        }
      ]
    },
    {
      "cell_type": "code",
      "source": [
        "fourcc = cv2.VideoWriter_fourcc(*'XVID')\n",
        "out = cv2.VideoWriter('output.avi', fourcc, 20.0, (640, 480))"
      ],
      "metadata": {
        "id": "SrOkmrD4ywf6"
      },
      "execution_count": null,
      "outputs": []
    },
    {
      "cell_type": "code",
      "source": [
        "!mkdir img_croped\n",
        "cap = cv2.VideoCapture('/content/y2meta.com-YAMAHA GREEN SLOW MOBILITY で観光地をもっと自由に　もっと楽しく　Short ver.-(1080p).mp4')\n",
        "\n",
        "if (cap.isOpened()== False):\n",
        "\tprint(\"Error opening video file\")\n",
        "\n",
        "i = 0\n",
        "while(cap.isOpened()):\n",
        "  ret, frame = cap.read()\n",
        "  if ret == True:\n",
        "    print(frame)\n",
        "    cv2.imwrite(f'content/frame/{i}.jpg', frame)\n",
        "    result = model(frame)[0]\n",
        "    for j, bbox in enumerate(result.boxes.xyxy.int().numpy()):\n",
        "      print(bbox)\n",
        "      print(4)\n",
        "      img = frame[bbox[1]:bbox[3], bbox[0]:bbox[2]]\n",
        "      cv2.imwrite(f'img_croped/{i}_{j}.jpg', img)\n",
        "    print(result.boxes.xyxy.int().numpy())\n",
        "    #cv2.imshow('Frame', frame)\n",
        "    # if cv2.waitKey(25) & 0xFF == ord('q'):\n",
        "  #       break\n",
        "  # else:\n",
        "  #   break\n",
        "  i += 1\n",
        "\n",
        "  if i > 100:\n",
        "    break\n",
        "\n",
        "\n",
        "cap.release()\n",
        "\n",
        "#cv2.destroyAllWindows()"
      ],
      "metadata": {
        "id": "J2_ob4ZBI_df"
      },
      "execution_count": null,
      "outputs": []
    },
    {
      "cell_type": "code",
      "source": [
        "model = YOLO('yolov8n.pt')\n",
        "source = '/content/y2meta.com-YAMAHA GREEN SLOW MOBILITY で観光地をもっと自由に　もっと楽しく　Short ver.-(1080p).mp4'\n",
        "results = model(source, stream=True)"
      ],
      "metadata": {
        "colab": {
          "base_uri": "https://localhost:8080/"
        },
        "id": "5xeuJ41pdZAv",
        "outputId": "bb53626d-0e30-4a86-acb1-578358d26550"
      },
      "execution_count": null,
      "outputs": [
        {
          "output_type": "stream",
          "name": "stderr",
          "text": [
            "Downloading https://github.com/ultralytics/assets/releases/download/v0.0.0/yolov8n.pt to 'yolov8n.pt'...\n",
            "100%|██████████| 6.23M/6.23M [00:00<00:00, 76.5MB/s]\n"
          ]
        }
      ]
    },
    {
      "cell_type": "code",
      "source": [
        "path = os.path.join('.', 'data', '/content/y2meta.com-YAMAHA GREEN SLOW MOBILITY で観光地をもっと自由に　もっと楽しく　Short ver.-(1080p).mp4')\n",
        "\n",
        "cap = cv2.VideoCapture(path)\n",
        "ret, frame = cap.read()\n",
        "\n",
        "model = YOLO('yolov8n.pt')\n",
        "while ret:\n",
        "  results = model(frame)\n",
        "\n",
        "  for result in results:\n",
        "    detecttion = []\n",
        "    for r in result.boxes.data.tolist().int():\n",
        "      x1, y1, x2, y2, score, class_id = r\n",
        "      detecttion.append([x1, y1, x2, y2, score])\n",
        "\n",
        "  #cv2.imshow('frame', frame)\n",
        "  cv2.waitKey(27)\n"
      ],
      "metadata": {
        "id": "hAHIKerBgJJ6"
      },
      "execution_count": null,
      "outputs": []
    },
    {
      "cell_type": "code",
      "source": [
        "from ultralytics import YOLO\n",
        "import cv2\n",
        "from ultralytics.utils.plotting import Annotator"
      ],
      "metadata": {
        "id": "mOM185bE0IA2"
      },
      "execution_count": null,
      "outputs": []
    },
    {
      "cell_type": "code",
      "source": [
        "path = \"/content/img_croped/Shopping People Commerce Mall Many Crowd Walking   Free Stock video footage   YouTube.mp4\""
      ],
      "metadata": {
        "id": "HEp3RJfGz4fE"
      },
      "execution_count": null,
      "outputs": []
    },
    {
      "cell_type": "code",
      "source": [
        "fourcc = cv2.VideoWriter_fourcc(*'XVID')\n",
        "out = cv2.VideoWriter('output.avi', fourcc, 20.0, (640, 480))"
      ],
      "metadata": {
        "id": "Bg7SLC-z0Gui"
      },
      "execution_count": null,
      "outputs": []
    },
    {
      "cell_type": "code",
      "source": [
        "model = YOLO('yolov8m.pt')\n",
        "cap = cv2.VideoCapture(path)\n",
        "\n",
        "while True:\n",
        "    _, img = cap.read()\n",
        "\n",
        "    results = model.predict(img, classes =[0], verbose = True)\n",
        "\n",
        "    for r in results:\n",
        "\n",
        "        annotator = Annotator(img)\n",
        "\n",
        "        boxes = r.boxes\n",
        "        for box in boxes:\n",
        "\n",
        "            b = box.xyxy[0]  # get box coordinates in (top, left, bottom, right) format\n",
        "            c = box.cls\n",
        "            annotator.box_label(b, model.names[int(c)])\n",
        "\n",
        "    img = annotator.result()\n",
        "    #cv2.imshow('YOLO V8 Detection', img)\n",
        "    out.write(img)\n",
        "    if cv2.waitKey(1) & 0xFF == ord(' '):\n",
        "        break\n",
        "\n",
        "cap.release()\n",
        "cv2.destroyAllWindows()"
      ],
      "metadata": {
        "id": "Xfx5FDhDiUJB"
      },
      "execution_count": null,
      "outputs": []
    },
    {
      "cell_type": "markdown",
      "source": [
        "Tracking\n"
      ],
      "metadata": {
        "id": "XAFaiVRvx_Y9"
      }
    },
    {
      "cell_type": "code",
      "source": [
        "from logging import config\n",
        "def trackkk():\n",
        "  model = YOLO('yolov8m.pt')\n",
        "\n",
        "  box_annotator = sv.BoxAnnotator{\n",
        "      thickness = 2,\n",
        "      text_thickness = 1,\n",
        "      text_scale=0.5\n",
        "  }\n",
        "  for result in model.track(source=\"/content/img_croped/Shopping People Commerce Mall Many Crowd Walking   Free Stock video footage   YouTube.mp4\", conf=0.3, iou=0.7, show=True, classes = [0]):\n",
        "\n",
        "    frame = result.orig_img\n",
        "    detections = sv.Detections.from_yolov8(result)\n",
        "\n",
        "    if result.boxes.id is not None:\n",
        "      datections.tracker_id = result.boxes.id.cpu().numpy().astype(int)\n",
        "\n",
        "    detections = detections[detections.class_id == 0]\n",
        "    labels = {\n",
        "        f\"#{tracker_id} {model.model.names[class_id]} {confidence:0.2f}\"\n",
        "        for _, confidence, class_is, tracker_id\n",
        "        in detections\n",
        "    }\n",
        "\n",
        "    frame = box_annotator.annotate(scene=frame, detections=detections, labels=labels)\n",
        "\n",
        "    cv2.imshow('yolov8', frame)\n",
        "\n",
        "\n",
        "    if (cv.waitKey(30) == 27):\n",
        "      break"
      ],
      "metadata": {
        "id": "NKkQQE8YyAWu"
      },
      "execution_count": null,
      "outputs": []
    }
  ]
}